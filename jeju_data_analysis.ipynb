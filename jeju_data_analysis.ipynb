{
  "nbformat": 4,
  "nbformat_minor": 0,
  "metadata": {
    "colab": {
      "name": "jeju_data_analysis.ipynb",
      "provenance": [],
      "collapsed_sections": [],
      "machine_shape": "hm",
      "include_colab_link": true
    },
    "kernelspec": {
      "name": "python3",
      "display_name": "Python 3"
    }
  },
  "cells": [
    {
      "cell_type": "markdown",
      "metadata": {
        "id": "view-in-github",
        "colab_type": "text"
      },
      "source": [
        "<a href=\"https://colab.research.google.com/github/kim-bo-saeng/dacon_jeju/blob/master/jeju_data_analysis.ipynb\" target=\"_parent\"><img src=\"https://colab.research.google.com/assets/colab-badge.svg\" alt=\"Open In Colab\"/></a>"
      ]
    },
    {
      "cell_type": "code",
      "metadata": {
        "id": "JGBX2ZPi8iTT",
        "colab_type": "code",
        "colab": {
          "base_uri": "https://localhost:8080/",
          "height": 35
        },
        "outputId": "c4b6e44b-1cbb-4f8a-aa6b-d9815e1d48e2"
      },
      "source": [
        "from google.colab import drive\n",
        "drive.mount('/gdrive')"
      ],
      "execution_count": 46,
      "outputs": [
        {
          "output_type": "stream",
          "text": [
            "Drive already mounted at /gdrive; to attempt to forcibly remount, call drive.mount(\"/gdrive\", force_remount=True).\n"
          ],
          "name": "stdout"
        }
      ]
    },
    {
      "cell_type": "markdown",
      "metadata": {
        "id": "aIrEJ7-R88rJ",
        "colab_type": "text"
      },
      "source": [
        "### 라이브러리 가져오기"
      ]
    },
    {
      "cell_type": "code",
      "metadata": {
        "id": "BoPHDAyYQkCK",
        "colab_type": "code",
        "colab": {}
      },
      "source": [
        "import pandas as pd\n",
        "import numpy as np\n",
        "import sklearn as sk\n",
        "import matplotlib.pyplot as plt\n",
        "import seaborn as sns\n",
        "from sklearn.ensemble import RandomForestRegressor, GradientBoostingRegressor\n",
        "from sklearn.tree import DecisionTreeRegressor\n",
        "from sklearn.model_selection import RandomizedSearchCV\n",
        "from sklearn.model_selection import cross_val_predict\n",
        "from sklearn.metrics import r2_score\n",
        "from sklearn.preprocessing import LabelEncoder\n",
        "from sklearn.metrics import mean_squared_log_error"
      ],
      "execution_count": 47,
      "outputs": []
    },
    {
      "cell_type": "markdown",
      "metadata": {
        "id": "j2TkiTuH9GD4",
        "colab_type": "text"
      },
      "source": [
        "### 데이터 전처리"
      ]
    },
    {
      "cell_type": "code",
      "metadata": {
        "id": "yaWLNZf6xLBd",
        "colab_type": "code",
        "colab": {
          "base_uri": "https://localhost:8080/",
          "height": 222
        },
        "outputId": "051ae13e-dc8c-4a1a-e181-a3520e7c5c2d"
      },
      "source": [
        "row_data = pd.read_csv('/gdrive/My Drive/data_analysis/jeju/201901-202003.csv')\n",
        "print(row_data.shape)\n",
        "row_data.tail()"
      ],
      "execution_count": 48,
      "outputs": [
        {
          "output_type": "stream",
          "text": [
            "(24697792, 12)\n"
          ],
          "name": "stdout"
        },
        {
          "output_type": "execute_result",
          "data": {
            "text/html": [
              "<div>\n",
              "<style scoped>\n",
              "    .dataframe tbody tr th:only-of-type {\n",
              "        vertical-align: middle;\n",
              "    }\n",
              "\n",
              "    .dataframe tbody tr th {\n",
              "        vertical-align: top;\n",
              "    }\n",
              "\n",
              "    .dataframe thead th {\n",
              "        text-align: right;\n",
              "    }\n",
              "</style>\n",
              "<table border=\"1\" class=\"dataframe\">\n",
              "  <thead>\n",
              "    <tr style=\"text-align: right;\">\n",
              "      <th></th>\n",
              "      <th>REG_YYMM</th>\n",
              "      <th>CARD_SIDO_NM</th>\n",
              "      <th>CARD_CCG_NM</th>\n",
              "      <th>STD_CLSS_NM</th>\n",
              "      <th>HOM_SIDO_NM</th>\n",
              "      <th>HOM_CCG_NM</th>\n",
              "      <th>AGE</th>\n",
              "      <th>SEX_CTGO_CD</th>\n",
              "      <th>FLC</th>\n",
              "      <th>CSTMR_CNT</th>\n",
              "      <th>AMT</th>\n",
              "      <th>CNT</th>\n",
              "    </tr>\n",
              "  </thead>\n",
              "  <tbody>\n",
              "    <tr>\n",
              "      <th>24697787</th>\n",
              "      <td>202003</td>\n",
              "      <td>충북</td>\n",
              "      <td>충주시</td>\n",
              "      <td>휴양콘도 운영업</td>\n",
              "      <td>충북</td>\n",
              "      <td>충주시</td>\n",
              "      <td>30s</td>\n",
              "      <td>1</td>\n",
              "      <td>2</td>\n",
              "      <td>3</td>\n",
              "      <td>43300</td>\n",
              "      <td>4</td>\n",
              "    </tr>\n",
              "    <tr>\n",
              "      <th>24697788</th>\n",
              "      <td>202003</td>\n",
              "      <td>충북</td>\n",
              "      <td>충주시</td>\n",
              "      <td>휴양콘도 운영업</td>\n",
              "      <td>충북</td>\n",
              "      <td>충주시</td>\n",
              "      <td>40s</td>\n",
              "      <td>1</td>\n",
              "      <td>3</td>\n",
              "      <td>3</td>\n",
              "      <td>35000</td>\n",
              "      <td>3</td>\n",
              "    </tr>\n",
              "    <tr>\n",
              "      <th>24697789</th>\n",
              "      <td>202003</td>\n",
              "      <td>충북</td>\n",
              "      <td>충주시</td>\n",
              "      <td>휴양콘도 운영업</td>\n",
              "      <td>충북</td>\n",
              "      <td>충주시</td>\n",
              "      <td>50s</td>\n",
              "      <td>1</td>\n",
              "      <td>4</td>\n",
              "      <td>4</td>\n",
              "      <td>188000</td>\n",
              "      <td>6</td>\n",
              "    </tr>\n",
              "    <tr>\n",
              "      <th>24697790</th>\n",
              "      <td>202003</td>\n",
              "      <td>충북</td>\n",
              "      <td>충주시</td>\n",
              "      <td>휴양콘도 운영업</td>\n",
              "      <td>충북</td>\n",
              "      <td>충주시</td>\n",
              "      <td>50s</td>\n",
              "      <td>2</td>\n",
              "      <td>4</td>\n",
              "      <td>4</td>\n",
              "      <td>99000</td>\n",
              "      <td>6</td>\n",
              "    </tr>\n",
              "    <tr>\n",
              "      <th>24697791</th>\n",
              "      <td>202003</td>\n",
              "      <td>충북</td>\n",
              "      <td>충주시</td>\n",
              "      <td>휴양콘도 운영업</td>\n",
              "      <td>충북</td>\n",
              "      <td>충주시</td>\n",
              "      <td>60s</td>\n",
              "      <td>1</td>\n",
              "      <td>5</td>\n",
              "      <td>3</td>\n",
              "      <td>194000</td>\n",
              "      <td>3</td>\n",
              "    </tr>\n",
              "  </tbody>\n",
              "</table>\n",
              "</div>"
            ],
            "text/plain": [
              "          REG_YYMM CARD_SIDO_NM CARD_CCG_NM  ... CSTMR_CNT     AMT CNT\n",
              "24697787    202003           충북         충주시  ...         3   43300   4\n",
              "24697788    202003           충북         충주시  ...         3   35000   3\n",
              "24697789    202003           충북         충주시  ...         4  188000   6\n",
              "24697790    202003           충북         충주시  ...         4   99000   6\n",
              "24697791    202003           충북         충주시  ...         3  194000   3\n",
              "\n",
              "[5 rows x 12 columns]"
            ]
          },
          "metadata": {
            "tags": []
          },
          "execution_count": 48
        }
      ]
    },
    {
      "cell_type": "code",
      "metadata": {
        "id": "33mHHm70xWFh",
        "colab_type": "code",
        "colab": {}
      },
      "source": [
        "def grap_year(data):\n",
        "  data = str(data)\n",
        "  return int(data[:4])\n",
        "\n",
        "def grap_month(data):\n",
        "  data = str(data)\n",
        "  return int(data[4:])"
      ],
      "execution_count": 49,
      "outputs": []
    },
    {
      "cell_type": "code",
      "metadata": {
        "id": "ejHzEzMV9fvM",
        "colab_type": "code",
        "colab": {
          "base_uri": "https://localhost:8080/",
          "height": 222
        },
        "outputId": "1964516c-fbdb-4a52-d050-081a834e2c57"
      },
      "source": [
        "# 날짜 처리\n",
        "data = row_data.copy()\n",
        "data = data.fillna(1)\n",
        "data['year'] = data['REG_YYMM'].apply(lambda x : grap_year(x))\n",
        "data['month'] = data['REG_YYMM'].apply(lambda x : grap_month(x))\n",
        "data = data.drop(['REG_YYMM'], axis = 1)\n",
        "print(data.shape)\n",
        "data.tail()"
      ],
      "execution_count": 50,
      "outputs": [
        {
          "output_type": "stream",
          "text": [
            "(24697792, 13)\n"
          ],
          "name": "stdout"
        },
        {
          "output_type": "execute_result",
          "data": {
            "text/html": [
              "<div>\n",
              "<style scoped>\n",
              "    .dataframe tbody tr th:only-of-type {\n",
              "        vertical-align: middle;\n",
              "    }\n",
              "\n",
              "    .dataframe tbody tr th {\n",
              "        vertical-align: top;\n",
              "    }\n",
              "\n",
              "    .dataframe thead th {\n",
              "        text-align: right;\n",
              "    }\n",
              "</style>\n",
              "<table border=\"1\" class=\"dataframe\">\n",
              "  <thead>\n",
              "    <tr style=\"text-align: right;\">\n",
              "      <th></th>\n",
              "      <th>CARD_SIDO_NM</th>\n",
              "      <th>CARD_CCG_NM</th>\n",
              "      <th>STD_CLSS_NM</th>\n",
              "      <th>HOM_SIDO_NM</th>\n",
              "      <th>HOM_CCG_NM</th>\n",
              "      <th>AGE</th>\n",
              "      <th>SEX_CTGO_CD</th>\n",
              "      <th>FLC</th>\n",
              "      <th>CSTMR_CNT</th>\n",
              "      <th>AMT</th>\n",
              "      <th>CNT</th>\n",
              "      <th>year</th>\n",
              "      <th>month</th>\n",
              "    </tr>\n",
              "  </thead>\n",
              "  <tbody>\n",
              "    <tr>\n",
              "      <th>24697787</th>\n",
              "      <td>충북</td>\n",
              "      <td>충주시</td>\n",
              "      <td>휴양콘도 운영업</td>\n",
              "      <td>충북</td>\n",
              "      <td>충주시</td>\n",
              "      <td>30s</td>\n",
              "      <td>1</td>\n",
              "      <td>2</td>\n",
              "      <td>3</td>\n",
              "      <td>43300</td>\n",
              "      <td>4</td>\n",
              "      <td>2020</td>\n",
              "      <td>3</td>\n",
              "    </tr>\n",
              "    <tr>\n",
              "      <th>24697788</th>\n",
              "      <td>충북</td>\n",
              "      <td>충주시</td>\n",
              "      <td>휴양콘도 운영업</td>\n",
              "      <td>충북</td>\n",
              "      <td>충주시</td>\n",
              "      <td>40s</td>\n",
              "      <td>1</td>\n",
              "      <td>3</td>\n",
              "      <td>3</td>\n",
              "      <td>35000</td>\n",
              "      <td>3</td>\n",
              "      <td>2020</td>\n",
              "      <td>3</td>\n",
              "    </tr>\n",
              "    <tr>\n",
              "      <th>24697789</th>\n",
              "      <td>충북</td>\n",
              "      <td>충주시</td>\n",
              "      <td>휴양콘도 운영업</td>\n",
              "      <td>충북</td>\n",
              "      <td>충주시</td>\n",
              "      <td>50s</td>\n",
              "      <td>1</td>\n",
              "      <td>4</td>\n",
              "      <td>4</td>\n",
              "      <td>188000</td>\n",
              "      <td>6</td>\n",
              "      <td>2020</td>\n",
              "      <td>3</td>\n",
              "    </tr>\n",
              "    <tr>\n",
              "      <th>24697790</th>\n",
              "      <td>충북</td>\n",
              "      <td>충주시</td>\n",
              "      <td>휴양콘도 운영업</td>\n",
              "      <td>충북</td>\n",
              "      <td>충주시</td>\n",
              "      <td>50s</td>\n",
              "      <td>2</td>\n",
              "      <td>4</td>\n",
              "      <td>4</td>\n",
              "      <td>99000</td>\n",
              "      <td>6</td>\n",
              "      <td>2020</td>\n",
              "      <td>3</td>\n",
              "    </tr>\n",
              "    <tr>\n",
              "      <th>24697791</th>\n",
              "      <td>충북</td>\n",
              "      <td>충주시</td>\n",
              "      <td>휴양콘도 운영업</td>\n",
              "      <td>충북</td>\n",
              "      <td>충주시</td>\n",
              "      <td>60s</td>\n",
              "      <td>1</td>\n",
              "      <td>5</td>\n",
              "      <td>3</td>\n",
              "      <td>194000</td>\n",
              "      <td>3</td>\n",
              "      <td>2020</td>\n",
              "      <td>3</td>\n",
              "    </tr>\n",
              "  </tbody>\n",
              "</table>\n",
              "</div>"
            ],
            "text/plain": [
              "         CARD_SIDO_NM CARD_CCG_NM STD_CLSS_NM  ... CNT  year month\n",
              "24697787           충북         충주시    휴양콘도 운영업  ...   4  2020     3\n",
              "24697788           충북         충주시    휴양콘도 운영업  ...   3  2020     3\n",
              "24697789           충북         충주시    휴양콘도 운영업  ...   6  2020     3\n",
              "24697790           충북         충주시    휴양콘도 운영업  ...   6  2020     3\n",
              "24697791           충북         충주시    휴양콘도 운영업  ...   3  2020     3\n",
              "\n",
              "[5 rows x 13 columns]"
            ]
          },
          "metadata": {
            "tags": []
          },
          "execution_count": 50
        }
      ]
    },
    {
      "cell_type": "code",
      "metadata": {
        "id": "qhBSh-6VWakF",
        "colab_type": "code",
        "colab": {
          "base_uri": "https://localhost:8080/",
          "height": 546
        },
        "outputId": "fcc088a1-480d-4460-f55f-15fb7a00507d"
      },
      "source": [
        "# 데이터 정제\n",
        "df = data.copy()\n",
        "df = df.drop(['CARD_CCG_NM', 'HOM_CCG_NM'], axis = 1)\n",
        "\n",
        "columns = ['CARD_SIDO_NM', 'STD_CLSS_NM', 'HOM_SIDO_NM',\t'AGE',\t'SEX_CTGO_CD',\t'FLC',\t'year',\t'month']\n",
        "df = df.groupby(columns).sum().reset_index(drop=False)\n",
        "\n",
        "print(df.info())\n",
        "df.head()"
      ],
      "execution_count": 51,
      "outputs": [
        {
          "output_type": "stream",
          "text": [
            "<class 'pandas.core.frame.DataFrame'>\n",
            "RangeIndex: 1057394 entries, 0 to 1057393\n",
            "Data columns (total 11 columns):\n",
            " #   Column        Non-Null Count    Dtype \n",
            "---  ------        --------------    ----- \n",
            " 0   CARD_SIDO_NM  1057394 non-null  object\n",
            " 1   STD_CLSS_NM   1057394 non-null  object\n",
            " 2   HOM_SIDO_NM   1057394 non-null  object\n",
            " 3   AGE           1057394 non-null  object\n",
            " 4   SEX_CTGO_CD   1057394 non-null  int64 \n",
            " 5   FLC           1057394 non-null  int64 \n",
            " 6   year          1057394 non-null  int64 \n",
            " 7   month         1057394 non-null  int64 \n",
            " 8   CSTMR_CNT     1057394 non-null  int64 \n",
            " 9   AMT           1057394 non-null  int64 \n",
            " 10  CNT           1057394 non-null  int64 \n",
            "dtypes: int64(7), object(4)\n",
            "memory usage: 88.7+ MB\n",
            "None\n"
          ],
          "name": "stdout"
        },
        {
          "output_type": "execute_result",
          "data": {
            "text/html": [
              "<div>\n",
              "<style scoped>\n",
              "    .dataframe tbody tr th:only-of-type {\n",
              "        vertical-align: middle;\n",
              "    }\n",
              "\n",
              "    .dataframe tbody tr th {\n",
              "        vertical-align: top;\n",
              "    }\n",
              "\n",
              "    .dataframe thead th {\n",
              "        text-align: right;\n",
              "    }\n",
              "</style>\n",
              "<table border=\"1\" class=\"dataframe\">\n",
              "  <thead>\n",
              "    <tr style=\"text-align: right;\">\n",
              "      <th></th>\n",
              "      <th>CARD_SIDO_NM</th>\n",
              "      <th>STD_CLSS_NM</th>\n",
              "      <th>HOM_SIDO_NM</th>\n",
              "      <th>AGE</th>\n",
              "      <th>SEX_CTGO_CD</th>\n",
              "      <th>FLC</th>\n",
              "      <th>year</th>\n",
              "      <th>month</th>\n",
              "      <th>CSTMR_CNT</th>\n",
              "      <th>AMT</th>\n",
              "      <th>CNT</th>\n",
              "    </tr>\n",
              "  </thead>\n",
              "  <tbody>\n",
              "    <tr>\n",
              "      <th>0</th>\n",
              "      <td>강원</td>\n",
              "      <td>건강보조식품 소매업</td>\n",
              "      <td>강원</td>\n",
              "      <td>20s</td>\n",
              "      <td>1</td>\n",
              "      <td>1</td>\n",
              "      <td>2019</td>\n",
              "      <td>1</td>\n",
              "      <td>4</td>\n",
              "      <td>311200</td>\n",
              "      <td>4</td>\n",
              "    </tr>\n",
              "    <tr>\n",
              "      <th>1</th>\n",
              "      <td>강원</td>\n",
              "      <td>건강보조식품 소매업</td>\n",
              "      <td>강원</td>\n",
              "      <td>20s</td>\n",
              "      <td>1</td>\n",
              "      <td>1</td>\n",
              "      <td>2019</td>\n",
              "      <td>2</td>\n",
              "      <td>3</td>\n",
              "      <td>605000</td>\n",
              "      <td>3</td>\n",
              "    </tr>\n",
              "    <tr>\n",
              "      <th>2</th>\n",
              "      <td>강원</td>\n",
              "      <td>건강보조식품 소매업</td>\n",
              "      <td>강원</td>\n",
              "      <td>20s</td>\n",
              "      <td>1</td>\n",
              "      <td>1</td>\n",
              "      <td>2019</td>\n",
              "      <td>6</td>\n",
              "      <td>3</td>\n",
              "      <td>139000</td>\n",
              "      <td>3</td>\n",
              "    </tr>\n",
              "    <tr>\n",
              "      <th>3</th>\n",
              "      <td>강원</td>\n",
              "      <td>건강보조식품 소매업</td>\n",
              "      <td>강원</td>\n",
              "      <td>20s</td>\n",
              "      <td>1</td>\n",
              "      <td>1</td>\n",
              "      <td>2019</td>\n",
              "      <td>8</td>\n",
              "      <td>3</td>\n",
              "      <td>27500</td>\n",
              "      <td>3</td>\n",
              "    </tr>\n",
              "    <tr>\n",
              "      <th>4</th>\n",
              "      <td>강원</td>\n",
              "      <td>건강보조식품 소매업</td>\n",
              "      <td>강원</td>\n",
              "      <td>20s</td>\n",
              "      <td>1</td>\n",
              "      <td>1</td>\n",
              "      <td>2019</td>\n",
              "      <td>9</td>\n",
              "      <td>3</td>\n",
              "      <td>395500</td>\n",
              "      <td>3</td>\n",
              "    </tr>\n",
              "  </tbody>\n",
              "</table>\n",
              "</div>"
            ],
            "text/plain": [
              "  CARD_SIDO_NM STD_CLSS_NM HOM_SIDO_NM  AGE  ...  month  CSTMR_CNT     AMT  CNT\n",
              "0           강원  건강보조식품 소매업          강원  20s  ...      1          4  311200    4\n",
              "1           강원  건강보조식품 소매업          강원  20s  ...      2          3  605000    3\n",
              "2           강원  건강보조식품 소매업          강원  20s  ...      6          3  139000    3\n",
              "3           강원  건강보조식품 소매업          강원  20s  ...      8          3   27500    3\n",
              "4           강원  건강보조식품 소매업          강원  20s  ...      9          3  395500    3\n",
              "\n",
              "[5 rows x 11 columns]"
            ]
          },
          "metadata": {
            "tags": []
          },
          "execution_count": 51
        }
      ]
    },
    {
      "cell_type": "code",
      "metadata": {
        "id": "HTLMmYOqBPyP",
        "colab_type": "code",
        "colab": {
          "base_uri": "https://localhost:8080/",
          "height": 546
        },
        "outputId": "0c751f8c-7db0-4c36-90e9-905e6adee945"
      },
      "source": [
        "# 인코딩\n",
        "dtypes = df.dtypes\n",
        "encoders = {}\n",
        "\n",
        "for column in df.columns:\n",
        "  if str(dtypes[column]) == 'object':\n",
        "    encoder = LabelEncoder()\n",
        "    encoder.fit(df[column])\n",
        "    encoders[column] = encoder\n",
        "\n",
        "df_num = df.copy()\n",
        "for column in encoders.keys():\n",
        "  encoder = encoders[column]\n",
        "  df_num[column] = encoder.transform(df[column])\n",
        "\n",
        "print(df_num.info())\n",
        "df_num.tail()"
      ],
      "execution_count": 52,
      "outputs": [
        {
          "output_type": "stream",
          "text": [
            "<class 'pandas.core.frame.DataFrame'>\n",
            "RangeIndex: 1057394 entries, 0 to 1057393\n",
            "Data columns (total 11 columns):\n",
            " #   Column        Non-Null Count    Dtype\n",
            "---  ------        --------------    -----\n",
            " 0   CARD_SIDO_NM  1057394 non-null  int64\n",
            " 1   STD_CLSS_NM   1057394 non-null  int64\n",
            " 2   HOM_SIDO_NM   1057394 non-null  int64\n",
            " 3   AGE           1057394 non-null  int64\n",
            " 4   SEX_CTGO_CD   1057394 non-null  int64\n",
            " 5   FLC           1057394 non-null  int64\n",
            " 6   year          1057394 non-null  int64\n",
            " 7   month         1057394 non-null  int64\n",
            " 8   CSTMR_CNT     1057394 non-null  int64\n",
            " 9   AMT           1057394 non-null  int64\n",
            " 10  CNT           1057394 non-null  int64\n",
            "dtypes: int64(11)\n",
            "memory usage: 88.7 MB\n",
            "None\n"
          ],
          "name": "stdout"
        },
        {
          "output_type": "execute_result",
          "data": {
            "text/html": [
              "<div>\n",
              "<style scoped>\n",
              "    .dataframe tbody tr th:only-of-type {\n",
              "        vertical-align: middle;\n",
              "    }\n",
              "\n",
              "    .dataframe tbody tr th {\n",
              "        vertical-align: top;\n",
              "    }\n",
              "\n",
              "    .dataframe thead th {\n",
              "        text-align: right;\n",
              "    }\n",
              "</style>\n",
              "<table border=\"1\" class=\"dataframe\">\n",
              "  <thead>\n",
              "    <tr style=\"text-align: right;\">\n",
              "      <th></th>\n",
              "      <th>CARD_SIDO_NM</th>\n",
              "      <th>STD_CLSS_NM</th>\n",
              "      <th>HOM_SIDO_NM</th>\n",
              "      <th>AGE</th>\n",
              "      <th>SEX_CTGO_CD</th>\n",
              "      <th>FLC</th>\n",
              "      <th>year</th>\n",
              "      <th>month</th>\n",
              "      <th>CSTMR_CNT</th>\n",
              "      <th>AMT</th>\n",
              "      <th>CNT</th>\n",
              "    </tr>\n",
              "  </thead>\n",
              "  <tbody>\n",
              "    <tr>\n",
              "      <th>1057389</th>\n",
              "      <td>16</td>\n",
              "      <td>40</td>\n",
              "      <td>16</td>\n",
              "      <td>6</td>\n",
              "      <td>2</td>\n",
              "      <td>5</td>\n",
              "      <td>2019</td>\n",
              "      <td>3</td>\n",
              "      <td>3</td>\n",
              "      <td>148000</td>\n",
              "      <td>4</td>\n",
              "    </tr>\n",
              "    <tr>\n",
              "      <th>1057390</th>\n",
              "      <td>16</td>\n",
              "      <td>40</td>\n",
              "      <td>16</td>\n",
              "      <td>6</td>\n",
              "      <td>2</td>\n",
              "      <td>5</td>\n",
              "      <td>2019</td>\n",
              "      <td>5</td>\n",
              "      <td>5</td>\n",
              "      <td>329800</td>\n",
              "      <td>7</td>\n",
              "    </tr>\n",
              "    <tr>\n",
              "      <th>1057391</th>\n",
              "      <td>16</td>\n",
              "      <td>40</td>\n",
              "      <td>16</td>\n",
              "      <td>6</td>\n",
              "      <td>2</td>\n",
              "      <td>5</td>\n",
              "      <td>2019</td>\n",
              "      <td>10</td>\n",
              "      <td>7</td>\n",
              "      <td>557800</td>\n",
              "      <td>7</td>\n",
              "    </tr>\n",
              "    <tr>\n",
              "      <th>1057392</th>\n",
              "      <td>16</td>\n",
              "      <td>40</td>\n",
              "      <td>16</td>\n",
              "      <td>6</td>\n",
              "      <td>2</td>\n",
              "      <td>5</td>\n",
              "      <td>2019</td>\n",
              "      <td>12</td>\n",
              "      <td>3</td>\n",
              "      <td>247800</td>\n",
              "      <td>3</td>\n",
              "    </tr>\n",
              "    <tr>\n",
              "      <th>1057393</th>\n",
              "      <td>16</td>\n",
              "      <td>40</td>\n",
              "      <td>16</td>\n",
              "      <td>6</td>\n",
              "      <td>2</td>\n",
              "      <td>5</td>\n",
              "      <td>2020</td>\n",
              "      <td>1</td>\n",
              "      <td>3</td>\n",
              "      <td>230400</td>\n",
              "      <td>3</td>\n",
              "    </tr>\n",
              "  </tbody>\n",
              "</table>\n",
              "</div>"
            ],
            "text/plain": [
              "         CARD_SIDO_NM  STD_CLSS_NM  HOM_SIDO_NM  ...  CSTMR_CNT     AMT  CNT\n",
              "1057389            16           40           16  ...          3  148000    4\n",
              "1057390            16           40           16  ...          5  329800    7\n",
              "1057391            16           40           16  ...          7  557800    7\n",
              "1057392            16           40           16  ...          3  247800    3\n",
              "1057393            16           40           16  ...          3  230400    3\n",
              "\n",
              "[5 rows x 11 columns]"
            ]
          },
          "metadata": {
            "tags": []
          },
          "execution_count": 52
        }
      ]
    },
    {
      "cell_type": "code",
      "metadata": {
        "id": "UJ2QKvYGl_9q",
        "colab_type": "code",
        "colab": {
          "base_uri": "https://localhost:8080/",
          "height": 527
        },
        "outputId": "7502480c-2848-4cd9-8a42-e621ba6c63d5"
      },
      "source": [
        "plt.figure(figsize = (12, 8))\n",
        "sns.barplot(data = df_num, x = 'STD_CLSS_NM', y = 'AMT', estimator= np.sum)"
      ],
      "execution_count": 90,
      "outputs": [
        {
          "output_type": "execute_result",
          "data": {
            "text/plain": [
              "<matplotlib.axes._subplots.AxesSubplot at 0x7fcc2806bf60>"
            ]
          },
          "metadata": {
            "tags": []
          },
          "execution_count": 90
        },
        {
          "output_type": "display_data",
          "data": {
            "image/png": "[encoded data removed]",
            "text/plain": [
              "<Figure size 864x576 with 1 Axes>"
            ]
          },
          "metadata": {
            "tags": [],
            "needs_background": "light"
          }
        }
      ]
    },
    {
      "cell_type": "code",
      "metadata": {
        "id": "t94ByG8DfmG1",
        "colab_type": "code",
        "colab": {
          "base_uri": "https://localhost:8080/",
          "height": 527
        },
        "outputId": "db43695e-90f2-4020-f593-989fda09e235"
      },
      "source": [
        "plt.figure(figsize = (12, 8))\n",
        "sns.barplot(data = df_num, x = 'CARD_SIDO_NM', y = 'AMT', estimator= np.sum)"
      ],
      "execution_count": 89,
      "outputs": [
        {
          "output_type": "execute_result",
          "data": {
            "text/plain": [
              "<matplotlib.axes._subplots.AxesSubplot at 0x7fcc2c791400>"
            ]
          },
          "metadata": {
            "tags": []
          },
          "execution_count": 89
        },
        {
          "output_type": "display_data",
          "data": {
            "image/png": "[encoded data removed]",
            "text/plain": [
              "<Figure size 864x576 with 1 Axes>"
            ]
          },
          "metadata": {
            "tags": [],
            "needs_background": "light"
          }
        }
      ]
    },
    {
      "cell_type": "code",
      "metadata": {
        "id": "reAHoq90noAu",
        "colab_type": "code",
        "colab": {
          "base_uri": "https://localhost:8080/",
          "height": 527
        },
        "outputId": "a47753a7-d800-43fb-f9d5-85a894a1c182"
      },
      "source": [
        "plt.figure(figsize = (12, 8))\n",
        "sns.barplot(data = df_num, x = 'CARD_SIDO_NM', y = 'AMT')"
      ],
      "execution_count": 54,
      "outputs": [
        {
          "output_type": "execute_result",
          "data": {
            "text/plain": [
              "<matplotlib.axes._subplots.AxesSubplot at 0x7fcc29f2a9b0>"
            ]
          },
          "metadata": {
            "tags": []
          },
          "execution_count": 54
        },
        {
          "output_type": "display_data",
          "data": {
            "image/png": "[encoded data removed]",
            "text/plain": [
              "<Figure size 864x576 with 1 Axes>"
            ]
          },
          "metadata": {
            "tags": [],
            "needs_background": "light"
          }
        }
      ]
    },
    {
      "cell_type": "code",
      "metadata": {
        "id": "52ObmbthUbMd",
        "colab_type": "code",
        "colab": {
          "base_uri": "https://localhost:8080/",
          "height": 142
        },
        "outputId": "af5bb900-2e1f-49a0-e768-254cb7a1d3a7"
      },
      "source": [
        "a = df_num[['year', 'month','AMT']]\n",
        "b = pd.pivot_table(a, index = ['year'], values='AMT', aggfunc = 'mean')\n",
        "b"
      ],
      "execution_count": 72,
      "outputs": [
        {
          "output_type": "execute_result",
          "data": {
            "text/html": [
              "<div>\n",
              "<style scoped>\n",
              "    .dataframe tbody tr th:only-of-type {\n",
              "        vertical-align: middle;\n",
              "    }\n",
              "\n",
              "    .dataframe tbody tr th {\n",
              "        vertical-align: top;\n",
              "    }\n",
              "\n",
              "    .dataframe thead th {\n",
              "        text-align: right;\n",
              "    }\n",
              "</style>\n",
              "<table border=\"1\" class=\"dataframe\">\n",
              "  <thead>\n",
              "    <tr style=\"text-align: right;\">\n",
              "      <th></th>\n",
              "      <th>AMT</th>\n",
              "    </tr>\n",
              "    <tr>\n",
              "      <th>year</th>\n",
              "      <th></th>\n",
              "    </tr>\n",
              "  </thead>\n",
              "  <tbody>\n",
              "    <tr>\n",
              "      <th>2019</th>\n",
              "      <td>5.673225e+07</td>\n",
              "    </tr>\n",
              "    <tr>\n",
              "      <th>2020</th>\n",
              "      <td>5.837500e+07</td>\n",
              "    </tr>\n",
              "  </tbody>\n",
              "</table>\n",
              "</div>"
            ],
            "text/plain": [
              "               AMT\n",
              "year              \n",
              "2019  5.673225e+07\n",
              "2020  5.837500e+07"
            ]
          },
          "metadata": {
            "tags": []
          },
          "execution_count": 72
        }
      ]
    },
    {
      "cell_type": "code",
      "metadata": {
        "id": "z9R9Y_t6n1Xr",
        "colab_type": "code",
        "colab": {
          "base_uri": "https://localhost:8080/",
          "height": 526
        },
        "outputId": "16886ef7-9313-4fb2-b1c9-221765d310dd"
      },
      "source": [
        "plt.figure(figsize = (12, 8))\n",
        "sns.barplot(data = df_num, x = 'year', y = 'AMT')"
      ],
      "execution_count": 88,
      "outputs": [
        {
          "output_type": "execute_result",
          "data": {
            "text/plain": [
              "<matplotlib.axes._subplots.AxesSubplot at 0x7fcc2c92bd30>"
            ]
          },
          "metadata": {
            "tags": []
          },
          "execution_count": 88
        },
        {
          "output_type": "display_data",
          "data": {
            "image/png": "[encoded data removed]",
            "text/plain": [
              "<Figure size 864x576 with 1 Axes>"
            ]
          },
          "metadata": {
            "tags": [],
            "needs_background": "light"
          }
        }
      ]
    },
    {
      "cell_type": "code",
      "metadata": {
        "id": "NsWIiTZISU2A",
        "colab_type": "code",
        "colab": {}
      },
      "source": [
        "sns.barplot?"
      ],
      "execution_count": 59,
      "outputs": []
    },
    {
      "cell_type": "code",
      "metadata": {
        "id": "gk6neKycoEWj",
        "colab_type": "code",
        "colab": {
          "base_uri": "https://localhost:8080/",
          "height": 526
        },
        "outputId": "67b16291-8938-4c8b-8393-0b48ae6c117f"
      },
      "source": [
        "plt.figure(figsize = (12, 8))\n",
        "sns.barplot(data = df_num, x = 'month', y = 'AMT')"
      ],
      "execution_count": 56,
      "outputs": [
        {
          "output_type": "execute_result",
          "data": {
            "text/plain": [
              "<matplotlib.axes._subplots.AxesSubplot at 0x7fcbfee01ac8>"
            ]
          },
          "metadata": {
            "tags": []
          },
          "execution_count": 56
        },
        {
          "output_type": "display_data",
          "data": {
            "image/png": "[encoded data removed]",
            "text/plain": [
              "<Figure size 864x576 with 1 Axes>"
            ]
          },
          "metadata": {
            "tags": [],
            "needs_background": "light"
          }
        }
      ]
    },
    {
      "cell_type": "code",
      "metadata": {
        "id": "3SAqWkYPrXVO",
        "colab_type": "code",
        "colab": {
          "base_uri": "https://localhost:8080/",
          "height": 204
        },
        "outputId": "c4e0b884-b416-4c46-b378-a7b4afc54290"
      },
      "source": [
        "row_data.head()"
      ],
      "execution_count": 57,
      "outputs": [
        {
          "output_type": "execute_result",
          "data": {
            "text/html": [
              "<div>\n",
              "<style scoped>\n",
              "    .dataframe tbody tr th:only-of-type {\n",
              "        vertical-align: middle;\n",
              "    }\n",
              "\n",
              "    .dataframe tbody tr th {\n",
              "        vertical-align: top;\n",
              "    }\n",
              "\n",
              "    .dataframe thead th {\n",
              "        text-align: right;\n",
              "    }\n",
              "</style>\n",
              "<table border=\"1\" class=\"dataframe\">\n",
              "  <thead>\n",
              "    <tr style=\"text-align: right;\">\n",
              "      <th></th>\n",
              "      <th>REG_YYMM</th>\n",
              "      <th>CARD_SIDO_NM</th>\n",
              "      <th>CARD_CCG_NM</th>\n",
              "      <th>STD_CLSS_NM</th>\n",
              "      <th>HOM_SIDO_NM</th>\n",
              "      <th>HOM_CCG_NM</th>\n",
              "      <th>AGE</th>\n",
              "      <th>SEX_CTGO_CD</th>\n",
              "      <th>FLC</th>\n",
              "      <th>CSTMR_CNT</th>\n",
              "      <th>AMT</th>\n",
              "      <th>CNT</th>\n",
              "    </tr>\n",
              "  </thead>\n",
              "  <tbody>\n",
              "    <tr>\n",
              "      <th>0</th>\n",
              "      <td>201901</td>\n",
              "      <td>강원</td>\n",
              "      <td>강릉시</td>\n",
              "      <td>건강보조식품 소매업</td>\n",
              "      <td>강원</td>\n",
              "      <td>강릉시</td>\n",
              "      <td>20s</td>\n",
              "      <td>1</td>\n",
              "      <td>1</td>\n",
              "      <td>4</td>\n",
              "      <td>311200</td>\n",
              "      <td>4</td>\n",
              "    </tr>\n",
              "    <tr>\n",
              "      <th>1</th>\n",
              "      <td>201901</td>\n",
              "      <td>강원</td>\n",
              "      <td>강릉시</td>\n",
              "      <td>건강보조식품 소매업</td>\n",
              "      <td>강원</td>\n",
              "      <td>강릉시</td>\n",
              "      <td>30s</td>\n",
              "      <td>1</td>\n",
              "      <td>2</td>\n",
              "      <td>7</td>\n",
              "      <td>1374500</td>\n",
              "      <td>8</td>\n",
              "    </tr>\n",
              "    <tr>\n",
              "      <th>2</th>\n",
              "      <td>201901</td>\n",
              "      <td>강원</td>\n",
              "      <td>강릉시</td>\n",
              "      <td>건강보조식품 소매업</td>\n",
              "      <td>강원</td>\n",
              "      <td>강릉시</td>\n",
              "      <td>30s</td>\n",
              "      <td>2</td>\n",
              "      <td>2</td>\n",
              "      <td>6</td>\n",
              "      <td>818700</td>\n",
              "      <td>6</td>\n",
              "    </tr>\n",
              "    <tr>\n",
              "      <th>3</th>\n",
              "      <td>201901</td>\n",
              "      <td>강원</td>\n",
              "      <td>강릉시</td>\n",
              "      <td>건강보조식품 소매업</td>\n",
              "      <td>강원</td>\n",
              "      <td>강릉시</td>\n",
              "      <td>40s</td>\n",
              "      <td>1</td>\n",
              "      <td>3</td>\n",
              "      <td>4</td>\n",
              "      <td>1717000</td>\n",
              "      <td>5</td>\n",
              "    </tr>\n",
              "    <tr>\n",
              "      <th>4</th>\n",
              "      <td>201901</td>\n",
              "      <td>강원</td>\n",
              "      <td>강릉시</td>\n",
              "      <td>건강보조식품 소매업</td>\n",
              "      <td>강원</td>\n",
              "      <td>강릉시</td>\n",
              "      <td>40s</td>\n",
              "      <td>1</td>\n",
              "      <td>4</td>\n",
              "      <td>3</td>\n",
              "      <td>1047300</td>\n",
              "      <td>3</td>\n",
              "    </tr>\n",
              "  </tbody>\n",
              "</table>\n",
              "</div>"
            ],
            "text/plain": [
              "   REG_YYMM CARD_SIDO_NM CARD_CCG_NM STD_CLSS_NM  ... FLC CSTMR_CNT      AMT  CNT\n",
              "0    201901           강원         강릉시  건강보조식품 소매업  ...   1         4   311200    4\n",
              "1    201901           강원         강릉시  건강보조식품 소매업  ...   2         7  1374500    8\n",
              "2    201901           강원         강릉시  건강보조식품 소매업  ...   2         6   818700    6\n",
              "3    201901           강원         강릉시  건강보조식품 소매업  ...   3         4  1717000    5\n",
              "4    201901           강원         강릉시  건강보조식품 소매업  ...   4         3  1047300    3\n",
              "\n",
              "[5 rows x 12 columns]"
            ]
          },
          "metadata": {
            "tags": []
          },
          "execution_count": 57
        }
      ]
    },
    {
      "cell_type": "code",
      "metadata": {
        "id": "Izl9wCfkoLjL",
        "colab_type": "code",
        "colab": {
          "base_uri": "https://localhost:8080/",
          "height": 527
        },
        "outputId": "d4701137-6a04-443e-f06d-1fadfd7020ef"
      },
      "source": [
        "row_df = row_data.copy()\n",
        "row_df = row_df.drop(['CARD_CCG_NM', 'HOM_CCG_NM','CARD_SIDO_NM', 'STD_CLSS_NM', 'HOM_SIDO_NM',\t'AGE',\t'SEX_CTGO_CD',\t'FLC'], axis = 1)\n",
        "row_df = row_df.groupby(['REG_YYMM']).sum().reset_index(drop=False)\n",
        "\n",
        "plt.figure(figsize = (12, 8))\n",
        "sns.barplot(data = row_df, x = 'REG_YYMM', y = 'AMT', estimator= np.sum )"
      ],
      "execution_count": 66,
      "outputs": [
        {
          "output_type": "execute_result",
          "data": {
            "text/plain": [
              "<matplotlib.axes._subplots.AxesSubplot at 0x7fcc29ce0da0>"
            ]
          },
          "metadata": {
            "tags": []
          },
          "execution_count": 66
        },
        {
          "output_type": "display_data",
          "data": {
            "image/png": "[encoded data removed]",
            "text/plain": [
              "<Figure size 864x576 with 1 Axes>"
            ]
          },
          "metadata": {
            "tags": [],
            "needs_background": "light"
          }
        }
      ]
    },
    {
      "cell_type": "markdown",
      "metadata": {
        "id": "xz5XTffHDvoY",
        "colab_type": "text"
      },
      "source": [
        "### Feature Enginnering & Initial Modeling"
      ]
    },
    {
      "cell_type": "code",
      "metadata": {
        "id": "UufLKGrxCrGX",
        "colab_type": "code",
        "colab": {}
      },
      "source": [
        "train_num = df_num.sample(frac = 1, random_state = 0)\n",
        "train_features = train_num.drop(['CSTMR_CNT',\t'AMT',\t'CNT'], axis = 1)\n",
        "train_target = np.log1p(train_num['AMT'])"
      ],
      "execution_count": null,
      "outputs": []
    },
    {
      "cell_type": "markdown",
      "metadata": {
        "id": "K_uCGUsMQX6k",
        "colab_type": "text"
      },
      "source": [
        "### Hyperparamter Tuning & Cross Validation\n",
        " - Random Search(Coarse)"
      ]
    },
    {
      "cell_type": "code",
      "metadata": {
        "id": "8trZyuWYQ-cC",
        "colab_type": "code",
        "colab": {
          "base_uri": "https://localhost:8080/",
          "height": 737
        },
        "outputId": "6afc8f07-0939-4b9e-b92a-7c69dcd1ace7"
      },
      "source": [
        "n_estimators = 10 # 트리의 갯수는 나중에 천천히 올려보겠습니다.\n",
        "num_epoch = 20    # 반복횟수는 일단 20번 \n",
        "coarse_hyperparameters_list = [] # hyperparameter 탐색 결과를 리스트로 저장\n",
        "\n",
        "# num_epoch 횟수만큼 랜덤 서치를 반복합니다.\n",
        "for epoch in range(num_epoch):\n",
        "    max_depth = np.random.randint(low = 50, high = 100)\n",
        "    max_features = np.random.uniform(low = 0.5, high = 1.0)\n",
        "    model = RandomForestRegressor(n_estimators = n_estimators,\n",
        "                                  max_depth = max_depth,\n",
        "                                  max_features = max_features,\n",
        "                                  n_jobs = -1,\n",
        "                                  random_state = 4)\n",
        "\n",
        "    predict = cross_val_predict(model, train_features, train_target, cv = 20)\n",
        "    y_predict = np.expm1(predict)\n",
        "\n",
        "    score = mean_squared_log_error(train_num['AMT'], y_predict)\n",
        "    score = np.sqrt(score)\n",
        "    \n",
        "    # hyperparameter 탐색 결과\n",
        "    hyperparameters = {\n",
        "        'epoch': epoch,\n",
        "        'score': score,\n",
        "        'n_estimators': n_estimators,\n",
        "        'max_depth': max_depth,\n",
        "        'max_features': max_features,\n",
        "    }\n",
        "    coarse_hyperparameters_list.append(hyperparameters)\n",
        "    print(f\"{epoch:2} n_estimators = {n_estimators}, max_depth = {max_depth:2}, max_features = {max_features:.6f}, Score = {score:.5f}\")\n",
        "\n",
        "# coarse_hyperparameters_list를 Pandas의 DataFrame으로 변환합니다.\n",
        "coarse_hyperparameters_list = pd.DataFrame.from_dict(coarse_hyperparameters_list)\n",
        "coarse_hyperparameters_list = coarse_hyperparameters_list.sort_values(by=\"score\")\n",
        "\n",
        "print(coarse_hyperparameters_list.shape)\n",
        "coarse_hyperparameters_list.head(10)"
      ],
      "execution_count": null,
      "outputs": [
        {
          "output_type": "stream",
          "text": [
            " 0 n_estimators = 10, max_depth = 96, max_features = 0.952405, Score = 0.75883\n",
            " 1 n_estimators = 10, max_depth = 57, max_features = 0.815105, Score = 0.77495\n",
            " 2 n_estimators = 10, max_depth = 95, max_features = 0.637907, Score = 0.81378\n",
            " 3 n_estimators = 10, max_depth = 70, max_features = 0.810952, Score = 0.77495\n",
            " 4 n_estimators = 10, max_depth = 76, max_features = 0.643323, Score = 0.81378\n",
            " 5 n_estimators = 10, max_depth = 74, max_features = 0.706007, Score = 0.81378\n",
            " 6 n_estimators = 10, max_depth = 72, max_features = 0.954307, Score = 0.75883\n",
            " 7 n_estimators = 10, max_depth = 66, max_features = 0.950697, Score = 0.75883\n",
            " 8 n_estimators = 10, max_depth = 65, max_features = 0.797324, Score = 0.77495\n",
            " 9 n_estimators = 10, max_depth = 99, max_features = 0.870206, Score = 0.77495\n",
            "10 n_estimators = 10, max_depth = 80, max_features = 0.640559, Score = 0.81378\n",
            "11 n_estimators = 10, max_depth = 93, max_features = 0.673925, Score = 0.81378\n",
            "12 n_estimators = 10, max_depth = 89, max_features = 0.759333, Score = 0.77495\n",
            "13 n_estimators = 10, max_depth = 93, max_features = 0.703283, Score = 0.81378\n",
            "14 n_estimators = 10, max_depth = 75, max_features = 0.555820, Score = 0.90097\n",
            "15 n_estimators = 10, max_depth = 50, max_features = 0.798504, Score = 0.77495\n",
            "16 n_estimators = 10, max_depth = 90, max_features = 0.858006, Score = 0.77495\n",
            "17 n_estimators = 10, max_depth = 56, max_features = 0.505055, Score = 0.90097\n",
            "18 n_estimators = 10, max_depth = 82, max_features = 0.799245, Score = 0.77495\n",
            "19 n_estimators = 10, max_depth = 76, max_features = 0.983919, Score = 0.75883\n",
            "(20, 5)\n"
          ],
          "name": "stdout"
        },
        {
          "output_type": "execute_result",
          "data": {
            "text/html": [
              "<div>\n",
              "<style scoped>\n",
              "    .dataframe tbody tr th:only-of-type {\n",
              "        vertical-align: middle;\n",
              "    }\n",
              "\n",
              "    .dataframe tbody tr th {\n",
              "        vertical-align: top;\n",
              "    }\n",
              "\n",
              "    .dataframe thead th {\n",
              "        text-align: right;\n",
              "    }\n",
              "</style>\n",
              "<table border=\"1\" class=\"dataframe\">\n",
              "  <thead>\n",
              "    <tr style=\"text-align: right;\">\n",
              "      <th></th>\n",
              "      <th>epoch</th>\n",
              "      <th>score</th>\n",
              "      <th>n_estimators</th>\n",
              "      <th>max_depth</th>\n",
              "      <th>max_features</th>\n",
              "    </tr>\n",
              "  </thead>\n",
              "  <tbody>\n",
              "    <tr>\n",
              "      <th>0</th>\n",
              "      <td>0</td>\n",
              "      <td>0.758831</td>\n",
              "      <td>10</td>\n",
              "      <td>96</td>\n",
              "      <td>0.952405</td>\n",
              "    </tr>\n",
              "    <tr>\n",
              "      <th>7</th>\n",
              "      <td>7</td>\n",
              "      <td>0.758831</td>\n",
              "      <td>10</td>\n",
              "      <td>66</td>\n",
              "      <td>0.950697</td>\n",
              "    </tr>\n",
              "    <tr>\n",
              "      <th>6</th>\n",
              "      <td>6</td>\n",
              "      <td>0.758831</td>\n",
              "      <td>10</td>\n",
              "      <td>72</td>\n",
              "      <td>0.954307</td>\n",
              "    </tr>\n",
              "    <tr>\n",
              "      <th>19</th>\n",
              "      <td>19</td>\n",
              "      <td>0.758831</td>\n",
              "      <td>10</td>\n",
              "      <td>76</td>\n",
              "      <td>0.983919</td>\n",
              "    </tr>\n",
              "    <tr>\n",
              "      <th>8</th>\n",
              "      <td>8</td>\n",
              "      <td>0.774948</td>\n",
              "      <td>10</td>\n",
              "      <td>65</td>\n",
              "      <td>0.797324</td>\n",
              "    </tr>\n",
              "    <tr>\n",
              "      <th>16</th>\n",
              "      <td>16</td>\n",
              "      <td>0.774948</td>\n",
              "      <td>10</td>\n",
              "      <td>90</td>\n",
              "      <td>0.858006</td>\n",
              "    </tr>\n",
              "    <tr>\n",
              "      <th>1</th>\n",
              "      <td>1</td>\n",
              "      <td>0.774948</td>\n",
              "      <td>10</td>\n",
              "      <td>57</td>\n",
              "      <td>0.815105</td>\n",
              "    </tr>\n",
              "    <tr>\n",
              "      <th>18</th>\n",
              "      <td>18</td>\n",
              "      <td>0.774948</td>\n",
              "      <td>10</td>\n",
              "      <td>82</td>\n",
              "      <td>0.799245</td>\n",
              "    </tr>\n",
              "    <tr>\n",
              "      <th>12</th>\n",
              "      <td>12</td>\n",
              "      <td>0.774948</td>\n",
              "      <td>10</td>\n",
              "      <td>89</td>\n",
              "      <td>0.759333</td>\n",
              "    </tr>\n",
              "    <tr>\n",
              "      <th>15</th>\n",
              "      <td>15</td>\n",
              "      <td>0.774948</td>\n",
              "      <td>10</td>\n",
              "      <td>50</td>\n",
              "      <td>0.798504</td>\n",
              "    </tr>\n",
              "  </tbody>\n",
              "</table>\n",
              "</div>"
            ],
            "text/plain": [
              "    epoch     score  n_estimators  max_depth  max_features\n",
              "0       0  0.758831            10         96      0.952405\n",
              "7       7  0.758831            10         66      0.950697\n",
              "6       6  0.758831            10         72      0.954307\n",
              "19     19  0.758831            10         76      0.983919\n",
              "8       8  0.774948            10         65      0.797324\n",
              "16     16  0.774948            10         90      0.858006\n",
              "1       1  0.774948            10         57      0.815105\n",
              "18     18  0.774948            10         82      0.799245\n",
              "12     12  0.774948            10         89      0.759333\n",
              "15     15  0.774948            10         50      0.798504"
            ]
          },
          "metadata": {
            "tags": []
          },
          "execution_count": 22
        }
      ]
    },
    {
      "cell_type": "markdown",
      "metadata": {
        "id": "pSYbWBkcFFr-",
        "colab_type": "text"
      },
      "source": [
        "### Model Tuning & Evaluation"
      ]
    },
    {
      "cell_type": "code",
      "metadata": {
        "id": "_OUDaAyKEy1G",
        "colab_type": "code",
        "colab": {
          "base_uri": "https://localhost:8080/",
          "height": 143
        },
        "outputId": "d3f3392a-cbb8-487e-9c86-1b46b24a9b90"
      },
      "source": [
        "model = RandomForestRegressor(n_estimators = 20,\n",
        "                              max_depth = 96,\n",
        "                              max_features = 0.952405,\n",
        "                              n_jobs = -1,\n",
        "                              random_state = 4)\n",
        "model.fit(train_features, train_target)"
      ],
      "execution_count": null,
      "outputs": [
        {
          "output_type": "execute_result",
          "data": {
            "text/plain": [
              "RandomForestRegressor(bootstrap=True, ccp_alpha=0.0, criterion='mse',\n",
              "                      max_depth=96, max_features=0.952405, max_leaf_nodes=None,\n",
              "                      max_samples=None, min_impurity_decrease=0.0,\n",
              "                      min_impurity_split=None, min_samples_leaf=1,\n",
              "                      min_samples_split=2, min_weight_fraction_leaf=0.0,\n",
              "                      n_estimators=20, n_jobs=-1, oob_score=False,\n",
              "                      random_state=4, verbose=0, warm_start=False)"
            ]
          },
          "metadata": {
            "tags": []
          },
          "execution_count": 12
        }
      ]
    },
    {
      "cell_type": "markdown",
      "metadata": {
        "id": "rHNkYBXdvSH6",
        "colab_type": "text"
      },
      "source": [
        "### Conclusion & Discussion"
      ]
    },
    {
      "cell_type": "code",
      "metadata": {
        "id": "RNKWlx5fFXTa",
        "colab_type": "code",
        "colab": {
          "base_uri": "https://localhost:8080/",
          "height": 222
        },
        "outputId": "568ccd9a-bc28-4ae7-a788-c82a73c8c314"
      },
      "source": [
        "# 예측 템플릿 만들기\n",
        "CARD_SIDO_NMs = df_num['CARD_SIDO_NM'].unique()\n",
        "STD_CLSS_NMs  = df_num['STD_CLSS_NM'].unique()\n",
        "HOM_SIDO_NMs  = df_num['HOM_SIDO_NM'].unique()\n",
        "AGEs          = df_num['AGE'].unique()\n",
        "SEX_CTGO_CDs  = df_num['SEX_CTGO_CD'].unique()\n",
        "FLCs          = df_num['FLC'].unique()\n",
        "years         = [2020]\n",
        "months        = [4, 7]\n",
        "\n",
        "temp = []\n",
        "for CARD_SIDO_NM in CARD_SIDO_NMs:\n",
        "    for STD_CLSS_NM in STD_CLSS_NMs:\n",
        "        for HOM_SIDO_NM in HOM_SIDO_NMs:\n",
        "            for AGE in AGEs:\n",
        "                for SEX_CTGO_CD in SEX_CTGO_CDs:\n",
        "                    for FLC in FLCs:\n",
        "                        for year in years:\n",
        "                            for month in months:\n",
        "                                temp.append([CARD_SIDO_NM, STD_CLSS_NM, HOM_SIDO_NM, AGE, SEX_CTGO_CD, FLC, year, month])\n",
        "temp = np.array(temp)\n",
        "temp = pd.DataFrame(data=temp, columns=train_features.columns)\n",
        "print(temp.shape)\n",
        "temp.head()"
      ],
      "execution_count": null,
      "outputs": [
        {
          "output_type": "stream",
          "text": [
            "(1658860, 8)\n"
          ],
          "name": "stdout"
        },
        {
          "output_type": "execute_result",
          "data": {
            "text/html": [
              "<div>\n",
              "<style scoped>\n",
              "    .dataframe tbody tr th:only-of-type {\n",
              "        vertical-align: middle;\n",
              "    }\n",
              "\n",
              "    .dataframe tbody tr th {\n",
              "        vertical-align: top;\n",
              "    }\n",
              "\n",
              "    .dataframe thead th {\n",
              "        text-align: right;\n",
              "    }\n",
              "</style>\n",
              "<table border=\"1\" class=\"dataframe\">\n",
              "  <thead>\n",
              "    <tr style=\"text-align: right;\">\n",
              "      <th></th>\n",
              "      <th>CARD_SIDO_NM</th>\n",
              "      <th>STD_CLSS_NM</th>\n",
              "      <th>HOM_SIDO_NM</th>\n",
              "      <th>AGE</th>\n",
              "      <th>SEX_CTGO_CD</th>\n",
              "      <th>FLC</th>\n",
              "      <th>year</th>\n",
              "      <th>month</th>\n",
              "    </tr>\n",
              "  </thead>\n",
              "  <tbody>\n",
              "    <tr>\n",
              "      <th>0</th>\n",
              "      <td>0</td>\n",
              "      <td>0</td>\n",
              "      <td>0</td>\n",
              "      <td>1</td>\n",
              "      <td>1</td>\n",
              "      <td>1</td>\n",
              "      <td>2020</td>\n",
              "      <td>4</td>\n",
              "    </tr>\n",
              "    <tr>\n",
              "      <th>1</th>\n",
              "      <td>0</td>\n",
              "      <td>0</td>\n",
              "      <td>0</td>\n",
              "      <td>1</td>\n",
              "      <td>1</td>\n",
              "      <td>1</td>\n",
              "      <td>2020</td>\n",
              "      <td>7</td>\n",
              "    </tr>\n",
              "    <tr>\n",
              "      <th>2</th>\n",
              "      <td>0</td>\n",
              "      <td>0</td>\n",
              "      <td>0</td>\n",
              "      <td>1</td>\n",
              "      <td>1</td>\n",
              "      <td>2</td>\n",
              "      <td>2020</td>\n",
              "      <td>4</td>\n",
              "    </tr>\n",
              "    <tr>\n",
              "      <th>3</th>\n",
              "      <td>0</td>\n",
              "      <td>0</td>\n",
              "      <td>0</td>\n",
              "      <td>1</td>\n",
              "      <td>1</td>\n",
              "      <td>2</td>\n",
              "      <td>2020</td>\n",
              "      <td>7</td>\n",
              "    </tr>\n",
              "    <tr>\n",
              "      <th>4</th>\n",
              "      <td>0</td>\n",
              "      <td>0</td>\n",
              "      <td>0</td>\n",
              "      <td>1</td>\n",
              "      <td>1</td>\n",
              "      <td>3</td>\n",
              "      <td>2020</td>\n",
              "      <td>4</td>\n",
              "    </tr>\n",
              "  </tbody>\n",
              "</table>\n",
              "</div>"
            ],
            "text/plain": [
              "   CARD_SIDO_NM  STD_CLSS_NM  HOM_SIDO_NM  AGE  SEX_CTGO_CD  FLC  year  month\n",
              "0             0            0            0    1            1    1  2020      4\n",
              "1             0            0            0    1            1    1  2020      7\n",
              "2             0            0            0    1            1    2  2020      4\n",
              "3             0            0            0    1            1    2  2020      7\n",
              "4             0            0            0    1            1    3  2020      4"
            ]
          },
          "metadata": {
            "tags": []
          },
          "execution_count": 13
        }
      ]
    },
    {
      "cell_type": "code",
      "metadata": {
        "id": "pL4PiHiAwgGd",
        "colab_type": "code",
        "colab": {
          "base_uri": "https://localhost:8080/",
          "height": 419
        },
        "outputId": "742a2772-ee84-46f9-fc63-6e03bb511bfd"
      },
      "source": [
        "# 예측\n",
        "predict = model.predict(temp)\n",
        "predict = np.expm1(predict)\n",
        "temp['AMT'] = np.round(predict, 0)\n",
        "temp['REG_YYMM'] = temp['year']*100 + temp['month']\n",
        "temp = temp[['REG_YYMM', 'CARD_SIDO_NM', 'STD_CLSS_NM', 'AMT']]\n",
        "temp = temp.groupby(['REG_YYMM', 'CARD_SIDO_NM', 'STD_CLSS_NM']).sum().reset_index(drop=False)\n",
        "temp"
      ],
      "execution_count": null,
      "outputs": [
        {
          "output_type": "execute_result",
          "data": {
            "text/html": [
              "<div>\n",
              "<style scoped>\n",
              "    .dataframe tbody tr th:only-of-type {\n",
              "        vertical-align: middle;\n",
              "    }\n",
              "\n",
              "    .dataframe tbody tr th {\n",
              "        vertical-align: top;\n",
              "    }\n",
              "\n",
              "    .dataframe thead th {\n",
              "        text-align: right;\n",
              "    }\n",
              "</style>\n",
              "<table border=\"1\" class=\"dataframe\">\n",
              "  <thead>\n",
              "    <tr style=\"text-align: right;\">\n",
              "      <th></th>\n",
              "      <th>REG_YYMM</th>\n",
              "      <th>CARD_SIDO_NM</th>\n",
              "      <th>STD_CLSS_NM</th>\n",
              "      <th>AMT</th>\n",
              "    </tr>\n",
              "  </thead>\n",
              "  <tbody>\n",
              "    <tr>\n",
              "      <th>0</th>\n",
              "      <td>202004</td>\n",
              "      <td>0</td>\n",
              "      <td>0</td>\n",
              "      <td>4.910819e+08</td>\n",
              "    </tr>\n",
              "    <tr>\n",
              "      <th>1</th>\n",
              "      <td>202004</td>\n",
              "      <td>0</td>\n",
              "      <td>1</td>\n",
              "      <td>6.755726e+09</td>\n",
              "    </tr>\n",
              "    <tr>\n",
              "      <th>2</th>\n",
              "      <td>202004</td>\n",
              "      <td>0</td>\n",
              "      <td>2</td>\n",
              "      <td>1.832512e+09</td>\n",
              "    </tr>\n",
              "    <tr>\n",
              "      <th>3</th>\n",
              "      <td>202004</td>\n",
              "      <td>0</td>\n",
              "      <td>3</td>\n",
              "      <td>1.020002e+08</td>\n",
              "    </tr>\n",
              "    <tr>\n",
              "      <th>4</th>\n",
              "      <td>202004</td>\n",
              "      <td>0</td>\n",
              "      <td>4</td>\n",
              "      <td>9.810591e+07</td>\n",
              "    </tr>\n",
              "    <tr>\n",
              "      <th>...</th>\n",
              "      <td>...</td>\n",
              "      <td>...</td>\n",
              "      <td>...</td>\n",
              "      <td>...</td>\n",
              "    </tr>\n",
              "    <tr>\n",
              "      <th>1389</th>\n",
              "      <td>202007</td>\n",
              "      <td>16</td>\n",
              "      <td>36</td>\n",
              "      <td>1.881316e+09</td>\n",
              "    </tr>\n",
              "    <tr>\n",
              "      <th>1390</th>\n",
              "      <td>202007</td>\n",
              "      <td>16</td>\n",
              "      <td>37</td>\n",
              "      <td>2.836350e+10</td>\n",
              "    </tr>\n",
              "    <tr>\n",
              "      <th>1391</th>\n",
              "      <td>202007</td>\n",
              "      <td>16</td>\n",
              "      <td>38</td>\n",
              "      <td>2.005133e+08</td>\n",
              "    </tr>\n",
              "    <tr>\n",
              "      <th>1392</th>\n",
              "      <td>202007</td>\n",
              "      <td>16</td>\n",
              "      <td>39</td>\n",
              "      <td>1.181669e+09</td>\n",
              "    </tr>\n",
              "    <tr>\n",
              "      <th>1393</th>\n",
              "      <td>202007</td>\n",
              "      <td>16</td>\n",
              "      <td>40</td>\n",
              "      <td>4.835453e+08</td>\n",
              "    </tr>\n",
              "  </tbody>\n",
              "</table>\n",
              "<p>1394 rows × 4 columns</p>\n",
              "</div>"
            ],
            "text/plain": [
              "      REG_YYMM  CARD_SIDO_NM  STD_CLSS_NM           AMT\n",
              "0       202004             0            0  4.910819e+08\n",
              "1       202004             0            1  6.755726e+09\n",
              "2       202004             0            2  1.832512e+09\n",
              "3       202004             0            3  1.020002e+08\n",
              "4       202004             0            4  9.810591e+07\n",
              "...        ...           ...          ...           ...\n",
              "1389    202007            16           36  1.881316e+09\n",
              "1390    202007            16           37  2.836350e+10\n",
              "1391    202007            16           38  2.005133e+08\n",
              "1392    202007            16           39  1.181669e+09\n",
              "1393    202007            16           40  4.835453e+08\n",
              "\n",
              "[1394 rows x 4 columns]"
            ]
          },
          "metadata": {
            "tags": []
          },
          "execution_count": 14
        }
      ]
    },
    {
      "cell_type": "code",
      "metadata": {
        "id": "EwMi1FJcxQ5j",
        "colab_type": "code",
        "colab": {}
      },
      "source": [
        "# 디코딩\n",
        "temp['CARD_SIDO_NM'] = encoders['CARD_SIDO_NM'].inverse_transform(temp['CARD_SIDO_NM'])\n",
        "temp['STD_CLSS_NM'] = encoders['STD_CLSS_NM'].inverse_transform(temp['STD_CLSS_NM'])"
      ],
      "execution_count": null,
      "outputs": []
    },
    {
      "cell_type": "code",
      "metadata": {
        "id": "Me9F1q6YyZbu",
        "colab_type": "code",
        "colab": {
          "base_uri": "https://localhost:8080/",
          "height": 235
        },
        "outputId": "b8902fa3-9994-4fba-e85a-503d30b62bc9"
      },
      "source": [
        "# 제출 파일 만들기\n",
        "submission = pd.read_csv('/gdrive/My Drive/data_analysis/jeju/submission.csv', index_col=0)\n",
        "submission = submission.drop(['AMT'], axis=1)\n",
        "submission = submission.merge(temp, left_on=['REG_YYMM', 'CARD_SIDO_NM', 'STD_CLSS_NM'], right_on=['REG_YYMM', 'CARD_SIDO_NM', 'STD_CLSS_NM'], how='left')\n",
        "submission.index.name = 'id'\n",
        "submission.to_csv('/gdrive/My Drive/data_analysis/jeju/submission_02.csv', encoding='utf-8-sig')\n",
        "submission.head()"
      ],
      "execution_count": null,
      "outputs": [
        {
          "output_type": "execute_result",
          "data": {
            "text/html": [
              "<div>\n",
              "<style scoped>\n",
              "    .dataframe tbody tr th:only-of-type {\n",
              "        vertical-align: middle;\n",
              "    }\n",
              "\n",
              "    .dataframe tbody tr th {\n",
              "        vertical-align: top;\n",
              "    }\n",
              "\n",
              "    .dataframe thead th {\n",
              "        text-align: right;\n",
              "    }\n",
              "</style>\n",
              "<table border=\"1\" class=\"dataframe\">\n",
              "  <thead>\n",
              "    <tr style=\"text-align: right;\">\n",
              "      <th></th>\n",
              "      <th>REG_YYMM</th>\n",
              "      <th>CARD_SIDO_NM</th>\n",
              "      <th>STD_CLSS_NM</th>\n",
              "      <th>AMT</th>\n",
              "    </tr>\n",
              "    <tr>\n",
              "      <th>id</th>\n",
              "      <th></th>\n",
              "      <th></th>\n",
              "      <th></th>\n",
              "      <th></th>\n",
              "    </tr>\n",
              "  </thead>\n",
              "  <tbody>\n",
              "    <tr>\n",
              "      <th>0</th>\n",
              "      <td>202004</td>\n",
              "      <td>강원</td>\n",
              "      <td>건강보조식품 소매업</td>\n",
              "      <td>4.910819e+08</td>\n",
              "    </tr>\n",
              "    <tr>\n",
              "      <th>1</th>\n",
              "      <td>202004</td>\n",
              "      <td>강원</td>\n",
              "      <td>골프장 운영업</td>\n",
              "      <td>6.755726e+09</td>\n",
              "    </tr>\n",
              "    <tr>\n",
              "      <th>2</th>\n",
              "      <td>202004</td>\n",
              "      <td>강원</td>\n",
              "      <td>과실 및 채소 소매업</td>\n",
              "      <td>1.832512e+09</td>\n",
              "    </tr>\n",
              "    <tr>\n",
              "      <th>3</th>\n",
              "      <td>202004</td>\n",
              "      <td>강원</td>\n",
              "      <td>관광 민예품 및 선물용품 소매업</td>\n",
              "      <td>1.020002e+08</td>\n",
              "    </tr>\n",
              "    <tr>\n",
              "      <th>4</th>\n",
              "      <td>202004</td>\n",
              "      <td>강원</td>\n",
              "      <td>그외 기타 분류안된 오락관련 서비스업</td>\n",
              "      <td>9.810591e+07</td>\n",
              "    </tr>\n",
              "  </tbody>\n",
              "</table>\n",
              "</div>"
            ],
            "text/plain": [
              "    REG_YYMM CARD_SIDO_NM           STD_CLSS_NM           AMT\n",
              "id                                                           \n",
              "0     202004           강원            건강보조식품 소매업  4.910819e+08\n",
              "1     202004           강원               골프장 운영업  6.755726e+09\n",
              "2     202004           강원           과실 및 채소 소매업  1.832512e+09\n",
              "3     202004           강원     관광 민예품 및 선물용품 소매업  1.020002e+08\n",
              "4     202004           강원  그외 기타 분류안된 오락관련 서비스업  9.810591e+07"
            ]
          },
          "metadata": {
            "tags": []
          },
          "execution_count": 16
        }
      ]
    },
    {
      "cell_type": "code",
      "metadata": {
        "id": "ptNn9XS_ybHC",
        "colab_type": "code",
        "colab": {}
      },
      "source": [
        ""
      ],
      "execution_count": null,
      "outputs": []
    }
  ]
}