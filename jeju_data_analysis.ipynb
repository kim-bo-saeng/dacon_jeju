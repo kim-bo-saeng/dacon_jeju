{
  "nbformat": 4,
  "nbformat_minor": 0,
  "metadata": {
    "colab": {
      "name": "jeju_data_analysis.ipynb",
      "provenance": [],
      "collapsed_sections": [],
      "machine_shape": "hm",
      "include_colab_link": true
    },
    "kernelspec": {
      "name": "python3",
      "display_name": "Python 3"
    }
  },
  "cells": [
    {
      "cell_type": "markdown",
      "metadata": {
        "id": "view-in-github",
        "colab_type": "text"
      },
      "source": [
        "<a href=\"https://colab.research.google.com/github/kim-bo-saeng/dacon_jeju/blob/master/jeju_data_analysis.ipynb\" target=\"_parent\"><img src=\"https://colab.research.google.com/assets/colab-badge.svg\" alt=\"Open In Colab\"/></a>"
      ]
    },
    {
      "cell_type": "code",
      "metadata": {
        "id": "JGBX2ZPi8iTT",
        "colab_type": "code",
        "colab": {
          "base_uri": "https://localhost:8080/",
          "height": 127
        },
        "outputId": "f5f343bf-b182-42d7-d3b2-9281809340eb"
      },
      "source": [
        "from google.colab import drive\n",
        "drive.mount('/gdrive')"
      ],
      "execution_count": 1,
      "outputs": [
        {
          "output_type": "stream",
          "text": [
            "Go to this URL in a browser: https://accounts.google.com/o/oauth2/auth?client_id=947318989803-6bn6qk8qdgf4n4g3pfee6491hc0brc4i.apps.googleusercontent.com&redirect_uri=urn%3aietf%3awg%3aoauth%3a2.0%3aoob&response_type=code&scope=email%20https%3a%2f%2fwww.googleapis.com%2fauth%2fdocs.test%20https%3a%2f%2fwww.googleapis.com%2fauth%2fdrive%20https%3a%2f%2fwww.googleapis.com%2fauth%2fdrive.photos.readonly%20https%3a%2f%2fwww.googleapis.com%2fauth%2fpeopleapi.readonly\n",
            "\n",
            "Enter your authorization code:\n",
            "··········\n",
            "Mounted at /gdrive\n"
          ],
          "name": "stdout"
        }
      ]
    },
    {
      "cell_type": "markdown",
      "metadata": {
        "id": "aIrEJ7-R88rJ",
        "colab_type": "text"
      },
      "source": [
        "### Import Libraries"
      ]
    },
    {
      "cell_type": "code",
      "metadata": {
        "id": "BoPHDAyYQkCK",
        "colab_type": "code",
        "colab": {
          "base_uri": "https://localhost:8080/",
          "height": 73
        },
        "outputId": "1e4a3a38-d4c2-45c6-ca62-b6c1780bec83"
      },
      "source": [
        "import pandas as pd\n",
        "import numpy as np\n",
        "import sklearn as sk\n",
        "import matplotlib.pyplot as plt\n",
        "import seaborn as sns\n",
        "from sklearn.ensemble import RandomForestRegressor, GradientBoostingRegressor , ExtraTreesRegressor\n",
        "from sklearn.model_selection import RandomizedSearchCV\n",
        "from sklearn.model_selection import cross_val_predict\n",
        "from sklearn.metrics import r2_score\n",
        "from sklearn.preprocessing import LabelEncoder\n",
        "from sklearn.metrics import mean_squared_log_error"
      ],
      "execution_count": 2,
      "outputs": [
        {
          "output_type": "stream",
          "text": [
            "/usr/local/lib/python3.6/dist-packages/statsmodels/tools/_testing.py:19: FutureWarning: pandas.util.testing is deprecated. Use the functions in the public API at pandas.testing instead.\n",
            "  import pandas.util.testing as tm\n"
          ],
          "name": "stderr"
        }
      ]
    },
    {
      "cell_type": "code",
      "metadata": {
        "id": "V4GP8lHPzrmc",
        "colab_type": "code",
        "colab": {
          "base_uri": "https://localhost:8080/",
          "height": 269
        },
        "outputId": "0da7013e-29d6-4643-9ee1-ac2cb2c01971"
      },
      "source": [
        "# 한글폰트사용하기\n",
        "\n",
        "import matplotlib as mpl\n",
        "import matplotlib.pyplot as plt\n",
        " \n",
        "%config InlineBackend.figure_format = 'retina'\n",
        " \n",
        "!apt -qq -y install fonts-nanum\n",
        " \n",
        "import matplotlib.font_manager as fm\n",
        "fontpath = '/usr/share/fonts/truetype/nanum/NanumBarunGothic.ttf'\n",
        "font = fm.FontProperties(fname=fontpath, size=9)\n",
        "plt.rc('font', family='NanumBarunGothic') \n",
        "mpl.font_manager._rebuild()"
      ],
      "execution_count": 3,
      "outputs": [
        {
          "output_type": "stream",
          "text": [
            "The following package was automatically installed and is no longer required:\n",
            "  libnvidia-common-440\n",
            "Use 'apt autoremove' to remove it.\n",
            "The following NEW packages will be installed:\n",
            "  fonts-nanum\n",
            "0 upgraded, 1 newly installed, 0 to remove and 35 not upgraded.\n",
            "Need to get 9,604 kB of archives.\n",
            "After this operation, 29.5 MB of additional disk space will be used.\n",
            "Selecting previously unselected package fonts-nanum.\n",
            "(Reading database ... 144465 files and directories currently installed.)\n",
            "Preparing to unpack .../fonts-nanum_20170925-1_all.deb ...\n",
            "Unpacking fonts-nanum (20170925-1) ...\n",
            "Setting up fonts-nanum (20170925-1) ...\n",
            "Processing triggers for fontconfig (2.12.6-0ubuntu2) ...\n"
          ],
          "name": "stdout"
        }
      ]
    },
    {
      "cell_type": "markdown",
      "metadata": {
        "id": "PerNJfE4J-xL",
        "colab_type": "text"
      },
      "source": [
        "### Check Version"
      ]
    },
    {
      "cell_type": "code",
      "metadata": {
        "id": "5pvHzThlKDMr",
        "colab_type": "code",
        "colab": {
          "base_uri": "https://localhost:8080/",
          "height": 89
        },
        "outputId": "af4b3d17-30aa-4abb-8dab-832ed8edb2c1"
      },
      "source": [
        "print('Pandas : %s'%(pd.__version__))\n",
        "print('Numpy : %s'%(np.__version__))\n",
        "print('Scikit-Learn : %s'%(sk.__version__))\n",
        "!python --version"
      ],
      "execution_count": 4,
      "outputs": [
        {
          "output_type": "stream",
          "text": [
            "Pandas : 1.0.5\n",
            "Numpy : 1.18.5\n",
            "Scikit-Learn : 0.22.2.post1\n",
            "Python 3.6.9\n"
          ],
          "name": "stdout"
        }
      ]
    },
    {
      "cell_type": "markdown",
      "metadata": {
        "id": "j2TkiTuH9GD4",
        "colab_type": "text"
      },
      "source": [
        "### 데이터 전처리"
      ]
    },
    {
      "cell_type": "code",
      "metadata": {
        "id": "yaWLNZf6xLBd",
        "colab_type": "code",
        "colab": {
          "base_uri": "https://localhost:8080/",
          "height": 222
        },
        "outputId": "2b8b9d50-263c-46b0-ce99-1f0282a12832"
      },
      "source": [
        "row_data = pd.read_csv('/gdrive/My Drive/data_analysis/jeju/201901-202003.csv')\n",
        "print(row_data.shape)\n",
        "row_data.tail()"
      ],
      "execution_count": 5,
      "outputs": [
        {
          "output_type": "stream",
          "text": [
            "(24697792, 12)\n"
          ],
          "name": "stdout"
        },
        {
          "output_type": "execute_result",
          "data": {
            "text/html": [
              "<div>\n",
              "<style scoped>\n",
              "    .dataframe tbody tr th:only-of-type {\n",
              "        vertical-align: middle;\n",
              "    }\n",
              "\n",
              "    .dataframe tbody tr th {\n",
              "        vertical-align: top;\n",
              "    }\n",
              "\n",
              "    .dataframe thead th {\n",
              "        text-align: right;\n",
              "    }\n",
              "</style>\n",
              "<table border=\"1\" class=\"dataframe\">\n",
              "  <thead>\n",
              "    <tr style=\"text-align: right;\">\n",
              "      <th></th>\n",
              "      <th>REG_YYMM</th>\n",
              "      <th>CARD_SIDO_NM</th>\n",
              "      <th>CARD_CCG_NM</th>\n",
              "      <th>STD_CLSS_NM</th>\n",
              "      <th>HOM_SIDO_NM</th>\n",
              "      <th>HOM_CCG_NM</th>\n",
              "      <th>AGE</th>\n",
              "      <th>SEX_CTGO_CD</th>\n",
              "      <th>FLC</th>\n",
              "      <th>CSTMR_CNT</th>\n",
              "      <th>AMT</th>\n",
              "      <th>CNT</th>\n",
              "    </tr>\n",
              "  </thead>\n",
              "  <tbody>\n",
              "    <tr>\n",
              "      <th>24697787</th>\n",
              "      <td>202003</td>\n",
              "      <td>충북</td>\n",
              "      <td>충주시</td>\n",
              "      <td>휴양콘도 운영업</td>\n",
              "      <td>충북</td>\n",
              "      <td>충주시</td>\n",
              "      <td>30s</td>\n",
              "      <td>1</td>\n",
              "      <td>2</td>\n",
              "      <td>3</td>\n",
              "      <td>43300</td>\n",
              "      <td>4</td>\n",
              "    </tr>\n",
              "    <tr>\n",
              "      <th>24697788</th>\n",
              "      <td>202003</td>\n",
              "      <td>충북</td>\n",
              "      <td>충주시</td>\n",
              "      <td>휴양콘도 운영업</td>\n",
              "      <td>충북</td>\n",
              "      <td>충주시</td>\n",
              "      <td>40s</td>\n",
              "      <td>1</td>\n",
              "      <td>3</td>\n",
              "      <td>3</td>\n",
              "      <td>35000</td>\n",
              "      <td>3</td>\n",
              "    </tr>\n",
              "    <tr>\n",
              "      <th>24697789</th>\n",
              "      <td>202003</td>\n",
              "      <td>충북</td>\n",
              "      <td>충주시</td>\n",
              "      <td>휴양콘도 운영업</td>\n",
              "      <td>충북</td>\n",
              "      <td>충주시</td>\n",
              "      <td>50s</td>\n",
              "      <td>1</td>\n",
              "      <td>4</td>\n",
              "      <td>4</td>\n",
              "      <td>188000</td>\n",
              "      <td>6</td>\n",
              "    </tr>\n",
              "    <tr>\n",
              "      <th>24697790</th>\n",
              "      <td>202003</td>\n",
              "      <td>충북</td>\n",
              "      <td>충주시</td>\n",
              "      <td>휴양콘도 운영업</td>\n",
              "      <td>충북</td>\n",
              "      <td>충주시</td>\n",
              "      <td>50s</td>\n",
              "      <td>2</td>\n",
              "      <td>4</td>\n",
              "      <td>4</td>\n",
              "      <td>99000</td>\n",
              "      <td>6</td>\n",
              "    </tr>\n",
              "    <tr>\n",
              "      <th>24697791</th>\n",
              "      <td>202003</td>\n",
              "      <td>충북</td>\n",
              "      <td>충주시</td>\n",
              "      <td>휴양콘도 운영업</td>\n",
              "      <td>충북</td>\n",
              "      <td>충주시</td>\n",
              "      <td>60s</td>\n",
              "      <td>1</td>\n",
              "      <td>5</td>\n",
              "      <td>3</td>\n",
              "      <td>194000</td>\n",
              "      <td>3</td>\n",
              "    </tr>\n",
              "  </tbody>\n",
              "</table>\n",
              "</div>"
            ],
            "text/plain": [
              "          REG_YYMM CARD_SIDO_NM CARD_CCG_NM  ... CSTMR_CNT     AMT CNT\n",
              "24697787    202003           충북         충주시  ...         3   43300   4\n",
              "24697788    202003           충북         충주시  ...         3   35000   3\n",
              "24697789    202003           충북         충주시  ...         4  188000   6\n",
              "24697790    202003           충북         충주시  ...         4   99000   6\n",
              "24697791    202003           충북         충주시  ...         3  194000   3\n",
              "\n",
              "[5 rows x 12 columns]"
            ]
          },
          "metadata": {
            "tags": []
          },
          "execution_count": 5
        }
      ]
    },
    {
      "cell_type": "code",
      "metadata": {
        "id": "W4xkwjF9KkUO",
        "colab_type": "code",
        "colab": {
          "base_uri": "https://localhost:8080/",
          "height": 251
        },
        "outputId": "1b8ae1f2-17ff-47fb-95df-bbd5722736d4"
      },
      "source": [
        "# 빈값찾기\n",
        "row_data.isnull().sum()"
      ],
      "execution_count": 6,
      "outputs": [
        {
          "output_type": "execute_result",
          "data": {
            "text/plain": [
              "REG_YYMM             0\n",
              "CARD_SIDO_NM         0\n",
              "CARD_CCG_NM      87213\n",
              "STD_CLSS_NM          0\n",
              "HOM_SIDO_NM          0\n",
              "HOM_CCG_NM      147787\n",
              "AGE                  0\n",
              "SEX_CTGO_CD          0\n",
              "FLC                  0\n",
              "CSTMR_CNT            0\n",
              "AMT                  0\n",
              "CNT                  0\n",
              "dtype: int64"
            ]
          },
          "metadata": {
            "tags": []
          },
          "execution_count": 6
        }
      ]
    },
    {
      "cell_type": "code",
      "metadata": {
        "id": "6Sgg_X6kKzK5",
        "colab_type": "code",
        "colab": {
          "base_uri": "https://localhost:8080/",
          "height": 323
        },
        "outputId": "edec75e5-9d34-40df-b300-003306359146"
      },
      "source": [
        "# CARD_CCG_NM / HOM_CCG_NM 모두 세종시일경우 CARD_CCG_NM / HOM_CCG_NM 의 값이 빈값이므로 세종으로 채워줌\n",
        "print(row_data[row_data['CARD_CCG_NM'].isna()]['CARD_SIDO_NM'].value_counts())\n",
        "print(row_data[row_data['HOM_CCG_NM'].isna()]['HOM_SIDO_NM'].value_counts())\n",
        "\n",
        "row_data = row_data.fillna('세종')\n",
        "row_data.isnull().sum()"
      ],
      "execution_count": 7,
      "outputs": [
        {
          "output_type": "stream",
          "text": [
            "세종    87213\n",
            "Name: CARD_SIDO_NM, dtype: int64\n",
            "세종    147787\n",
            "Name: HOM_SIDO_NM, dtype: int64\n"
          ],
          "name": "stdout"
        },
        {
          "output_type": "execute_result",
          "data": {
            "text/plain": [
              "REG_YYMM        0\n",
              "CARD_SIDO_NM    0\n",
              "CARD_CCG_NM     0\n",
              "STD_CLSS_NM     0\n",
              "HOM_SIDO_NM     0\n",
              "HOM_CCG_NM      0\n",
              "AGE             0\n",
              "SEX_CTGO_CD     0\n",
              "FLC             0\n",
              "CSTMR_CNT       0\n",
              "AMT             0\n",
              "CNT             0\n",
              "dtype: int64"
            ]
          },
          "metadata": {
            "tags": []
          },
          "execution_count": 7
        }
      ]
    },
    {
      "cell_type": "markdown",
      "metadata": {
        "id": "Uz0PYKo8Oq03",
        "colab_type": "text"
      },
      "source": [
        "### EDA"
      ]
    },
    {
      "cell_type": "code",
      "metadata": {
        "id": "yz96KBueOpao",
        "colab_type": "code",
        "colab": {
          "base_uri": "https://localhost:8080/",
          "height": 204
        },
        "outputId": "e90830f3-2bcd-4733-a8c8-7c5bdaac527e"
      },
      "source": [
        "row_data.tail()"
      ],
      "execution_count": 8,
      "outputs": [
        {
          "output_type": "execute_result",
          "data": {
            "text/html": [
              "<div>\n",
              "<style scoped>\n",
              "    .dataframe tbody tr th:only-of-type {\n",
              "        vertical-align: middle;\n",
              "    }\n",
              "\n",
              "    .dataframe tbody tr th {\n",
              "        vertical-align: top;\n",
              "    }\n",
              "\n",
              "    .dataframe thead th {\n",
              "        text-align: right;\n",
              "    }\n",
              "</style>\n",
              "<table border=\"1\" class=\"dataframe\">\n",
              "  <thead>\n",
              "    <tr style=\"text-align: right;\">\n",
              "      <th></th>\n",
              "      <th>REG_YYMM</th>\n",
              "      <th>CARD_SIDO_NM</th>\n",
              "      <th>CARD_CCG_NM</th>\n",
              "      <th>STD_CLSS_NM</th>\n",
              "      <th>HOM_SIDO_NM</th>\n",
              "      <th>HOM_CCG_NM</th>\n",
              "      <th>AGE</th>\n",
              "      <th>SEX_CTGO_CD</th>\n",
              "      <th>FLC</th>\n",
              "      <th>CSTMR_CNT</th>\n",
              "      <th>AMT</th>\n",
              "      <th>CNT</th>\n",
              "    </tr>\n",
              "  </thead>\n",
              "  <tbody>\n",
              "    <tr>\n",
              "      <th>24697787</th>\n",
              "      <td>202003</td>\n",
              "      <td>충북</td>\n",
              "      <td>충주시</td>\n",
              "      <td>휴양콘도 운영업</td>\n",
              "      <td>충북</td>\n",
              "      <td>충주시</td>\n",
              "      <td>30s</td>\n",
              "      <td>1</td>\n",
              "      <td>2</td>\n",
              "      <td>3</td>\n",
              "      <td>43300</td>\n",
              "      <td>4</td>\n",
              "    </tr>\n",
              "    <tr>\n",
              "      <th>24697788</th>\n",
              "      <td>202003</td>\n",
              "      <td>충북</td>\n",
              "      <td>충주시</td>\n",
              "      <td>휴양콘도 운영업</td>\n",
              "      <td>충북</td>\n",
              "      <td>충주시</td>\n",
              "      <td>40s</td>\n",
              "      <td>1</td>\n",
              "      <td>3</td>\n",
              "      <td>3</td>\n",
              "      <td>35000</td>\n",
              "      <td>3</td>\n",
              "    </tr>\n",
              "    <tr>\n",
              "      <th>24697789</th>\n",
              "      <td>202003</td>\n",
              "      <td>충북</td>\n",
              "      <td>충주시</td>\n",
              "      <td>휴양콘도 운영업</td>\n",
              "      <td>충북</td>\n",
              "      <td>충주시</td>\n",
              "      <td>50s</td>\n",
              "      <td>1</td>\n",
              "      <td>4</td>\n",
              "      <td>4</td>\n",
              "      <td>188000</td>\n",
              "      <td>6</td>\n",
              "    </tr>\n",
              "    <tr>\n",
              "      <th>24697790</th>\n",
              "      <td>202003</td>\n",
              "      <td>충북</td>\n",
              "      <td>충주시</td>\n",
              "      <td>휴양콘도 운영업</td>\n",
              "      <td>충북</td>\n",
              "      <td>충주시</td>\n",
              "      <td>50s</td>\n",
              "      <td>2</td>\n",
              "      <td>4</td>\n",
              "      <td>4</td>\n",
              "      <td>99000</td>\n",
              "      <td>6</td>\n",
              "    </tr>\n",
              "    <tr>\n",
              "      <th>24697791</th>\n",
              "      <td>202003</td>\n",
              "      <td>충북</td>\n",
              "      <td>충주시</td>\n",
              "      <td>휴양콘도 운영업</td>\n",
              "      <td>충북</td>\n",
              "      <td>충주시</td>\n",
              "      <td>60s</td>\n",
              "      <td>1</td>\n",
              "      <td>5</td>\n",
              "      <td>3</td>\n",
              "      <td>194000</td>\n",
              "      <td>3</td>\n",
              "    </tr>\n",
              "  </tbody>\n",
              "</table>\n",
              "</div>"
            ],
            "text/plain": [
              "          REG_YYMM CARD_SIDO_NM CARD_CCG_NM  ... CSTMR_CNT     AMT CNT\n",
              "24697787    202003           충북         충주시  ...         3   43300   4\n",
              "24697788    202003           충북         충주시  ...         3   35000   3\n",
              "24697789    202003           충북         충주시  ...         4  188000   6\n",
              "24697790    202003           충북         충주시  ...         4   99000   6\n",
              "24697791    202003           충북         충주시  ...         3  194000   3\n",
              "\n",
              "[5 rows x 12 columns]"
            ]
          },
          "metadata": {
            "tags": []
          },
          "execution_count": 8
        }
      ]
    },
    {
      "cell_type": "code",
      "metadata": {
        "id": "q7AJj-DwPERs",
        "colab_type": "code",
        "colab": {
          "base_uri": "https://localhost:8080/",
          "height": 416
        },
        "outputId": "a6c05028-f5ca-47d9-8a3f-a47ec75b1b57"
      },
      "source": [
        "YYMM_AMT_data = pd.DataFrame(row_data.groupby(['REG_YYMM'])['AMT'].sum()).reset_index()\n",
        "plt.figure(figsize=(18,6))\n",
        "sns.barplot(data = YYMM_AMT_data, x = 'REG_YYMM', y = 'AMT')"
      ],
      "execution_count": 9,
      "outputs": [
        {
          "output_type": "execute_result",
          "data": {
            "text/plain": [
              "<matplotlib.axes._subplots.AxesSubplot at 0x7fb4e1e90f98>"
            ]
          },
          "metadata": {
            "tags": []
          },
          "execution_count": 9
        },
        {
          "output_type": "stream",
          "text": [
            "findfont: Font family ['NanumBarunGothic'] not found. Falling back to DejaVu Sans.\n"
          ],
          "name": "stderr"
        },
        {
          "output_type": "display_data",
          "data": {
            "image/png": "[encoded data removed]",
            "text/plain": [
              "<Figure size 1296x432 with 1 Axes>"
            ]
          },
          "metadata": {
            "tags": [],
            "image/png": {
              "width": 1045,
              "height": 381
            },
            "needs_background": "light"
          }
        }
      ]
    },
    {
      "cell_type": "markdown",
      "metadata": {
        "id": "eC3Ik3NhQSDg",
        "colab_type": "text"
      },
      "source": [
        "### 4월을 예측하기 위해 코로나의 영향을 모델에게 학습시켜야 하므로 2019년 1월과 2020년 1월은 코로나의 영향이 없다고 보여지기때문에 제외하고 2019년 5월부터 12월까지도 모델이 학습함에 있어 오해를 줄수 있으므로 제외한다 즉, 2019년 2월/3월/4월 과 2020년 2월,3월을 이용한다"
      ]
    },
    {
      "cell_type": "markdown",
      "metadata": {
        "id": "-kjS2yqjPo4N",
        "colab_type": "text"
      },
      "source": [
        "### Feature Enginnering"
      ]
    },
    {
      "cell_type": "code",
      "metadata": {
        "id": "qLeprcJFa3yt",
        "colab_type": "code",
        "colab": {
          "base_uri": "https://localhost:8080/",
          "height": 204
        },
        "outputId": "11144293-a4b5-467f-c73e-1e9e4b796d88"
      },
      "source": [
        "# 모델 학습을 위한 데이터 선택 : 2019년 2월/3월/4월 + 2020년 2월/3월 \n",
        "data190234_2023 = row_data[(row_data['REG_YYMM'] == 201902) | (row_data['REG_YYMM'] == 201903) | (row_data['REG_YYMM'] == 201904) |\n",
        "                             (row_data['REG_YYMM'] == 202002) | (row_data['REG_YYMM'] == 202003)\n",
        "                            ]\n",
        "data190234_2023.tail()"
      ],
      "execution_count": 10,
      "outputs": [
        {
          "output_type": "execute_result",
          "data": {
            "text/html": [
              "<div>\n",
              "<style scoped>\n",
              "    .dataframe tbody tr th:only-of-type {\n",
              "        vertical-align: middle;\n",
              "    }\n",
              "\n",
              "    .dataframe tbody tr th {\n",
              "        vertical-align: top;\n",
              "    }\n",
              "\n",
              "    .dataframe thead th {\n",
              "        text-align: right;\n",
              "    }\n",
              "</style>\n",
              "<table border=\"1\" class=\"dataframe\">\n",
              "  <thead>\n",
              "    <tr style=\"text-align: right;\">\n",
              "      <th></th>\n",
              "      <th>REG_YYMM</th>\n",
              "      <th>CARD_SIDO_NM</th>\n",
              "      <th>CARD_CCG_NM</th>\n",
              "      <th>STD_CLSS_NM</th>\n",
              "      <th>HOM_SIDO_NM</th>\n",
              "      <th>HOM_CCG_NM</th>\n",
              "      <th>AGE</th>\n",
              "      <th>SEX_CTGO_CD</th>\n",
              "      <th>FLC</th>\n",
              "      <th>CSTMR_CNT</th>\n",
              "      <th>AMT</th>\n",
              "      <th>CNT</th>\n",
              "    </tr>\n",
              "  </thead>\n",
              "  <tbody>\n",
              "    <tr>\n",
              "      <th>24697787</th>\n",
              "      <td>202003</td>\n",
              "      <td>충북</td>\n",
              "      <td>충주시</td>\n",
              "      <td>휴양콘도 운영업</td>\n",
              "      <td>충북</td>\n",
              "      <td>충주시</td>\n",
              "      <td>30s</td>\n",
              "      <td>1</td>\n",
              "      <td>2</td>\n",
              "      <td>3</td>\n",
              "      <td>43300</td>\n",
              "      <td>4</td>\n",
              "    </tr>\n",
              "    <tr>\n",
              "      <th>24697788</th>\n",
              "      <td>202003</td>\n",
              "      <td>충북</td>\n",
              "      <td>충주시</td>\n",
              "      <td>휴양콘도 운영업</td>\n",
              "      <td>충북</td>\n",
              "      <td>충주시</td>\n",
              "      <td>40s</td>\n",
              "      <td>1</td>\n",
              "      <td>3</td>\n",
              "      <td>3</td>\n",
              "      <td>35000</td>\n",
              "      <td>3</td>\n",
              "    </tr>\n",
              "    <tr>\n",
              "      <th>24697789</th>\n",
              "      <td>202003</td>\n",
              "      <td>충북</td>\n",
              "      <td>충주시</td>\n",
              "      <td>휴양콘도 운영업</td>\n",
              "      <td>충북</td>\n",
              "      <td>충주시</td>\n",
              "      <td>50s</td>\n",
              "      <td>1</td>\n",
              "      <td>4</td>\n",
              "      <td>4</td>\n",
              "      <td>188000</td>\n",
              "      <td>6</td>\n",
              "    </tr>\n",
              "    <tr>\n",
              "      <th>24697790</th>\n",
              "      <td>202003</td>\n",
              "      <td>충북</td>\n",
              "      <td>충주시</td>\n",
              "      <td>휴양콘도 운영업</td>\n",
              "      <td>충북</td>\n",
              "      <td>충주시</td>\n",
              "      <td>50s</td>\n",
              "      <td>2</td>\n",
              "      <td>4</td>\n",
              "      <td>4</td>\n",
              "      <td>99000</td>\n",
              "      <td>6</td>\n",
              "    </tr>\n",
              "    <tr>\n",
              "      <th>24697791</th>\n",
              "      <td>202003</td>\n",
              "      <td>충북</td>\n",
              "      <td>충주시</td>\n",
              "      <td>휴양콘도 운영업</td>\n",
              "      <td>충북</td>\n",
              "      <td>충주시</td>\n",
              "      <td>60s</td>\n",
              "      <td>1</td>\n",
              "      <td>5</td>\n",
              "      <td>3</td>\n",
              "      <td>194000</td>\n",
              "      <td>3</td>\n",
              "    </tr>\n",
              "  </tbody>\n",
              "</table>\n",
              "</div>"
            ],
            "text/plain": [
              "          REG_YYMM CARD_SIDO_NM CARD_CCG_NM  ... CSTMR_CNT     AMT CNT\n",
              "24697787    202003           충북         충주시  ...         3   43300   4\n",
              "24697788    202003           충북         충주시  ...         3   35000   3\n",
              "24697789    202003           충북         충주시  ...         4  188000   6\n",
              "24697790    202003           충북         충주시  ...         4   99000   6\n",
              "24697791    202003           충북         충주시  ...         3  194000   3\n",
              "\n",
              "[5 rows x 12 columns]"
            ]
          },
          "metadata": {
            "tags": []
          },
          "execution_count": 10
        }
      ]
    },
    {
      "cell_type": "code",
      "metadata": {
        "id": "at4JH5WPNxGp",
        "colab_type": "code",
        "colab": {}
      },
      "source": [
        "# 모델 학습을 위한 데이터 선택 : 2019년 1월/2월/7월 + 2020년 1월/2월 만 뽑은 데이터\n",
        "#data190127_2012 = row_data[(row_data['REG_YYMM'] == 201901) | (row_data['REG_YYMM'] == 201902) | (row_data['REG_YYMM'] == 201907) |\n",
        "#                            (row_data['REG_YYMM'] == 202001) | (row_data['REG_YYMM'] == 202002)\n",
        "#                           ]\n",
        "#data190127_2012"
      ],
      "execution_count": null,
      "outputs": []
    },
    {
      "cell_type": "code",
      "metadata": {
        "id": "X-UE3mITIXEm",
        "colab_type": "code",
        "colab": {}
      },
      "source": [
        "# 소비자동향지수 데이터\n",
        "#customer_index = pd.read_excel('/gdrive/My Drive/data_analysis/jeju/customer_index.xls', index_col=0)\n",
        "#customer_index = customer_index.T.reset_index().rename(columns = {'index' : 'REG_YYMM'})\n",
        "\n",
        "#row_data = row_data.merge(customer_index, how = 'left', on = ['REG_YYMM'])\n",
        "#row_data['Consumer_sentiment_index'] = row_data['Consumer_sentiment_index'].astype(int)\n",
        "#row_data.tail()"
      ],
      "execution_count": null,
      "outputs": []
    },
    {
      "cell_type": "code",
      "metadata": {
        "id": "33mHHm70xWFh",
        "colab_type": "code",
        "colab": {}
      },
      "source": [
        "def grap_year(data):\n",
        "  data = str(data)\n",
        "  return int(data[:4])\n",
        "\n",
        "def grap_month(data):\n",
        "  data = str(data)\n",
        "  return int(data[4:])"
      ],
      "execution_count": 11,
      "outputs": []
    },
    {
      "cell_type": "code",
      "metadata": {
        "id": "ejHzEzMV9fvM",
        "colab_type": "code",
        "colab": {
          "base_uri": "https://localhost:8080/",
          "height": 222
        },
        "outputId": "263fcb68-1c08-4409-c107-c8a063f24574"
      },
      "source": [
        "# 날짜 처리\n",
        "temp_data = data190234_2023.copy()\n",
        "temp_data = temp_data.fillna('')\n",
        "temp_data['year'] = temp_data['REG_YYMM'].apply(lambda x : grap_year(x))\n",
        "temp_data['month'] = temp_data['REG_YYMM'].apply(lambda x : grap_month(x))\n",
        "temp_data = temp_data.drop(['REG_YYMM'], axis = 1)\n",
        "print(temp_data.shape)\n",
        "temp_data.tail()"
      ],
      "execution_count": 12,
      "outputs": [
        {
          "output_type": "stream",
          "text": [
            "(7518084, 13)\n"
          ],
          "name": "stdout"
        },
        {
          "output_type": "execute_result",
          "data": {
            "text/html": [
              "<div>\n",
              "<style scoped>\n",
              "    .dataframe tbody tr th:only-of-type {\n",
              "        vertical-align: middle;\n",
              "    }\n",
              "\n",
              "    .dataframe tbody tr th {\n",
              "        vertical-align: top;\n",
              "    }\n",
              "\n",
              "    .dataframe thead th {\n",
              "        text-align: right;\n",
              "    }\n",
              "</style>\n",
              "<table border=\"1\" class=\"dataframe\">\n",
              "  <thead>\n",
              "    <tr style=\"text-align: right;\">\n",
              "      <th></th>\n",
              "      <th>CARD_SIDO_NM</th>\n",
              "      <th>CARD_CCG_NM</th>\n",
              "      <th>STD_CLSS_NM</th>\n",
              "      <th>HOM_SIDO_NM</th>\n",
              "      <th>HOM_CCG_NM</th>\n",
              "      <th>AGE</th>\n",
              "      <th>SEX_CTGO_CD</th>\n",
              "      <th>FLC</th>\n",
              "      <th>CSTMR_CNT</th>\n",
              "      <th>AMT</th>\n",
              "      <th>CNT</th>\n",
              "      <th>year</th>\n",
              "      <th>month</th>\n",
              "    </tr>\n",
              "  </thead>\n",
              "  <tbody>\n",
              "    <tr>\n",
              "      <th>24697787</th>\n",
              "      <td>충북</td>\n",
              "      <td>충주시</td>\n",
              "      <td>휴양콘도 운영업</td>\n",
              "      <td>충북</td>\n",
              "      <td>충주시</td>\n",
              "      <td>30s</td>\n",
              "      <td>1</td>\n",
              "      <td>2</td>\n",
              "      <td>3</td>\n",
              "      <td>43300</td>\n",
              "      <td>4</td>\n",
              "      <td>2020</td>\n",
              "      <td>3</td>\n",
              "    </tr>\n",
              "    <tr>\n",
              "      <th>24697788</th>\n",
              "      <td>충북</td>\n",
              "      <td>충주시</td>\n",
              "      <td>휴양콘도 운영업</td>\n",
              "      <td>충북</td>\n",
              "      <td>충주시</td>\n",
              "      <td>40s</td>\n",
              "      <td>1</td>\n",
              "      <td>3</td>\n",
              "      <td>3</td>\n",
              "      <td>35000</td>\n",
              "      <td>3</td>\n",
              "      <td>2020</td>\n",
              "      <td>3</td>\n",
              "    </tr>\n",
              "    <tr>\n",
              "      <th>24697789</th>\n",
              "      <td>충북</td>\n",
              "      <td>충주시</td>\n",
              "      <td>휴양콘도 운영업</td>\n",
              "      <td>충북</td>\n",
              "      <td>충주시</td>\n",
              "      <td>50s</td>\n",
              "      <td>1</td>\n",
              "      <td>4</td>\n",
              "      <td>4</td>\n",
              "      <td>188000</td>\n",
              "      <td>6</td>\n",
              "      <td>2020</td>\n",
              "      <td>3</td>\n",
              "    </tr>\n",
              "    <tr>\n",
              "      <th>24697790</th>\n",
              "      <td>충북</td>\n",
              "      <td>충주시</td>\n",
              "      <td>휴양콘도 운영업</td>\n",
              "      <td>충북</td>\n",
              "      <td>충주시</td>\n",
              "      <td>50s</td>\n",
              "      <td>2</td>\n",
              "      <td>4</td>\n",
              "      <td>4</td>\n",
              "      <td>99000</td>\n",
              "      <td>6</td>\n",
              "      <td>2020</td>\n",
              "      <td>3</td>\n",
              "    </tr>\n",
              "    <tr>\n",
              "      <th>24697791</th>\n",
              "      <td>충북</td>\n",
              "      <td>충주시</td>\n",
              "      <td>휴양콘도 운영업</td>\n",
              "      <td>충북</td>\n",
              "      <td>충주시</td>\n",
              "      <td>60s</td>\n",
              "      <td>1</td>\n",
              "      <td>5</td>\n",
              "      <td>3</td>\n",
              "      <td>194000</td>\n",
              "      <td>3</td>\n",
              "      <td>2020</td>\n",
              "      <td>3</td>\n",
              "    </tr>\n",
              "  </tbody>\n",
              "</table>\n",
              "</div>"
            ],
            "text/plain": [
              "         CARD_SIDO_NM CARD_CCG_NM STD_CLSS_NM  ... CNT  year month\n",
              "24697787           충북         충주시    휴양콘도 운영업  ...   4  2020     3\n",
              "24697788           충북         충주시    휴양콘도 운영업  ...   3  2020     3\n",
              "24697789           충북         충주시    휴양콘도 운영업  ...   6  2020     3\n",
              "24697790           충북         충주시    휴양콘도 운영업  ...   6  2020     3\n",
              "24697791           충북         충주시    휴양콘도 운영업  ...   3  2020     3\n",
              "\n",
              "[5 rows x 13 columns]"
            ]
          },
          "metadata": {
            "tags": []
          },
          "execution_count": 12
        }
      ]
    },
    {
      "cell_type": "code",
      "metadata": {
        "id": "qhBSh-6VWakF",
        "colab_type": "code",
        "colab": {
          "base_uri": "https://localhost:8080/",
          "height": 492
        },
        "outputId": "44f28796-d62a-4212-acb6-153f3da78845"
      },
      "source": [
        "# 데이터 정제\n",
        "df = temp_data.copy()\n",
        "df = df.drop(['CARD_CCG_NM', 'HOM_CCG_NM','SEX_CTGO_CD','CSTMR_CNT', 'CNT'], axis = 1)\n",
        "\n",
        "columns = ['CARD_SIDO_NM', 'STD_CLSS_NM', 'HOM_SIDO_NM',\t'AGE',\t'FLC', 'year',\t'month']\n",
        "df = df.groupby(columns).sum().reset_index(drop=False)\n",
        "\n",
        "print(df.info())\n",
        "df.head()"
      ],
      "execution_count": 13,
      "outputs": [
        {
          "output_type": "stream",
          "text": [
            "<class 'pandas.core.frame.DataFrame'>\n",
            "RangeIndex: 195708 entries, 0 to 195707\n",
            "Data columns (total 8 columns):\n",
            " #   Column        Non-Null Count   Dtype \n",
            "---  ------        --------------   ----- \n",
            " 0   CARD_SIDO_NM  195708 non-null  object\n",
            " 1   STD_CLSS_NM   195708 non-null  object\n",
            " 2   HOM_SIDO_NM   195708 non-null  object\n",
            " 3   AGE           195708 non-null  object\n",
            " 4   FLC           195708 non-null  int64 \n",
            " 5   year          195708 non-null  int64 \n",
            " 6   month         195708 non-null  int64 \n",
            " 7   AMT           195708 non-null  int64 \n",
            "dtypes: int64(4), object(4)\n",
            "memory usage: 11.9+ MB\n",
            "None\n"
          ],
          "name": "stdout"
        },
        {
          "output_type": "execute_result",
          "data": {
            "text/html": [
              "<div>\n",
              "<style scoped>\n",
              "    .dataframe tbody tr th:only-of-type {\n",
              "        vertical-align: middle;\n",
              "    }\n",
              "\n",
              "    .dataframe tbody tr th {\n",
              "        vertical-align: top;\n",
              "    }\n",
              "\n",
              "    .dataframe thead th {\n",
              "        text-align: right;\n",
              "    }\n",
              "</style>\n",
              "<table border=\"1\" class=\"dataframe\">\n",
              "  <thead>\n",
              "    <tr style=\"text-align: right;\">\n",
              "      <th></th>\n",
              "      <th>CARD_SIDO_NM</th>\n",
              "      <th>STD_CLSS_NM</th>\n",
              "      <th>HOM_SIDO_NM</th>\n",
              "      <th>AGE</th>\n",
              "      <th>FLC</th>\n",
              "      <th>year</th>\n",
              "      <th>month</th>\n",
              "      <th>AMT</th>\n",
              "    </tr>\n",
              "  </thead>\n",
              "  <tbody>\n",
              "    <tr>\n",
              "      <th>0</th>\n",
              "      <td>강원</td>\n",
              "      <td>건강보조식품 소매업</td>\n",
              "      <td>강원</td>\n",
              "      <td>20s</td>\n",
              "      <td>1</td>\n",
              "      <td>2019</td>\n",
              "      <td>2</td>\n",
              "      <td>1517000</td>\n",
              "    </tr>\n",
              "    <tr>\n",
              "      <th>1</th>\n",
              "      <td>강원</td>\n",
              "      <td>건강보조식품 소매업</td>\n",
              "      <td>강원</td>\n",
              "      <td>20s</td>\n",
              "      <td>1</td>\n",
              "      <td>2019</td>\n",
              "      <td>3</td>\n",
              "      <td>631000</td>\n",
              "    </tr>\n",
              "    <tr>\n",
              "      <th>2</th>\n",
              "      <td>강원</td>\n",
              "      <td>건강보조식품 소매업</td>\n",
              "      <td>강원</td>\n",
              "      <td>20s</td>\n",
              "      <td>1</td>\n",
              "      <td>2019</td>\n",
              "      <td>4</td>\n",
              "      <td>266000</td>\n",
              "    </tr>\n",
              "    <tr>\n",
              "      <th>3</th>\n",
              "      <td>강원</td>\n",
              "      <td>건강보조식품 소매업</td>\n",
              "      <td>강원</td>\n",
              "      <td>20s</td>\n",
              "      <td>1</td>\n",
              "      <td>2020</td>\n",
              "      <td>2</td>\n",
              "      <td>441100</td>\n",
              "    </tr>\n",
              "    <tr>\n",
              "      <th>4</th>\n",
              "      <td>강원</td>\n",
              "      <td>건강보조식품 소매업</td>\n",
              "      <td>강원</td>\n",
              "      <td>20s</td>\n",
              "      <td>1</td>\n",
              "      <td>2020</td>\n",
              "      <td>3</td>\n",
              "      <td>427510</td>\n",
              "    </tr>\n",
              "  </tbody>\n",
              "</table>\n",
              "</div>"
            ],
            "text/plain": [
              "  CARD_SIDO_NM STD_CLSS_NM HOM_SIDO_NM  AGE  FLC  year  month      AMT\n",
              "0           강원  건강보조식품 소매업          강원  20s    1  2019      2  1517000\n",
              "1           강원  건강보조식품 소매업          강원  20s    1  2019      3   631000\n",
              "2           강원  건강보조식품 소매업          강원  20s    1  2019      4   266000\n",
              "3           강원  건강보조식품 소매업          강원  20s    1  2020      2   441100\n",
              "4           강원  건강보조식품 소매업          강원  20s    1  2020      3   427510"
            ]
          },
          "metadata": {
            "tags": []
          },
          "execution_count": 13
        }
      ]
    },
    {
      "cell_type": "code",
      "metadata": {
        "id": "XLsJI4pLBK-_",
        "colab_type": "code",
        "colab": {}
      },
      "source": [
        "# 결제고객수와 결제건수의 차이를 비교한 컬럼을 생성\n",
        "\n",
        "#df.loc[df['CSTMR_CNT'] > df['CNT'], 'payment'] = \"결제취소\"\n",
        "#df.loc[df['CSTMR_CNT'] == df['CNT'], 'payment'] = \"일반결제\"\n",
        "#df.loc[df['CSTMR_CNT'] < df['CNT'], 'payment'] = \"여러번결제\"\n",
        "#df.info()"
      ],
      "execution_count": null,
      "outputs": []
    },
    {
      "cell_type": "code",
      "metadata": {
        "id": "UN_FhLD7fvBV",
        "colab_type": "code",
        "colab": {
          "base_uri": "https://localhost:8080/",
          "height": 204
        },
        "outputId": "467ddb30-f576-4ee8-d774-cbeeb3dc5fd5"
      },
      "source": [
        "# 생활권 비생활권 피쳐 생성\n",
        "df.loc[df['CARD_SIDO_NM'] == df['HOM_SIDO_NM'], 'MY_HOME'] = 1\n",
        "df.loc[df['CARD_SIDO_NM'] != df['HOM_SIDO_NM'], 'MY_HOME'] = 0\n",
        "df['MY_HOME'] = df['MY_HOME'].astype(int)\n",
        "df = df[['CARD_SIDO_NM',\t'STD_CLSS_NM',\t'HOM_SIDO_NM',\t'AGE', 'FLC',\t'year',\t'month',\t'MY_HOME' ,'AMT']]\n",
        "df.tail()"
      ],
      "execution_count": 14,
      "outputs": [
        {
          "output_type": "execute_result",
          "data": {
            "text/html": [
              "<div>\n",
              "<style scoped>\n",
              "    .dataframe tbody tr th:only-of-type {\n",
              "        vertical-align: middle;\n",
              "    }\n",
              "\n",
              "    .dataframe tbody tr th {\n",
              "        vertical-align: top;\n",
              "    }\n",
              "\n",
              "    .dataframe thead th {\n",
              "        text-align: right;\n",
              "    }\n",
              "</style>\n",
              "<table border=\"1\" class=\"dataframe\">\n",
              "  <thead>\n",
              "    <tr style=\"text-align: right;\">\n",
              "      <th></th>\n",
              "      <th>CARD_SIDO_NM</th>\n",
              "      <th>STD_CLSS_NM</th>\n",
              "      <th>HOM_SIDO_NM</th>\n",
              "      <th>AGE</th>\n",
              "      <th>FLC</th>\n",
              "      <th>year</th>\n",
              "      <th>month</th>\n",
              "      <th>MY_HOME</th>\n",
              "      <th>AMT</th>\n",
              "    </tr>\n",
              "  </thead>\n",
              "  <tbody>\n",
              "    <tr>\n",
              "      <th>195703</th>\n",
              "      <td>충북</td>\n",
              "      <td>휴양콘도 운영업</td>\n",
              "      <td>충북</td>\n",
              "      <td>60s</td>\n",
              "      <td>5</td>\n",
              "      <td>2020</td>\n",
              "      <td>3</td>\n",
              "      <td>1</td>\n",
              "      <td>280300</td>\n",
              "    </tr>\n",
              "    <tr>\n",
              "      <th>195704</th>\n",
              "      <td>충북</td>\n",
              "      <td>휴양콘도 운영업</td>\n",
              "      <td>충북</td>\n",
              "      <td>70s</td>\n",
              "      <td>5</td>\n",
              "      <td>2019</td>\n",
              "      <td>2</td>\n",
              "      <td>1</td>\n",
              "      <td>391000</td>\n",
              "    </tr>\n",
              "    <tr>\n",
              "      <th>195705</th>\n",
              "      <td>충북</td>\n",
              "      <td>휴양콘도 운영업</td>\n",
              "      <td>충북</td>\n",
              "      <td>70s</td>\n",
              "      <td>5</td>\n",
              "      <td>2019</td>\n",
              "      <td>3</td>\n",
              "      <td>1</td>\n",
              "      <td>1675800</td>\n",
              "    </tr>\n",
              "    <tr>\n",
              "      <th>195706</th>\n",
              "      <td>충북</td>\n",
              "      <td>휴양콘도 운영업</td>\n",
              "      <td>충북</td>\n",
              "      <td>70s</td>\n",
              "      <td>5</td>\n",
              "      <td>2019</td>\n",
              "      <td>4</td>\n",
              "      <td>1</td>\n",
              "      <td>555600</td>\n",
              "    </tr>\n",
              "    <tr>\n",
              "      <th>195707</th>\n",
              "      <td>충북</td>\n",
              "      <td>휴양콘도 운영업</td>\n",
              "      <td>충북</td>\n",
              "      <td>70s</td>\n",
              "      <td>5</td>\n",
              "      <td>2020</td>\n",
              "      <td>2</td>\n",
              "      <td>1</td>\n",
              "      <td>301700</td>\n",
              "    </tr>\n",
              "  </tbody>\n",
              "</table>\n",
              "</div>"
            ],
            "text/plain": [
              "       CARD_SIDO_NM STD_CLSS_NM HOM_SIDO_NM  AGE  ...  year  month  MY_HOME      AMT\n",
              "195703           충북    휴양콘도 운영업          충북  60s  ...  2020      3        1   280300\n",
              "195704           충북    휴양콘도 운영업          충북  70s  ...  2019      2        1   391000\n",
              "195705           충북    휴양콘도 운영업          충북  70s  ...  2019      3        1  1675800\n",
              "195706           충북    휴양콘도 운영업          충북  70s  ...  2019      4        1   555600\n",
              "195707           충북    휴양콘도 운영업          충북  70s  ...  2020      2        1   301700\n",
              "\n",
              "[5 rows x 9 columns]"
            ]
          },
          "metadata": {
            "tags": []
          },
          "execution_count": 14
        }
      ]
    },
    {
      "cell_type": "code",
      "metadata": {
        "id": "HTLMmYOqBPyP",
        "colab_type": "code",
        "colab": {
          "base_uri": "https://localhost:8080/",
          "height": 510
        },
        "outputId": "95516089-6b18-40fb-c230-376bf2711984"
      },
      "source": [
        "# 인코딩\n",
        "dtypes = df.dtypes\n",
        "encoders = {}\n",
        "\n",
        "for column in df.columns:\n",
        "  if str(dtypes[column]) == 'object':\n",
        "    encoder = LabelEncoder()\n",
        "    encoder.fit(df[column])\n",
        "    encoders[column] = encoder\n",
        "\n",
        "df_num = df.copy()\n",
        "for column in encoders.keys():\n",
        "  encoder = encoders[column]\n",
        "  df_num[column] = encoder.transform(df[column])\n",
        "\n",
        "print(df_num.info())\n",
        "df_num.tail()"
      ],
      "execution_count": 15,
      "outputs": [
        {
          "output_type": "stream",
          "text": [
            "<class 'pandas.core.frame.DataFrame'>\n",
            "RangeIndex: 195708 entries, 0 to 195707\n",
            "Data columns (total 9 columns):\n",
            " #   Column        Non-Null Count   Dtype\n",
            "---  ------        --------------   -----\n",
            " 0   CARD_SIDO_NM  195708 non-null  int64\n",
            " 1   STD_CLSS_NM   195708 non-null  int64\n",
            " 2   HOM_SIDO_NM   195708 non-null  int64\n",
            " 3   AGE           195708 non-null  int64\n",
            " 4   FLC           195708 non-null  int64\n",
            " 5   year          195708 non-null  int64\n",
            " 6   month         195708 non-null  int64\n",
            " 7   MY_HOME       195708 non-null  int64\n",
            " 8   AMT           195708 non-null  int64\n",
            "dtypes: int64(9)\n",
            "memory usage: 13.4 MB\n",
            "None\n"
          ],
          "name": "stdout"
        },
        {
          "output_type": "execute_result",
          "data": {
            "text/html": [
              "<div>\n",
              "<style scoped>\n",
              "    .dataframe tbody tr th:only-of-type {\n",
              "        vertical-align: middle;\n",
              "    }\n",
              "\n",
              "    .dataframe tbody tr th {\n",
              "        vertical-align: top;\n",
              "    }\n",
              "\n",
              "    .dataframe thead th {\n",
              "        text-align: right;\n",
              "    }\n",
              "</style>\n",
              "<table border=\"1\" class=\"dataframe\">\n",
              "  <thead>\n",
              "    <tr style=\"text-align: right;\">\n",
              "      <th></th>\n",
              "      <th>CARD_SIDO_NM</th>\n",
              "      <th>STD_CLSS_NM</th>\n",
              "      <th>HOM_SIDO_NM</th>\n",
              "      <th>AGE</th>\n",
              "      <th>FLC</th>\n",
              "      <th>year</th>\n",
              "      <th>month</th>\n",
              "      <th>MY_HOME</th>\n",
              "      <th>AMT</th>\n",
              "    </tr>\n",
              "  </thead>\n",
              "  <tbody>\n",
              "    <tr>\n",
              "      <th>195703</th>\n",
              "      <td>16</td>\n",
              "      <td>40</td>\n",
              "      <td>16</td>\n",
              "      <td>5</td>\n",
              "      <td>5</td>\n",
              "      <td>2020</td>\n",
              "      <td>3</td>\n",
              "      <td>1</td>\n",
              "      <td>280300</td>\n",
              "    </tr>\n",
              "    <tr>\n",
              "      <th>195704</th>\n",
              "      <td>16</td>\n",
              "      <td>40</td>\n",
              "      <td>16</td>\n",
              "      <td>6</td>\n",
              "      <td>5</td>\n",
              "      <td>2019</td>\n",
              "      <td>2</td>\n",
              "      <td>1</td>\n",
              "      <td>391000</td>\n",
              "    </tr>\n",
              "    <tr>\n",
              "      <th>195705</th>\n",
              "      <td>16</td>\n",
              "      <td>40</td>\n",
              "      <td>16</td>\n",
              "      <td>6</td>\n",
              "      <td>5</td>\n",
              "      <td>2019</td>\n",
              "      <td>3</td>\n",
              "      <td>1</td>\n",
              "      <td>1675800</td>\n",
              "    </tr>\n",
              "    <tr>\n",
              "      <th>195706</th>\n",
              "      <td>16</td>\n",
              "      <td>40</td>\n",
              "      <td>16</td>\n",
              "      <td>6</td>\n",
              "      <td>5</td>\n",
              "      <td>2019</td>\n",
              "      <td>4</td>\n",
              "      <td>1</td>\n",
              "      <td>555600</td>\n",
              "    </tr>\n",
              "    <tr>\n",
              "      <th>195707</th>\n",
              "      <td>16</td>\n",
              "      <td>40</td>\n",
              "      <td>16</td>\n",
              "      <td>6</td>\n",
              "      <td>5</td>\n",
              "      <td>2020</td>\n",
              "      <td>2</td>\n",
              "      <td>1</td>\n",
              "      <td>301700</td>\n",
              "    </tr>\n",
              "  </tbody>\n",
              "</table>\n",
              "</div>"
            ],
            "text/plain": [
              "        CARD_SIDO_NM  STD_CLSS_NM  HOM_SIDO_NM  ...  month  MY_HOME      AMT\n",
              "195703            16           40           16  ...      3        1   280300\n",
              "195704            16           40           16  ...      2        1   391000\n",
              "195705            16           40           16  ...      3        1  1675800\n",
              "195706            16           40           16  ...      4        1   555600\n",
              "195707            16           40           16  ...      2        1   301700\n",
              "\n",
              "[5 rows x 9 columns]"
            ]
          },
          "metadata": {
            "tags": []
          },
          "execution_count": 15
        }
      ]
    },
    {
      "cell_type": "markdown",
      "metadata": {
        "id": "gAnIpKlY32Xe",
        "colab_type": "text"
      },
      "source": [
        "### 이번 대회의 데이터는 CSTMR_CNT/AMT/CNT를 제외한 모든 피쳐들이 범주형 데이터로써 예측을 하기 위해 탬플릿을 생성하여 학습된 모델을 통해 예측을 진행하게 되는데 학습을 위해 사용되는 train데이터에 모든 범주형 피쳐의 조합이 있지 않기 때문에 빈값들을 임의로 채워주는 과정이 필요함 \n"
      ]
    },
    {
      "cell_type": "code",
      "metadata": {
        "id": "Y7WFgbLzva5R",
        "colab_type": "code",
        "colab": {
          "base_uri": "https://localhost:8080/",
          "height": 89
        },
        "outputId": "2572769c-c2ca-4eaf-d303-166703d00291"
      },
      "source": [
        "# 2019년 2월/3월/4월 데이터 템플릿\n",
        "CARD_SIDO_NMs = df_num['CARD_SIDO_NM'].unique()\n",
        "STD_CLSS_NMs  = df_num['STD_CLSS_NM'].unique()\n",
        "HOM_SIDO_NMs  = df_num['HOM_SIDO_NM'].unique()\n",
        "AGEs          = df_num['AGE'].unique()\n",
        "FLCs          = df_num['FLC'].unique()\n",
        "years         = [2019]\n",
        "months        = [2, 3, 4]\n",
        "\n",
        "temp_2019 = []\n",
        "for CARD_SIDO_NM in CARD_SIDO_NMs:\n",
        "  for STD_CLSS_NM in STD_CLSS_NMs:\n",
        "    for HOM_SIDO_NM in HOM_SIDO_NMs:\n",
        "      for AGE in AGEs:\n",
        "        for FLC in FLCs:\n",
        "          for year in years:\n",
        "            for month in months:\n",
        "              temp_2019.append([CARD_SIDO_NM, STD_CLSS_NM, HOM_SIDO_NM, AGE, FLC, year, month])\n",
        "temp_2019 = np.array(temp_2019)\n",
        "temp_2019 = pd.DataFrame(data=temp_2019, columns=['CARD_SIDO_NM', 'STD_CLSS_NM', 'HOM_SIDO_NM', 'AGE', 'FLC', 'year', 'month'])\n",
        "temp_2019.loc[temp_2019['CARD_SIDO_NM'] == temp_2019['HOM_SIDO_NM'], 'MY_HOME'] = 1\n",
        "temp_2019.loc[temp_2019['CARD_SIDO_NM'] != temp_2019['HOM_SIDO_NM'], 'MY_HOME'] = 0\n",
        "temp_2019['MY_HOME'] = temp_2019['MY_HOME'].astype(int)\n",
        "\n",
        "# 2020년 2월/3월 데이터 템플릿\n",
        "CARD_SIDO_NMs = df_num['CARD_SIDO_NM'].unique()\n",
        "STD_CLSS_NMs  = df_num['STD_CLSS_NM'].unique()\n",
        "HOM_SIDO_NMs  = df_num['HOM_SIDO_NM'].unique()\n",
        "AGEs          = df_num['AGE'].unique()\n",
        "FLCs          = df_num['FLC'].unique()\n",
        "years         = [2020]\n",
        "months        = [2, 3]\n",
        "\n",
        "temp_2020 = []\n",
        "for CARD_SIDO_NM in CARD_SIDO_NMs:\n",
        "    for STD_CLSS_NM in STD_CLSS_NMs:\n",
        "        for HOM_SIDO_NM in HOM_SIDO_NMs:\n",
        "            for AGE in AGEs:\n",
        "                for FLC in FLCs:\n",
        "                  for year in years:\n",
        "                    for month in months:\n",
        "                      temp_2020.append([CARD_SIDO_NM, STD_CLSS_NM, HOM_SIDO_NM, AGE, FLC, year, month])\n",
        "temp_2020 = np.array(temp_2020)\n",
        "temp_2020 = pd.DataFrame(data=temp_2020, columns=['CARD_SIDO_NM', 'STD_CLSS_NM', 'HOM_SIDO_NM', 'AGE', 'FLC', 'year', 'month'])\n",
        "temp_2020.loc[temp_2020['CARD_SIDO_NM'] == temp_2020['HOM_SIDO_NM'], 'MY_HOME'] = 1\n",
        "temp_2020.loc[temp_2020['CARD_SIDO_NM'] != temp_2020['HOM_SIDO_NM'], 'MY_HOME'] = 0\n",
        "temp_2020['MY_HOME'] = temp_2020['MY_HOME'].astype(int)\n",
        "\n",
        "# df_num 데이터 연도 구분\n",
        "df_num_2019 = df_num[df_num['year'] == 2019]\n",
        "df_num_2020 = df_num[df_num['year'] == 2020]\n",
        "\n",
        "print(df_num_2019.shape)\n",
        "print(df_num_2020.shape)\n",
        "print(temp_2019.shape)\n",
        "print(temp_2020.shape)"
      ],
      "execution_count": 16,
      "outputs": [
        {
          "output_type": "stream",
          "text": [
            "(126375, 9)\n",
            "(69333, 9)\n",
            "(1244145, 8)\n",
            "(829430, 8)\n"
          ],
          "name": "stdout"
        }
      ]
    },
    {
      "cell_type": "code",
      "metadata": {
        "id": "c_rLOe4j56Sk",
        "colab_type": "code",
        "colab": {
          "base_uri": "https://localhost:8080/",
          "height": 419
        },
        "outputId": "e59ff3be-ef8b-4661-dfa9-53e7d825000f"
      },
      "source": [
        "# 템플릿과 비교하여 df_num에 없는 데이터 채워주기\n",
        "data_2019 = pd.merge(temp_2019,\n",
        "                     df_num_2019,\n",
        "                     how = 'outer',\n",
        "                     left_on = ['CARD_SIDO_NM',\t'STD_CLSS_NM',\t'HOM_SIDO_NM',\t'AGE',\t'FLC',\t'year',\t'month',\t'MY_HOME'],\n",
        "                     right_on = ['CARD_SIDO_NM',\t'STD_CLSS_NM',\t'HOM_SIDO_NM',\t'AGE',\t'FLC',\t'year',\t'month',\t'MY_HOME']\n",
        "                    )\n",
        "\n",
        "data_2020 = pd.merge(temp_2020,\n",
        "                     df_num_2020,\n",
        "                     how = 'outer',\n",
        "                     left_on = ['CARD_SIDO_NM',\t'STD_CLSS_NM',\t'HOM_SIDO_NM',\t'AGE',\t'FLC',\t'year',\t'month',\t'MY_HOME'],\n",
        "                     right_on = ['CARD_SIDO_NM',\t'STD_CLSS_NM',\t'HOM_SIDO_NM',\t'AGE',\t'FLC',\t'year',\t'month',\t'MY_HOME']\n",
        "                    )\n",
        "\n",
        "data = pd.concat([data_2019, data_2020]).reset_index(drop = True).fillna(1)\n",
        "data"
      ],
      "execution_count": 21,
      "outputs": [
        {
          "output_type": "execute_result",
          "data": {
            "text/html": [
              "<div>\n",
              "<style scoped>\n",
              "    .dataframe tbody tr th:only-of-type {\n",
              "        vertical-align: middle;\n",
              "    }\n",
              "\n",
              "    .dataframe tbody tr th {\n",
              "        vertical-align: top;\n",
              "    }\n",
              "\n",
              "    .dataframe thead th {\n",
              "        text-align: right;\n",
              "    }\n",
              "</style>\n",
              "<table border=\"1\" class=\"dataframe\">\n",
              "  <thead>\n",
              "    <tr style=\"text-align: right;\">\n",
              "      <th></th>\n",
              "      <th>CARD_SIDO_NM</th>\n",
              "      <th>STD_CLSS_NM</th>\n",
              "      <th>HOM_SIDO_NM</th>\n",
              "      <th>AGE</th>\n",
              "      <th>FLC</th>\n",
              "      <th>year</th>\n",
              "      <th>month</th>\n",
              "      <th>MY_HOME</th>\n",
              "      <th>AMT</th>\n",
              "    </tr>\n",
              "  </thead>\n",
              "  <tbody>\n",
              "    <tr>\n",
              "      <th>0</th>\n",
              "      <td>0</td>\n",
              "      <td>0</td>\n",
              "      <td>0</td>\n",
              "      <td>1</td>\n",
              "      <td>1</td>\n",
              "      <td>2019</td>\n",
              "      <td>2</td>\n",
              "      <td>1</td>\n",
              "      <td>1517000.0</td>\n",
              "    </tr>\n",
              "    <tr>\n",
              "      <th>1</th>\n",
              "      <td>0</td>\n",
              "      <td>0</td>\n",
              "      <td>0</td>\n",
              "      <td>1</td>\n",
              "      <td>1</td>\n",
              "      <td>2019</td>\n",
              "      <td>3</td>\n",
              "      <td>1</td>\n",
              "      <td>631000.0</td>\n",
              "    </tr>\n",
              "    <tr>\n",
              "      <th>2</th>\n",
              "      <td>0</td>\n",
              "      <td>0</td>\n",
              "      <td>0</td>\n",
              "      <td>1</td>\n",
              "      <td>1</td>\n",
              "      <td>2019</td>\n",
              "      <td>4</td>\n",
              "      <td>1</td>\n",
              "      <td>266000.0</td>\n",
              "    </tr>\n",
              "    <tr>\n",
              "      <th>3</th>\n",
              "      <td>0</td>\n",
              "      <td>0</td>\n",
              "      <td>0</td>\n",
              "      <td>1</td>\n",
              "      <td>2</td>\n",
              "      <td>2019</td>\n",
              "      <td>2</td>\n",
              "      <td>1</td>\n",
              "      <td>216200.0</td>\n",
              "    </tr>\n",
              "    <tr>\n",
              "      <th>4</th>\n",
              "      <td>0</td>\n",
              "      <td>0</td>\n",
              "      <td>0</td>\n",
              "      <td>1</td>\n",
              "      <td>2</td>\n",
              "      <td>2019</td>\n",
              "      <td>3</td>\n",
              "      <td>1</td>\n",
              "      <td>88500.0</td>\n",
              "    </tr>\n",
              "    <tr>\n",
              "      <th>...</th>\n",
              "      <td>...</td>\n",
              "      <td>...</td>\n",
              "      <td>...</td>\n",
              "      <td>...</td>\n",
              "      <td>...</td>\n",
              "      <td>...</td>\n",
              "      <td>...</td>\n",
              "      <td>...</td>\n",
              "      <td>...</td>\n",
              "    </tr>\n",
              "    <tr>\n",
              "      <th>2073570</th>\n",
              "      <td>16</td>\n",
              "      <td>30</td>\n",
              "      <td>12</td>\n",
              "      <td>0</td>\n",
              "      <td>3</td>\n",
              "      <td>2020</td>\n",
              "      <td>3</td>\n",
              "      <td>0</td>\n",
              "      <td>1.0</td>\n",
              "    </tr>\n",
              "    <tr>\n",
              "      <th>2073571</th>\n",
              "      <td>16</td>\n",
              "      <td>30</td>\n",
              "      <td>12</td>\n",
              "      <td>0</td>\n",
              "      <td>4</td>\n",
              "      <td>2020</td>\n",
              "      <td>2</td>\n",
              "      <td>0</td>\n",
              "      <td>1.0</td>\n",
              "    </tr>\n",
              "    <tr>\n",
              "      <th>2073572</th>\n",
              "      <td>16</td>\n",
              "      <td>30</td>\n",
              "      <td>12</td>\n",
              "      <td>0</td>\n",
              "      <td>4</td>\n",
              "      <td>2020</td>\n",
              "      <td>3</td>\n",
              "      <td>0</td>\n",
              "      <td>1.0</td>\n",
              "    </tr>\n",
              "    <tr>\n",
              "      <th>2073573</th>\n",
              "      <td>16</td>\n",
              "      <td>30</td>\n",
              "      <td>12</td>\n",
              "      <td>0</td>\n",
              "      <td>5</td>\n",
              "      <td>2020</td>\n",
              "      <td>2</td>\n",
              "      <td>0</td>\n",
              "      <td>1.0</td>\n",
              "    </tr>\n",
              "    <tr>\n",
              "      <th>2073574</th>\n",
              "      <td>16</td>\n",
              "      <td>30</td>\n",
              "      <td>12</td>\n",
              "      <td>0</td>\n",
              "      <td>5</td>\n",
              "      <td>2020</td>\n",
              "      <td>3</td>\n",
              "      <td>0</td>\n",
              "      <td>1.0</td>\n",
              "    </tr>\n",
              "  </tbody>\n",
              "</table>\n",
              "<p>2073575 rows × 9 columns</p>\n",
              "</div>"
            ],
            "text/plain": [
              "         CARD_SIDO_NM  STD_CLSS_NM  HOM_SIDO_NM  ...  month  MY_HOME        AMT\n",
              "0                   0            0            0  ...      2        1  1517000.0\n",
              "1                   0            0            0  ...      3        1   631000.0\n",
              "2                   0            0            0  ...      4        1   266000.0\n",
              "3                   0            0            0  ...      2        1   216200.0\n",
              "4                   0            0            0  ...      3        1    88500.0\n",
              "...               ...          ...          ...  ...    ...      ...        ...\n",
              "2073570            16           30           12  ...      3        0        1.0\n",
              "2073571            16           30           12  ...      2        0        1.0\n",
              "2073572            16           30           12  ...      3        0        1.0\n",
              "2073573            16           30           12  ...      2        0        1.0\n",
              "2073574            16           30           12  ...      3        0        1.0\n",
              "\n",
              "[2073575 rows x 9 columns]"
            ]
          },
          "metadata": {
            "tags": []
          },
          "execution_count": 21
        }
      ]
    },
    {
      "cell_type": "markdown",
      "metadata": {
        "id": "xz5XTffHDvoY",
        "colab_type": "text"
      },
      "source": [
        "### Initial Modeling"
      ]
    },
    {
      "cell_type": "code",
      "metadata": {
        "id": "UufLKGrxCrGX",
        "colab_type": "code",
        "colab": {}
      },
      "source": [
        "train = data.sample(frac = 1, random_state = 0)\n",
        "X_train = train.drop(['AMT'], axis = 1)\n",
        "y_train = np.log1p(train['AMT'])"
      ],
      "execution_count": 22,
      "outputs": []
    },
    {
      "cell_type": "markdown",
      "metadata": {
        "id": "pSYbWBkcFFr-",
        "colab_type": "text"
      },
      "source": [
        "### Model Tuning & Evaluation"
      ]
    },
    {
      "cell_type": "code",
      "metadata": {
        "id": "_OUDaAyKEy1G",
        "colab_type": "code",
        "colab": {
          "base_uri": "https://localhost:8080/",
          "height": 143
        },
        "outputId": "91e0f230-35cd-4c4b-f052-92944da61244"
      },
      "source": [
        "model = RandomForestRegressor(n_jobs = -1, random_state = 4)\n",
        "model.fit(X_train, y_train)"
      ],
      "execution_count": 23,
      "outputs": [
        {
          "output_type": "execute_result",
          "data": {
            "text/plain": [
              "RandomForestRegressor(bootstrap=True, ccp_alpha=0.0, criterion='mse',\n",
              "                      max_depth=None, max_features='auto', max_leaf_nodes=None,\n",
              "                      max_samples=None, min_impurity_decrease=0.0,\n",
              "                      min_impurity_split=None, min_samples_leaf=1,\n",
              "                      min_samples_split=2, min_weight_fraction_leaf=0.0,\n",
              "                      n_estimators=100, n_jobs=-1, oob_score=False,\n",
              "                      random_state=4, verbose=0, warm_start=False)"
            ]
          },
          "metadata": {
            "tags": []
          },
          "execution_count": 23
        }
      ]
    },
    {
      "cell_type": "code",
      "metadata": {
        "id": "WyWP7Ytxnp3r",
        "colab_type": "code",
        "colab": {
          "base_uri": "https://localhost:8080/",
          "height": 424
        },
        "outputId": "5640fa9a-3da7-4dba-e601-bb060cf4c2d8"
      },
      "source": [
        "importances = (pd.DataFrame(model.feature_importances_, index=train_features.columns).\n",
        "               sort_values(by = 0, ascending = False).\n",
        "               reset_index().\n",
        "               rename(columns = {'index' : 'feature', 0 : 'importance'})\n",
        "              )\n",
        "\n",
        "plt.figure(figsize=(16,6))\n",
        "plt.title(\"특성 중요도\")\n",
        "sns.barplot(data = importances, x = 'feature', y = 'importance')"
      ],
      "execution_count": null,
      "outputs": [
        {
          "output_type": "execute_result",
          "data": {
            "text/plain": [
              "<matplotlib.axes._subplots.AxesSubplot at 0x7f982369a1d0>"
            ]
          },
          "metadata": {
            "tags": []
          },
          "execution_count": 43
        },
        {
          "output_type": "display_data",
          "data": {
            "image/png": "[encoded data removed]",
            "text/plain": [
              "<Figure size 1152x432 with 1 Axes>"
            ]
          },
          "metadata": {
            "tags": [],
            "image/png": {
              "width": 949,
              "height": 389
            },
            "needs_background": "light"
          }
        }
      ]
    },
    {
      "cell_type": "code",
      "metadata": {
        "id": "PksRdoAybymK",
        "colab_type": "code",
        "colab": {
          "base_uri": "https://localhost:8080/",
          "height": 143
        },
        "outputId": "c7d958d5-4463-469d-8f92-ff41bfa96161"
      },
      "source": [
        "model2 = ExtraTreesRegressor(n_jobs = -1, random_state = 4)\n",
        "model2.fit(X_train, y_train)"
      ],
      "execution_count": null,
      "outputs": [
        {
          "output_type": "execute_result",
          "data": {
            "text/plain": [
              "ExtraTreesRegressor(bootstrap=False, ccp_alpha=0.0, criterion='mse',\n",
              "                    max_depth=None, max_features='auto', max_leaf_nodes=None,\n",
              "                    max_samples=None, min_impurity_decrease=0.0,\n",
              "                    min_impurity_split=None, min_samples_leaf=1,\n",
              "                    min_samples_split=2, min_weight_fraction_leaf=0.0,\n",
              "                    n_estimators=200, n_jobs=-1, oob_score=False,\n",
              "                    random_state=4, verbose=0, warm_start=False)"
            ]
          },
          "metadata": {
            "tags": []
          },
          "execution_count": 39
        }
      ]
    },
    {
      "cell_type": "code",
      "metadata": {
        "id": "MUmz4HA0R2kG",
        "colab_type": "code",
        "colab": {
          "base_uri": "https://localhost:8080/",
          "height": 35
        },
        "outputId": "30510cba-45f1-4dd0-a3d1-8c234e568a34"
      },
      "source": [
        "predict = cross_val_predict(model, train_features, train_target, cv = 10)\n",
        "y_predict = np.expm1(predict)\n",
        "\n",
        "score = mean_squared_log_error(train_num['AMT'], y_predict)\n",
        "score = np.sqrt(score)\n",
        "\n",
        "score"
      ],
      "execution_count": null,
      "outputs": [
        {
          "output_type": "execute_result",
          "data": {
            "text/plain": [
              "1.8774310136671049"
            ]
          },
          "metadata": {
            "tags": []
          },
          "execution_count": 41
        }
      ]
    },
    {
      "cell_type": "markdown",
      "metadata": {
        "id": "rHNkYBXdvSH6",
        "colab_type": "text"
      },
      "source": [
        "### Conclusion & Discussion"
      ]
    },
    {
      "cell_type": "code",
      "metadata": {
        "id": "RNKWlx5fFXTa",
        "colab_type": "code",
        "colab": {
          "base_uri": "https://localhost:8080/",
          "height": 222
        },
        "outputId": "c0d4a339-d029-4b28-b7d4-d3a78551c4bc"
      },
      "source": [
        "# 예측 템플릿 만들기\n",
        "CARD_SIDO_NMs = df_num['CARD_SIDO_NM'].unique()\n",
        "STD_CLSS_NMs  = df_num['STD_CLSS_NM'].unique()\n",
        "HOM_SIDO_NMs  = df_num['HOM_SIDO_NM'].unique()\n",
        "AGEs          = df_num['AGE'].unique()\n",
        "#SEX_CTGO_CDs  = df_num['SEX_CTGO_CD'].unique()\n",
        "FLCs          = df_num['FLC'].unique()\n",
        "years         = [2020]\n",
        "months        = [4,7]\n",
        "\n",
        "temp = []\n",
        "for CARD_SIDO_NM in CARD_SIDO_NMs:\n",
        "    for STD_CLSS_NM in STD_CLSS_NMs:\n",
        "        for HOM_SIDO_NM in HOM_SIDO_NMs:\n",
        "            for AGE in AGEs:\n",
        "#                for SEX_CTGO_CD in SEX_CTGO_CDs:\n",
        "                    for FLC in FLCs:\n",
        "                        for year in years:\n",
        "                            for month in months:\n",
        "                              temp.append([CARD_SIDO_NM, STD_CLSS_NM, HOM_SIDO_NM, AGE, FLC, year, month])\n",
        "temp = np.array(temp)\n",
        "temp = pd.DataFrame(data=temp, columns=X_train.columns[:7])\n",
        "temp.loc[temp['CARD_SIDO_NM'] == temp['HOM_SIDO_NM'], 'MY_HOME'] = 1\n",
        "temp.loc[temp['CARD_SIDO_NM'] != temp['HOM_SIDO_NM'], 'MY_HOME'] = 0\n",
        "temp['MY_HOME'] = temp['MY_HOME'].astype(int)\n",
        "\n",
        "print(temp.shape)\n",
        "temp.head()"
      ],
      "execution_count": 25,
      "outputs": [
        {
          "output_type": "stream",
          "text": [
            "(829430, 8)\n"
          ],
          "name": "stdout"
        },
        {
          "output_type": "execute_result",
          "data": {
            "text/html": [
              "<div>\n",
              "<style scoped>\n",
              "    .dataframe tbody tr th:only-of-type {\n",
              "        vertical-align: middle;\n",
              "    }\n",
              "\n",
              "    .dataframe tbody tr th {\n",
              "        vertical-align: top;\n",
              "    }\n",
              "\n",
              "    .dataframe thead th {\n",
              "        text-align: right;\n",
              "    }\n",
              "</style>\n",
              "<table border=\"1\" class=\"dataframe\">\n",
              "  <thead>\n",
              "    <tr style=\"text-align: right;\">\n",
              "      <th></th>\n",
              "      <th>CARD_SIDO_NM</th>\n",
              "      <th>STD_CLSS_NM</th>\n",
              "      <th>HOM_SIDO_NM</th>\n",
              "      <th>AGE</th>\n",
              "      <th>FLC</th>\n",
              "      <th>year</th>\n",
              "      <th>month</th>\n",
              "      <th>MY_HOME</th>\n",
              "    </tr>\n",
              "  </thead>\n",
              "  <tbody>\n",
              "    <tr>\n",
              "      <th>0</th>\n",
              "      <td>0</td>\n",
              "      <td>0</td>\n",
              "      <td>0</td>\n",
              "      <td>1</td>\n",
              "      <td>1</td>\n",
              "      <td>2020</td>\n",
              "      <td>4</td>\n",
              "      <td>1</td>\n",
              "    </tr>\n",
              "    <tr>\n",
              "      <th>1</th>\n",
              "      <td>0</td>\n",
              "      <td>0</td>\n",
              "      <td>0</td>\n",
              "      <td>1</td>\n",
              "      <td>1</td>\n",
              "      <td>2020</td>\n",
              "      <td>7</td>\n",
              "      <td>1</td>\n",
              "    </tr>\n",
              "    <tr>\n",
              "      <th>2</th>\n",
              "      <td>0</td>\n",
              "      <td>0</td>\n",
              "      <td>0</td>\n",
              "      <td>1</td>\n",
              "      <td>2</td>\n",
              "      <td>2020</td>\n",
              "      <td>4</td>\n",
              "      <td>1</td>\n",
              "    </tr>\n",
              "    <tr>\n",
              "      <th>3</th>\n",
              "      <td>0</td>\n",
              "      <td>0</td>\n",
              "      <td>0</td>\n",
              "      <td>1</td>\n",
              "      <td>2</td>\n",
              "      <td>2020</td>\n",
              "      <td>7</td>\n",
              "      <td>1</td>\n",
              "    </tr>\n",
              "    <tr>\n",
              "      <th>4</th>\n",
              "      <td>0</td>\n",
              "      <td>0</td>\n",
              "      <td>0</td>\n",
              "      <td>1</td>\n",
              "      <td>3</td>\n",
              "      <td>2020</td>\n",
              "      <td>4</td>\n",
              "      <td>1</td>\n",
              "    </tr>\n",
              "  </tbody>\n",
              "</table>\n",
              "</div>"
            ],
            "text/plain": [
              "   CARD_SIDO_NM  STD_CLSS_NM  HOM_SIDO_NM  AGE  FLC  year  month  MY_HOME\n",
              "0             0            0            0    1    1  2020      4        1\n",
              "1             0            0            0    1    1  2020      7        1\n",
              "2             0            0            0    1    2  2020      4        1\n",
              "3             0            0            0    1    2  2020      7        1\n",
              "4             0            0            0    1    3  2020      4        1"
            ]
          },
          "metadata": {
            "tags": []
          },
          "execution_count": 25
        }
      ]
    },
    {
      "cell_type": "code",
      "metadata": {
        "id": "Q49TEpYRZ9v2",
        "colab_type": "code",
        "colab": {
          "base_uri": "https://localhost:8080/",
          "height": 437
        },
        "outputId": "b59b30b3-bd43-407a-8f9e-f3844be91401"
      },
      "source": [
        "# sub과 동일한 템플릿 만들기\n",
        "CARD_SIDO_NMs = df_num['CARD_SIDO_NM'].unique()\n",
        "STD_CLSS_NMs  = df_num['STD_CLSS_NM'].unique()\n",
        "years         = [2020]\n",
        "months        = [4,7]\n",
        "\n",
        "temp = []\n",
        "for CARD_SIDO_NM in CARD_SIDO_NMs:\n",
        "    for STD_CLSS_NM in STD_CLSS_NMs:\n",
        "        for year in years:\n",
        "          for month in months:\n",
        "            temp.append([CARD_SIDO_NM, STD_CLSS_NM, year, month])\n",
        "\n",
        "temp = np.array(temp)\n",
        "temp = pd.DataFrame(data=temp, columns=['CARD_SIDO_NM', 'STD_CLSS_NM', 'year', 'month'])\n",
        "print(temp.shape)\n",
        "temp.head()\n",
        "\n",
        "# 예측\n",
        "predict = model2.predict(temp)\n",
        "predict = np.expm1(predict)\n",
        "temp['AMT'] = np.round(predict, 0)\n",
        "temp['REG_YYMM'] = temp['year']*100 + temp['month']\n",
        "temp = temp[['REG_YYMM', 'CARD_SIDO_NM', 'STD_CLSS_NM', 'AMT']]\n",
        "temp = temp.groupby(['REG_YYMM', 'CARD_SIDO_NM', 'STD_CLSS_NM']).sum().reset_index(drop=False)\n",
        "pred_AMT = list(temp[temp['REG_YYMM'] == 202004]['AMT'])\n",
        "temp"
      ],
      "execution_count": null,
      "outputs": [
        {
          "output_type": "stream",
          "text": [
            "(1394, 4)\n"
          ],
          "name": "stdout"
        },
        {
          "output_type": "execute_result",
          "data": {
            "text/html": [
              "<div>\n",
              "<style scoped>\n",
              "    .dataframe tbody tr th:only-of-type {\n",
              "        vertical-align: middle;\n",
              "    }\n",
              "\n",
              "    .dataframe tbody tr th {\n",
              "        vertical-align: top;\n",
              "    }\n",
              "\n",
              "    .dataframe thead th {\n",
              "        text-align: right;\n",
              "    }\n",
              "</style>\n",
              "<table border=\"1\" class=\"dataframe\">\n",
              "  <thead>\n",
              "    <tr style=\"text-align: right;\">\n",
              "      <th></th>\n",
              "      <th>REG_YYMM</th>\n",
              "      <th>CARD_SIDO_NM</th>\n",
              "      <th>STD_CLSS_NM</th>\n",
              "      <th>AMT</th>\n",
              "    </tr>\n",
              "  </thead>\n",
              "  <tbody>\n",
              "    <tr>\n",
              "      <th>0</th>\n",
              "      <td>202004</td>\n",
              "      <td>0</td>\n",
              "      <td>0</td>\n",
              "      <td>1448004.0</td>\n",
              "    </tr>\n",
              "    <tr>\n",
              "      <th>1</th>\n",
              "      <td>202004</td>\n",
              "      <td>0</td>\n",
              "      <td>1</td>\n",
              "      <td>5112313.0</td>\n",
              "    </tr>\n",
              "    <tr>\n",
              "      <th>2</th>\n",
              "      <td>202004</td>\n",
              "      <td>0</td>\n",
              "      <td>2</td>\n",
              "      <td>1603922.0</td>\n",
              "    </tr>\n",
              "    <tr>\n",
              "      <th>3</th>\n",
              "      <td>202004</td>\n",
              "      <td>0</td>\n",
              "      <td>3</td>\n",
              "      <td>217836.0</td>\n",
              "    </tr>\n",
              "    <tr>\n",
              "      <th>4</th>\n",
              "      <td>202004</td>\n",
              "      <td>0</td>\n",
              "      <td>4</td>\n",
              "      <td>157349.0</td>\n",
              "    </tr>\n",
              "    <tr>\n",
              "      <th>...</th>\n",
              "      <td>...</td>\n",
              "      <td>...</td>\n",
              "      <td>...</td>\n",
              "      <td>...</td>\n",
              "    </tr>\n",
              "    <tr>\n",
              "      <th>1389</th>\n",
              "      <td>202007</td>\n",
              "      <td>16</td>\n",
              "      <td>36</td>\n",
              "      <td>427062.0</td>\n",
              "    </tr>\n",
              "    <tr>\n",
              "      <th>1390</th>\n",
              "      <td>202007</td>\n",
              "      <td>16</td>\n",
              "      <td>37</td>\n",
              "      <td>1820270.0</td>\n",
              "    </tr>\n",
              "    <tr>\n",
              "      <th>1391</th>\n",
              "      <td>202007</td>\n",
              "      <td>16</td>\n",
              "      <td>38</td>\n",
              "      <td>326731.0</td>\n",
              "    </tr>\n",
              "    <tr>\n",
              "      <th>1392</th>\n",
              "      <td>202007</td>\n",
              "      <td>16</td>\n",
              "      <td>39</td>\n",
              "      <td>684243.0</td>\n",
              "    </tr>\n",
              "    <tr>\n",
              "      <th>1393</th>\n",
              "      <td>202007</td>\n",
              "      <td>16</td>\n",
              "      <td>40</td>\n",
              "      <td>353923.0</td>\n",
              "    </tr>\n",
              "  </tbody>\n",
              "</table>\n",
              "<p>1394 rows × 4 columns</p>\n",
              "</div>"
            ],
            "text/plain": [
              "      REG_YYMM  CARD_SIDO_NM  STD_CLSS_NM        AMT\n",
              "0       202004             0            0  1448004.0\n",
              "1       202004             0            1  5112313.0\n",
              "2       202004             0            2  1603922.0\n",
              "3       202004             0            3   217836.0\n",
              "4       202004             0            4   157349.0\n",
              "...        ...           ...          ...        ...\n",
              "1389    202007            16           36   427062.0\n",
              "1390    202007            16           37  1820270.0\n",
              "1391    202007            16           38   326731.0\n",
              "1392    202007            16           39   684243.0\n",
              "1393    202007            16           40   353923.0\n",
              "\n",
              "[1394 rows x 4 columns]"
            ]
          },
          "metadata": {
            "tags": []
          },
          "execution_count": 42
        }
      ]
    },
    {
      "cell_type": "code",
      "metadata": {
        "id": "pL4PiHiAwgGd",
        "colab_type": "code",
        "colab": {
          "base_uri": "https://localhost:8080/",
          "height": 419
        },
        "outputId": "0e4af363-a763-4cfa-a093-543a6dd28c4a"
      },
      "source": [
        "# 예측\n",
        "predict = model.predict(temp)\n",
        "predict = np.expm1(predict)\n",
        "temp['AMT'] = np.round(predict, 0)\n",
        "temp['REG_YYMM'] = temp['year']*100 + temp['month']\n",
        "temp = temp[['REG_YYMM', 'CARD_SIDO_NM', 'STD_CLSS_NM', 'AMT']]\n",
        "temp = temp.groupby(['REG_YYMM', 'CARD_SIDO_NM', 'STD_CLSS_NM']).sum().reset_index(drop=False)\n",
        "pred_AMT = list(temp[temp['REG_YYMM'] == 202004]['AMT'])\n",
        "temp"
      ],
      "execution_count": 26,
      "outputs": [
        {
          "output_type": "execute_result",
          "data": {
            "text/html": [
              "<div>\n",
              "<style scoped>\n",
              "    .dataframe tbody tr th:only-of-type {\n",
              "        vertical-align: middle;\n",
              "    }\n",
              "\n",
              "    .dataframe tbody tr th {\n",
              "        vertical-align: top;\n",
              "    }\n",
              "\n",
              "    .dataframe thead th {\n",
              "        text-align: right;\n",
              "    }\n",
              "</style>\n",
              "<table border=\"1\" class=\"dataframe\">\n",
              "  <thead>\n",
              "    <tr style=\"text-align: right;\">\n",
              "      <th></th>\n",
              "      <th>REG_YYMM</th>\n",
              "      <th>CARD_SIDO_NM</th>\n",
              "      <th>STD_CLSS_NM</th>\n",
              "      <th>AMT</th>\n",
              "    </tr>\n",
              "  </thead>\n",
              "  <tbody>\n",
              "    <tr>\n",
              "      <th>0</th>\n",
              "      <td>202004</td>\n",
              "      <td>0</td>\n",
              "      <td>0</td>\n",
              "      <td>9.978388e+07</td>\n",
              "    </tr>\n",
              "    <tr>\n",
              "      <th>1</th>\n",
              "      <td>202004</td>\n",
              "      <td>0</td>\n",
              "      <td>1</td>\n",
              "      <td>1.580230e+09</td>\n",
              "    </tr>\n",
              "    <tr>\n",
              "      <th>2</th>\n",
              "      <td>202004</td>\n",
              "      <td>0</td>\n",
              "      <td>2</td>\n",
              "      <td>7.956864e+08</td>\n",
              "    </tr>\n",
              "    <tr>\n",
              "      <th>3</th>\n",
              "      <td>202004</td>\n",
              "      <td>0</td>\n",
              "      <td>3</td>\n",
              "      <td>8.103089e+06</td>\n",
              "    </tr>\n",
              "    <tr>\n",
              "      <th>4</th>\n",
              "      <td>202004</td>\n",
              "      <td>0</td>\n",
              "      <td>4</td>\n",
              "      <td>5.950000e+02</td>\n",
              "    </tr>\n",
              "    <tr>\n",
              "      <th>...</th>\n",
              "      <td>...</td>\n",
              "      <td>...</td>\n",
              "      <td>...</td>\n",
              "      <td>...</td>\n",
              "    </tr>\n",
              "    <tr>\n",
              "      <th>1389</th>\n",
              "      <td>202007</td>\n",
              "      <td>16</td>\n",
              "      <td>36</td>\n",
              "      <td>1.259780e+09</td>\n",
              "    </tr>\n",
              "    <tr>\n",
              "      <th>1390</th>\n",
              "      <td>202007</td>\n",
              "      <td>16</td>\n",
              "      <td>37</td>\n",
              "      <td>1.707629e+10</td>\n",
              "    </tr>\n",
              "    <tr>\n",
              "      <th>1391</th>\n",
              "      <td>202007</td>\n",
              "      <td>16</td>\n",
              "      <td>38</td>\n",
              "      <td>1.143036e+07</td>\n",
              "    </tr>\n",
              "    <tr>\n",
              "      <th>1392</th>\n",
              "      <td>202007</td>\n",
              "      <td>16</td>\n",
              "      <td>39</td>\n",
              "      <td>4.687133e+08</td>\n",
              "    </tr>\n",
              "    <tr>\n",
              "      <th>1393</th>\n",
              "      <td>202007</td>\n",
              "      <td>16</td>\n",
              "      <td>40</td>\n",
              "      <td>2.758470e+06</td>\n",
              "    </tr>\n",
              "  </tbody>\n",
              "</table>\n",
              "<p>1394 rows × 4 columns</p>\n",
              "</div>"
            ],
            "text/plain": [
              "      REG_YYMM  CARD_SIDO_NM  STD_CLSS_NM           AMT\n",
              "0       202004             0            0  9.978388e+07\n",
              "1       202004             0            1  1.580230e+09\n",
              "2       202004             0            2  7.956864e+08\n",
              "3       202004             0            3  8.103089e+06\n",
              "4       202004             0            4  5.950000e+02\n",
              "...        ...           ...          ...           ...\n",
              "1389    202007            16           36  1.259780e+09\n",
              "1390    202007            16           37  1.707629e+10\n",
              "1391    202007            16           38  1.143036e+07\n",
              "1392    202007            16           39  4.687133e+08\n",
              "1393    202007            16           40  2.758470e+06\n",
              "\n",
              "[1394 rows x 4 columns]"
            ]
          },
          "metadata": {
            "tags": []
          },
          "execution_count": 26
        }
      ]
    },
    {
      "cell_type": "markdown",
      "metadata": {
        "id": "vqRQTpuJRRrl",
        "colab_type": "text"
      },
      "source": [
        "### Hyperparamter Tuning & Cross Validation"
      ]
    },
    {
      "cell_type": "code",
      "metadata": {
        "id": "5PmdTEI4RSq2",
        "colab_type": "code",
        "colab": {}
      },
      "source": [
        "n_estimators = 10 # 트리의 갯수는 나중에 천천히 올려보겠습니다.\n",
        "num_epoch = 20    # 반복횟수는 일단 20번 \n",
        "coarse_hyperparameters_list = [] # hyperparameter 탐색 결과를 리스트로 저장\n",
        "\n",
        "# num_epoch 횟수만큼 랜덤 서치를 반복합니다.\n",
        "for epoch in range(num_epoch):\n",
        "    max_depth = np.random.randint(low = 50, high = 100)\n",
        "    max_features = np.random.uniform(low = 0.5, high = 1.0)\n",
        "    model = RandomForestRegressor(n_estimators = n_estimators,\n",
        "                                  max_depth = max_depth,\n",
        "                                  max_features = max_features,\n",
        "                                  n_jobs = -1,\n",
        "                                  random_state = 4)\n",
        "\n",
        "    predict = cross_val_predict(model, train_features, train_target, cv = 20)\n",
        "    y_predict = np.expm1(predict)\n",
        "\n",
        "    score = mean_squared_log_error(train_num['AMT'], y_predict)\n",
        "    score = np.sqrt(score)\n",
        "    \n",
        "    # hyperparameter 탐색 결과\n",
        "    hyperparameters = {\n",
        "        'epoch': epoch,\n",
        "        'score': score,\n",
        "        'n_estimators': n_estimators,\n",
        "        'max_depth': max_depth,\n",
        "        'max_features': max_features,\n",
        "    }\n",
        "    coarse_hyperparameters_list.append(hyperparameters)\n",
        "    print(f\"{epoch:2} n_estimators = {n_estimators}, max_depth = {max_depth:2}, max_features = {max_features:.6f}, Score = {score:.5f}\")\n",
        "\n",
        "# coarse_hyperparameters_list를 Pandas의 DataFrame으로 변환합니다.\n",
        "coarse_hyperparameters_list = pd.DataFrame.from_dict(coarse_hyperparameters_list)\n",
        "coarse_hyperparameters_list = coarse_hyperparameters_list.sort_values(by=\"score\")\n",
        "\n",
        "print(coarse_hyperparameters_list.shape)\n",
        "coarse_hyperparameters_list.head(10)"
      ],
      "execution_count": null,
      "outputs": []
    },
    {
      "cell_type": "code",
      "metadata": {
        "id": "Gw3CvIcfXqec",
        "colab_type": "code",
        "colab": {
          "base_uri": "https://localhost:8080/",
          "height": 35
        },
        "outputId": "377a2256-cf76-475b-d193-3c151042bc1c"
      },
      "source": [
        "# RMSLE 계산함수\n",
        "def rmsle(y, y_,convertExp=False):\n",
        "    if convertExp:\n",
        "        y = np.exp(y), \n",
        "        y_ = np.exp(y_)\n",
        "    log1 = np.nan_to_num(np.array([np.log(v + 1) for v in y]))\n",
        "    log2 = np.nan_to_num(np.array([np.log(v + 1) for v in y_]))\n",
        "    calc = (log1 - log2) ** 2\n",
        "    return np.sqrt(np.mean(calc))\n",
        "\n",
        "# 2020년 3월과 2020년4월의 AMT값이 거의 같다는 가정으로 2020년3월의 AMT 과 비교하여 단순 모델의 성능향상을 확인해 볼수 있음\n",
        "data202003 = row_data.copy()\n",
        "data202003 = data202003[['REG_YYMM', 'CARD_SIDO_NM', 'STD_CLSS_NM', 'AMT']]\n",
        "data202003 = data202003.groupby(['REG_YYMM', 'CARD_SIDO_NM', 'STD_CLSS_NM']).sum().reset_index(drop=False)\n",
        "data202003 = data202003.loc[data202003['REG_YYMM']==202003]\n",
        "data202003 = data202003[['CARD_SIDO_NM', 'STD_CLSS_NM', 'AMT']]\n",
        "\n",
        "\n",
        "submission_temp = pd.read_csv('/gdrive/My Drive/data_analysis/jeju/submission.csv', index_col=0)\n",
        "submission_temp = submission_temp.loc[submission_temp['REG_YYMM']==202004]\n",
        "submission_temp = submission_temp[['CARD_SIDO_NM', 'STD_CLSS_NM']]\n",
        "submission_temp = submission_temp.merge(data202003, left_on=['CARD_SIDO_NM', 'STD_CLSS_NM'], right_on=['CARD_SIDO_NM', 'STD_CLSS_NM'], how='left')\n",
        "submission_temp = submission_temp.fillna(1)\n",
        "AMT = list(submission_temp['AMT'])\n",
        "\n",
        "print(rmsle(AMT, pred_AMT))"
      ],
      "execution_count": 27,
      "outputs": [
        {
          "output_type": "stream",
          "text": [
            "2.32029180930889\n"
          ],
          "name": "stdout"
        }
      ]
    },
    {
      "cell_type": "code",
      "metadata": {
        "id": "EwMi1FJcxQ5j",
        "colab_type": "code",
        "colab": {}
      },
      "source": [
        "# 디코딩\n",
        "temp['CARD_SIDO_NM'] = encoders['CARD_SIDO_NM'].inverse_transform(temp['CARD_SIDO_NM'])\n",
        "temp['STD_CLSS_NM'] = encoders['STD_CLSS_NM'].inverse_transform(temp['STD_CLSS_NM'])"
      ],
      "execution_count": 28,
      "outputs": []
    },
    {
      "cell_type": "code",
      "metadata": {
        "id": "Me9F1q6YyZbu",
        "colab_type": "code",
        "colab": {
          "base_uri": "https://localhost:8080/",
          "height": 235
        },
        "outputId": "622ad34b-b4b8-4fe3-a160-2e03e9d8054f"
      },
      "source": [
        "# 제출 파일 만들기\n",
        "submission = pd.read_csv('/gdrive/My Drive/data_analysis/jeju/submission.csv', index_col=0)\n",
        "submission = submission.drop(['AMT'], axis=1)\n",
        "submission = submission.merge(temp, left_on=['REG_YYMM', 'CARD_SIDO_NM', 'STD_CLSS_NM'], right_on=['REG_YYMM', 'CARD_SIDO_NM', 'STD_CLSS_NM'], how='left')\n",
        "submission.index.name = 'id'\n",
        "submission.fillna(1)\n",
        "submission.to_csv('/gdrive/My Drive/data_analysis/jeju/submission_13.csv', encoding='utf-8-sig')\n",
        "submission.head()"
      ],
      "execution_count": 29,
      "outputs": [
        {
          "output_type": "execute_result",
          "data": {
            "text/html": [
              "<div>\n",
              "<style scoped>\n",
              "    .dataframe tbody tr th:only-of-type {\n",
              "        vertical-align: middle;\n",
              "    }\n",
              "\n",
              "    .dataframe tbody tr th {\n",
              "        vertical-align: top;\n",
              "    }\n",
              "\n",
              "    .dataframe thead th {\n",
              "        text-align: right;\n",
              "    }\n",
              "</style>\n",
              "<table border=\"1\" class=\"dataframe\">\n",
              "  <thead>\n",
              "    <tr style=\"text-align: right;\">\n",
              "      <th></th>\n",
              "      <th>REG_YYMM</th>\n",
              "      <th>CARD_SIDO_NM</th>\n",
              "      <th>STD_CLSS_NM</th>\n",
              "      <th>AMT</th>\n",
              "    </tr>\n",
              "    <tr>\n",
              "      <th>id</th>\n",
              "      <th></th>\n",
              "      <th></th>\n",
              "      <th></th>\n",
              "      <th></th>\n",
              "    </tr>\n",
              "  </thead>\n",
              "  <tbody>\n",
              "    <tr>\n",
              "      <th>0</th>\n",
              "      <td>202004</td>\n",
              "      <td>강원</td>\n",
              "      <td>건강보조식품 소매업</td>\n",
              "      <td>9.978388e+07</td>\n",
              "    </tr>\n",
              "    <tr>\n",
              "      <th>1</th>\n",
              "      <td>202004</td>\n",
              "      <td>강원</td>\n",
              "      <td>골프장 운영업</td>\n",
              "      <td>1.580230e+09</td>\n",
              "    </tr>\n",
              "    <tr>\n",
              "      <th>2</th>\n",
              "      <td>202004</td>\n",
              "      <td>강원</td>\n",
              "      <td>과실 및 채소 소매업</td>\n",
              "      <td>7.956864e+08</td>\n",
              "    </tr>\n",
              "    <tr>\n",
              "      <th>3</th>\n",
              "      <td>202004</td>\n",
              "      <td>강원</td>\n",
              "      <td>관광 민예품 및 선물용품 소매업</td>\n",
              "      <td>8.103089e+06</td>\n",
              "    </tr>\n",
              "    <tr>\n",
              "      <th>4</th>\n",
              "      <td>202004</td>\n",
              "      <td>강원</td>\n",
              "      <td>그외 기타 분류안된 오락관련 서비스업</td>\n",
              "      <td>5.950000e+02</td>\n",
              "    </tr>\n",
              "  </tbody>\n",
              "</table>\n",
              "</div>"
            ],
            "text/plain": [
              "    REG_YYMM CARD_SIDO_NM           STD_CLSS_NM           AMT\n",
              "id                                                           \n",
              "0     202004           강원            건강보조식품 소매업  9.978388e+07\n",
              "1     202004           강원               골프장 운영업  1.580230e+09\n",
              "2     202004           강원           과실 및 채소 소매업  7.956864e+08\n",
              "3     202004           강원     관광 민예품 및 선물용품 소매업  8.103089e+06\n",
              "4     202004           강원  그외 기타 분류안된 오락관련 서비스업  5.950000e+02"
            ]
          },
          "metadata": {
            "tags": []
          },
          "execution_count": 29
        }
      ]
    },
    {
      "cell_type": "code",
      "metadata": {
        "id": "XfzEt-YnR7kH",
        "colab_type": "code",
        "colab": {}
      },
      "source": [
        ""
      ],
      "execution_count": null,
      "outputs": []
    }
  ]
}