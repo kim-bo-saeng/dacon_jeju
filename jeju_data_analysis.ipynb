{
  "nbformat": 4,
  "nbformat_minor": 0,
  "metadata": {
    "colab": {
      "name": "jeju_data_analysis.ipynb",
      "provenance": [],
      "collapsed_sections": [],
      "machine_shape": "hm",
      "include_colab_link": true
    },
    "kernelspec": {
      "name": "python3",
      "display_name": "Python 3"
    }
  },
  "cells": [
    {
      "cell_type": "markdown",
      "metadata": {
        "id": "view-in-github",
        "colab_type": "text"
      },
      "source": [
        "<a href=\"https://colab.research.google.com/github/kim-bo-saeng/dacon_jeju/blob/master/jeju_data_analysis.ipynb\" target=\"_parent\"><img src=\"https://colab.research.google.com/assets/colab-badge.svg\" alt=\"Open In Colab\"/></a>"
      ]
    },
    {
      "cell_type": "code",
      "metadata": {
        "id": "JGBX2ZPi8iTT",
        "colab_type": "code",
        "colab": {
          "base_uri": "https://localhost:8080/",
          "height": 127
        },
        "outputId": "2d2441fa-3026-4095-f6a8-13e4c66e42e4"
      },
      "source": [
        "from google.colab import drive\n",
        "drive.mount('/gdrive')"
      ],
      "execution_count": 1,
      "outputs": [
        {
          "output_type": "stream",
          "text": [
            "Go to this URL in a browser: https://accounts.google.com/o/oauth2/auth?client_id=947318989803-6bn6qk8qdgf4n4g3pfee6491hc0brc4i.apps.googleusercontent.com&redirect_uri=urn%3aietf%3awg%3aoauth%3a2.0%3aoob&response_type=code&scope=email%20https%3a%2f%2fwww.googleapis.com%2fauth%2fdocs.test%20https%3a%2f%2fwww.googleapis.com%2fauth%2fdrive%20https%3a%2f%2fwww.googleapis.com%2fauth%2fdrive.photos.readonly%20https%3a%2f%2fwww.googleapis.com%2fauth%2fpeopleapi.readonly\n",
            "\n",
            "Enter your authorization code:\n",
            "··········\n",
            "Mounted at /gdrive\n"
          ],
          "name": "stdout"
        }
      ]
    },
    {
      "cell_type": "markdown",
      "metadata": {
        "id": "aIrEJ7-R88rJ",
        "colab_type": "text"
      },
      "source": [
        "### 라이브러리 가져오기"
      ]
    },
    {
      "cell_type": "code",
      "metadata": {
        "id": "BoPHDAyYQkCK",
        "colab_type": "code",
        "colab": {}
      },
      "source": [
        "import pandas as pd\n",
        "import numpy as np\n",
        "import sklearn as sk\n",
        "from sklearn.ensemble import RandomForestRegressor, GradientBoostingRegressor\n",
        "from sklearn.tree import DecisionTreeRegressor\n",
        "from sklearn.model_selection import RandomizedSearchCV\n",
        "from sklearn.model_selection import cross_val_predict\n",
        "from sklearn.metrics import r2_score\n",
        "from sklearn.preprocessing import LabelEncoder"
      ],
      "execution_count": 2,
      "outputs": []
    },
    {
      "cell_type": "markdown",
      "metadata": {
        "id": "j2TkiTuH9GD4",
        "colab_type": "text"
      },
      "source": [
        "### 데이터 전처리"
      ]
    },
    {
      "cell_type": "code",
      "metadata": {
        "id": "nyAg1rM99Nwj",
        "colab_type": "code",
        "colab": {}
      },
      "source": [
        "def grap_year(data):\n",
        "  data = str(data)\n",
        "  return int(data[:4])\n",
        "\n",
        "def grap_month(data):\n",
        "  data = str(data)\n",
        "  return int(data[4:])"
      ],
      "execution_count": 3,
      "outputs": []
    },
    {
      "cell_type": "code",
      "metadata": {
        "id": "ejHzEzMV9fvM",
        "colab_type": "code",
        "colab": {
          "base_uri": "https://localhost:8080/",
          "height": 222
        },
        "outputId": "e735e111-2f7c-4dbf-93f4-7555c0aa6d81"
      },
      "source": [
        "# 날짜 처리\n",
        "data = pd.read_csv('/gdrive/My Drive/data_analysis/201901-202003.csv')\n",
        "data = data.fillna('')\n",
        "data['year'] = data['REG_YYMM'].apply(lambda x : grap_year(x))\n",
        "data['month'] = data['REG_YYMM'].apply(lambda x : grap_month(x))\n",
        "data = data.drop(['REG_YYMM'], axis = 1)\n",
        "print(data.shape)\n",
        "data.tail()"
      ],
      "execution_count": 4,
      "outputs": [
        {
          "output_type": "stream",
          "text": [
            "(24697792, 13)\n"
          ],
          "name": "stdout"
        },
        {
          "output_type": "execute_result",
          "data": {
            "text/html": [
              "<div>\n",
              "<style scoped>\n",
              "    .dataframe tbody tr th:only-of-type {\n",
              "        vertical-align: middle;\n",
              "    }\n",
              "\n",
              "    .dataframe tbody tr th {\n",
              "        vertical-align: top;\n",
              "    }\n",
              "\n",
              "    .dataframe thead th {\n",
              "        text-align: right;\n",
              "    }\n",
              "</style>\n",
              "<table border=\"1\" class=\"dataframe\">\n",
              "  <thead>\n",
              "    <tr style=\"text-align: right;\">\n",
              "      <th></th>\n",
              "      <th>CARD_SIDO_NM</th>\n",
              "      <th>CARD_CCG_NM</th>\n",
              "      <th>STD_CLSS_NM</th>\n",
              "      <th>HOM_SIDO_NM</th>\n",
              "      <th>HOM_CCG_NM</th>\n",
              "      <th>AGE</th>\n",
              "      <th>SEX_CTGO_CD</th>\n",
              "      <th>FLC</th>\n",
              "      <th>CSTMR_CNT</th>\n",
              "      <th>AMT</th>\n",
              "      <th>CNT</th>\n",
              "      <th>year</th>\n",
              "      <th>month</th>\n",
              "    </tr>\n",
              "  </thead>\n",
              "  <tbody>\n",
              "    <tr>\n",
              "      <th>24697787</th>\n",
              "      <td>충북</td>\n",
              "      <td>충주시</td>\n",
              "      <td>휴양콘도 운영업</td>\n",
              "      <td>충북</td>\n",
              "      <td>충주시</td>\n",
              "      <td>30s</td>\n",
              "      <td>1</td>\n",
              "      <td>2</td>\n",
              "      <td>3</td>\n",
              "      <td>43300</td>\n",
              "      <td>4</td>\n",
              "      <td>2020</td>\n",
              "      <td>3</td>\n",
              "    </tr>\n",
              "    <tr>\n",
              "      <th>24697788</th>\n",
              "      <td>충북</td>\n",
              "      <td>충주시</td>\n",
              "      <td>휴양콘도 운영업</td>\n",
              "      <td>충북</td>\n",
              "      <td>충주시</td>\n",
              "      <td>40s</td>\n",
              "      <td>1</td>\n",
              "      <td>3</td>\n",
              "      <td>3</td>\n",
              "      <td>35000</td>\n",
              "      <td>3</td>\n",
              "      <td>2020</td>\n",
              "      <td>3</td>\n",
              "    </tr>\n",
              "    <tr>\n",
              "      <th>24697789</th>\n",
              "      <td>충북</td>\n",
              "      <td>충주시</td>\n",
              "      <td>휴양콘도 운영업</td>\n",
              "      <td>충북</td>\n",
              "      <td>충주시</td>\n",
              "      <td>50s</td>\n",
              "      <td>1</td>\n",
              "      <td>4</td>\n",
              "      <td>4</td>\n",
              "      <td>188000</td>\n",
              "      <td>6</td>\n",
              "      <td>2020</td>\n",
              "      <td>3</td>\n",
              "    </tr>\n",
              "    <tr>\n",
              "      <th>24697790</th>\n",
              "      <td>충북</td>\n",
              "      <td>충주시</td>\n",
              "      <td>휴양콘도 운영업</td>\n",
              "      <td>충북</td>\n",
              "      <td>충주시</td>\n",
              "      <td>50s</td>\n",
              "      <td>2</td>\n",
              "      <td>4</td>\n",
              "      <td>4</td>\n",
              "      <td>99000</td>\n",
              "      <td>6</td>\n",
              "      <td>2020</td>\n",
              "      <td>3</td>\n",
              "    </tr>\n",
              "    <tr>\n",
              "      <th>24697791</th>\n",
              "      <td>충북</td>\n",
              "      <td>충주시</td>\n",
              "      <td>휴양콘도 운영업</td>\n",
              "      <td>충북</td>\n",
              "      <td>충주시</td>\n",
              "      <td>60s</td>\n",
              "      <td>1</td>\n",
              "      <td>5</td>\n",
              "      <td>3</td>\n",
              "      <td>194000</td>\n",
              "      <td>3</td>\n",
              "      <td>2020</td>\n",
              "      <td>3</td>\n",
              "    </tr>\n",
              "  </tbody>\n",
              "</table>\n",
              "</div>"
            ],
            "text/plain": [
              "         CARD_SIDO_NM CARD_CCG_NM STD_CLSS_NM  ... CNT  year month\n",
              "24697787           충북         충주시    휴양콘도 운영업  ...   4  2020     3\n",
              "24697788           충북         충주시    휴양콘도 운영업  ...   3  2020     3\n",
              "24697789           충북         충주시    휴양콘도 운영업  ...   6  2020     3\n",
              "24697790           충북         충주시    휴양콘도 운영업  ...   6  2020     3\n",
              "24697791           충북         충주시    휴양콘도 운영업  ...   3  2020     3\n",
              "\n",
              "[5 rows x 13 columns]"
            ]
          },
          "metadata": {
            "tags": []
          },
          "execution_count": 4
        }
      ]
    },
    {
      "cell_type": "code",
      "metadata": {
        "id": "qhBSh-6VWakF",
        "colab_type": "code",
        "colab": {
          "base_uri": "https://localhost:8080/",
          "height": 546
        },
        "outputId": "0ca97347-f64e-401d-baee-828c069378d8"
      },
      "source": [
        "# 데이터 정제\n",
        "df = data.copy()\n",
        "df = df.drop(['CARD_CCG_NM', 'HOM_CCG_NM'], axis = 1)\n",
        "\n",
        "columns = ['CARD_SIDO_NM', 'STD_CLSS_NM', 'HOM_SIDO_NM',\t'AGE',\t'SEX_CTGO_CD',\t'FLC',\t'year',\t'month']\n",
        "df = df.groupby(columns).sum().reset_index(drop=False)\n",
        "\n",
        "print(df.info())\n",
        "df.tail()"
      ],
      "execution_count": 7,
      "outputs": [
        {
          "output_type": "stream",
          "text": [
            "<class 'pandas.core.frame.DataFrame'>\n",
            "RangeIndex: 1057394 entries, 0 to 1057393\n",
            "Data columns (total 11 columns):\n",
            " #   Column        Non-Null Count    Dtype \n",
            "---  ------        --------------    ----- \n",
            " 0   CARD_SIDO_NM  1057394 non-null  object\n",
            " 1   STD_CLSS_NM   1057394 non-null  object\n",
            " 2   HOM_SIDO_NM   1057394 non-null  object\n",
            " 3   AGE           1057394 non-null  object\n",
            " 4   SEX_CTGO_CD   1057394 non-null  int64 \n",
            " 5   FLC           1057394 non-null  int64 \n",
            " 6   year          1057394 non-null  int64 \n",
            " 7   month         1057394 non-null  int64 \n",
            " 8   CSTMR_CNT     1057394 non-null  int64 \n",
            " 9   AMT           1057394 non-null  int64 \n",
            " 10  CNT           1057394 non-null  int64 \n",
            "dtypes: int64(7), object(4)\n",
            "memory usage: 88.7+ MB\n",
            "None\n"
          ],
          "name": "stdout"
        },
        {
          "output_type": "execute_result",
          "data": {
            "text/html": [
              "<div>\n",
              "<style scoped>\n",
              "    .dataframe tbody tr th:only-of-type {\n",
              "        vertical-align: middle;\n",
              "    }\n",
              "\n",
              "    .dataframe tbody tr th {\n",
              "        vertical-align: top;\n",
              "    }\n",
              "\n",
              "    .dataframe thead th {\n",
              "        text-align: right;\n",
              "    }\n",
              "</style>\n",
              "<table border=\"1\" class=\"dataframe\">\n",
              "  <thead>\n",
              "    <tr style=\"text-align: right;\">\n",
              "      <th></th>\n",
              "      <th>CARD_SIDO_NM</th>\n",
              "      <th>STD_CLSS_NM</th>\n",
              "      <th>HOM_SIDO_NM</th>\n",
              "      <th>AGE</th>\n",
              "      <th>SEX_CTGO_CD</th>\n",
              "      <th>FLC</th>\n",
              "      <th>year</th>\n",
              "      <th>month</th>\n",
              "      <th>CSTMR_CNT</th>\n",
              "      <th>AMT</th>\n",
              "      <th>CNT</th>\n",
              "    </tr>\n",
              "  </thead>\n",
              "  <tbody>\n",
              "    <tr>\n",
              "      <th>1057389</th>\n",
              "      <td>충북</td>\n",
              "      <td>휴양콘도 운영업</td>\n",
              "      <td>충북</td>\n",
              "      <td>70s</td>\n",
              "      <td>2</td>\n",
              "      <td>5</td>\n",
              "      <td>2019</td>\n",
              "      <td>3</td>\n",
              "      <td>3</td>\n",
              "      <td>148000</td>\n",
              "      <td>4</td>\n",
              "    </tr>\n",
              "    <tr>\n",
              "      <th>1057390</th>\n",
              "      <td>충북</td>\n",
              "      <td>휴양콘도 운영업</td>\n",
              "      <td>충북</td>\n",
              "      <td>70s</td>\n",
              "      <td>2</td>\n",
              "      <td>5</td>\n",
              "      <td>2019</td>\n",
              "      <td>5</td>\n",
              "      <td>5</td>\n",
              "      <td>329800</td>\n",
              "      <td>7</td>\n",
              "    </tr>\n",
              "    <tr>\n",
              "      <th>1057391</th>\n",
              "      <td>충북</td>\n",
              "      <td>휴양콘도 운영업</td>\n",
              "      <td>충북</td>\n",
              "      <td>70s</td>\n",
              "      <td>2</td>\n",
              "      <td>5</td>\n",
              "      <td>2019</td>\n",
              "      <td>10</td>\n",
              "      <td>7</td>\n",
              "      <td>557800</td>\n",
              "      <td>7</td>\n",
              "    </tr>\n",
              "    <tr>\n",
              "      <th>1057392</th>\n",
              "      <td>충북</td>\n",
              "      <td>휴양콘도 운영업</td>\n",
              "      <td>충북</td>\n",
              "      <td>70s</td>\n",
              "      <td>2</td>\n",
              "      <td>5</td>\n",
              "      <td>2019</td>\n",
              "      <td>12</td>\n",
              "      <td>3</td>\n",
              "      <td>247800</td>\n",
              "      <td>3</td>\n",
              "    </tr>\n",
              "    <tr>\n",
              "      <th>1057393</th>\n",
              "      <td>충북</td>\n",
              "      <td>휴양콘도 운영업</td>\n",
              "      <td>충북</td>\n",
              "      <td>70s</td>\n",
              "      <td>2</td>\n",
              "      <td>5</td>\n",
              "      <td>2020</td>\n",
              "      <td>1</td>\n",
              "      <td>3</td>\n",
              "      <td>230400</td>\n",
              "      <td>3</td>\n",
              "    </tr>\n",
              "  </tbody>\n",
              "</table>\n",
              "</div>"
            ],
            "text/plain": [
              "        CARD_SIDO_NM STD_CLSS_NM HOM_SIDO_NM  ... CSTMR_CNT     AMT  CNT\n",
              "1057389           충북    휴양콘도 운영업          충북  ...         3  148000    4\n",
              "1057390           충북    휴양콘도 운영업          충북  ...         5  329800    7\n",
              "1057391           충북    휴양콘도 운영업          충북  ...         7  557800    7\n",
              "1057392           충북    휴양콘도 운영업          충북  ...         3  247800    3\n",
              "1057393           충북    휴양콘도 운영업          충북  ...         3  230400    3\n",
              "\n",
              "[5 rows x 11 columns]"
            ]
          },
          "metadata": {
            "tags": []
          },
          "execution_count": 7
        }
      ]
    },
    {
      "cell_type": "code",
      "metadata": {
        "id": "HTLMmYOqBPyP",
        "colab_type": "code",
        "colab": {
          "base_uri": "https://localhost:8080/",
          "height": 546
        },
        "outputId": "096ea5fc-0d37-4d5e-ab02-5fd9ade53878"
      },
      "source": [
        "# 인코딩\n",
        "dtypes = df.dtypes\n",
        "encoders = {}\n",
        "\n",
        "for column in df.columns:\n",
        "  if str(dtypes[column]) == 'object':\n",
        "    encoder = LabelEncoder()\n",
        "    encoder.fit(df[column])\n",
        "    encoders[column] = encoder\n",
        "\n",
        "df_num = df.copy()\n",
        "for column in encoders.keys():\n",
        "  encoder = encoders[column]\n",
        "  df_num[column] = encoder.transform(df[column])\n",
        "\n",
        "print(df_num.info())\n",
        "df_num.tail()"
      ],
      "execution_count": 8,
      "outputs": [
        {
          "output_type": "stream",
          "text": [
            "<class 'pandas.core.frame.DataFrame'>\n",
            "RangeIndex: 1057394 entries, 0 to 1057393\n",
            "Data columns (total 11 columns):\n",
            " #   Column        Non-Null Count    Dtype\n",
            "---  ------        --------------    -----\n",
            " 0   CARD_SIDO_NM  1057394 non-null  int64\n",
            " 1   STD_CLSS_NM   1057394 non-null  int64\n",
            " 2   HOM_SIDO_NM   1057394 non-null  int64\n",
            " 3   AGE           1057394 non-null  int64\n",
            " 4   SEX_CTGO_CD   1057394 non-null  int64\n",
            " 5   FLC           1057394 non-null  int64\n",
            " 6   year          1057394 non-null  int64\n",
            " 7   month         1057394 non-null  int64\n",
            " 8   CSTMR_CNT     1057394 non-null  int64\n",
            " 9   AMT           1057394 non-null  int64\n",
            " 10  CNT           1057394 non-null  int64\n",
            "dtypes: int64(11)\n",
            "memory usage: 88.7 MB\n",
            "None\n"
          ],
          "name": "stdout"
        },
        {
          "output_type": "execute_result",
          "data": {
            "text/html": [
              "<div>\n",
              "<style scoped>\n",
              "    .dataframe tbody tr th:only-of-type {\n",
              "        vertical-align: middle;\n",
              "    }\n",
              "\n",
              "    .dataframe tbody tr th {\n",
              "        vertical-align: top;\n",
              "    }\n",
              "\n",
              "    .dataframe thead th {\n",
              "        text-align: right;\n",
              "    }\n",
              "</style>\n",
              "<table border=\"1\" class=\"dataframe\">\n",
              "  <thead>\n",
              "    <tr style=\"text-align: right;\">\n",
              "      <th></th>\n",
              "      <th>CARD_SIDO_NM</th>\n",
              "      <th>STD_CLSS_NM</th>\n",
              "      <th>HOM_SIDO_NM</th>\n",
              "      <th>AGE</th>\n",
              "      <th>SEX_CTGO_CD</th>\n",
              "      <th>FLC</th>\n",
              "      <th>year</th>\n",
              "      <th>month</th>\n",
              "      <th>CSTMR_CNT</th>\n",
              "      <th>AMT</th>\n",
              "      <th>CNT</th>\n",
              "    </tr>\n",
              "  </thead>\n",
              "  <tbody>\n",
              "    <tr>\n",
              "      <th>1057389</th>\n",
              "      <td>16</td>\n",
              "      <td>40</td>\n",
              "      <td>16</td>\n",
              "      <td>6</td>\n",
              "      <td>2</td>\n",
              "      <td>5</td>\n",
              "      <td>2019</td>\n",
              "      <td>3</td>\n",
              "      <td>3</td>\n",
              "      <td>148000</td>\n",
              "      <td>4</td>\n",
              "    </tr>\n",
              "    <tr>\n",
              "      <th>1057390</th>\n",
              "      <td>16</td>\n",
              "      <td>40</td>\n",
              "      <td>16</td>\n",
              "      <td>6</td>\n",
              "      <td>2</td>\n",
              "      <td>5</td>\n",
              "      <td>2019</td>\n",
              "      <td>5</td>\n",
              "      <td>5</td>\n",
              "      <td>329800</td>\n",
              "      <td>7</td>\n",
              "    </tr>\n",
              "    <tr>\n",
              "      <th>1057391</th>\n",
              "      <td>16</td>\n",
              "      <td>40</td>\n",
              "      <td>16</td>\n",
              "      <td>6</td>\n",
              "      <td>2</td>\n",
              "      <td>5</td>\n",
              "      <td>2019</td>\n",
              "      <td>10</td>\n",
              "      <td>7</td>\n",
              "      <td>557800</td>\n",
              "      <td>7</td>\n",
              "    </tr>\n",
              "    <tr>\n",
              "      <th>1057392</th>\n",
              "      <td>16</td>\n",
              "      <td>40</td>\n",
              "      <td>16</td>\n",
              "      <td>6</td>\n",
              "      <td>2</td>\n",
              "      <td>5</td>\n",
              "      <td>2019</td>\n",
              "      <td>12</td>\n",
              "      <td>3</td>\n",
              "      <td>247800</td>\n",
              "      <td>3</td>\n",
              "    </tr>\n",
              "    <tr>\n",
              "      <th>1057393</th>\n",
              "      <td>16</td>\n",
              "      <td>40</td>\n",
              "      <td>16</td>\n",
              "      <td>6</td>\n",
              "      <td>2</td>\n",
              "      <td>5</td>\n",
              "      <td>2020</td>\n",
              "      <td>1</td>\n",
              "      <td>3</td>\n",
              "      <td>230400</td>\n",
              "      <td>3</td>\n",
              "    </tr>\n",
              "  </tbody>\n",
              "</table>\n",
              "</div>"
            ],
            "text/plain": [
              "         CARD_SIDO_NM  STD_CLSS_NM  HOM_SIDO_NM  ...  CSTMR_CNT     AMT  CNT\n",
              "1057389            16           40           16  ...          3  148000    4\n",
              "1057390            16           40           16  ...          5  329800    7\n",
              "1057391            16           40           16  ...          7  557800    7\n",
              "1057392            16           40           16  ...          3  247800    3\n",
              "1057393            16           40           16  ...          3  230400    3\n",
              "\n",
              "[5 rows x 11 columns]"
            ]
          },
          "metadata": {
            "tags": []
          },
          "execution_count": 8
        }
      ]
    },
    {
      "cell_type": "markdown",
      "metadata": {
        "id": "xz5XTffHDvoY",
        "colab_type": "text"
      },
      "source": [
        "### Feature Enginnering & Initial Modeling"
      ]
    },
    {
      "cell_type": "code",
      "metadata": {
        "id": "UufLKGrxCrGX",
        "colab_type": "code",
        "colab": {}
      },
      "source": [
        "train_num = df_num.sample(frac = 1, random_state = 0)\n",
        "train_features = train_num.drop(['CSTMR_CNT',\t'AMT',\t'CNT'], axis = 1)\n",
        "train_target = np.log1p(train_num['AMT'])"
      ],
      "execution_count": 9,
      "outputs": []
    },
    {
      "cell_type": "markdown",
      "metadata": {
        "id": "pSYbWBkcFFr-",
        "colab_type": "text"
      },
      "source": [
        "### Model Tuning & Evaluation"
      ]
    },
    {
      "cell_type": "code",
      "metadata": {
        "id": "_OUDaAyKEy1G",
        "colab_type": "code",
        "colab": {
          "base_uri": "https://localhost:8080/",
          "height": 143
        },
        "outputId": "9f658f5e-1006-4caf-dd37-ad8bc65773f8"
      },
      "source": [
        "model = RandomForestRegressor(n_jobs = -1, random_state = 0)\n",
        "model.fit(train_features, train_target)"
      ],
      "execution_count": 10,
      "outputs": [
        {
          "output_type": "execute_result",
          "data": {
            "text/plain": [
              "RandomForestRegressor(bootstrap=True, ccp_alpha=0.0, criterion='mse',\n",
              "                      max_depth=None, max_features='auto', max_leaf_nodes=None,\n",
              "                      max_samples=None, min_impurity_decrease=0.0,\n",
              "                      min_impurity_split=None, min_samples_leaf=1,\n",
              "                      min_samples_split=2, min_weight_fraction_leaf=0.0,\n",
              "                      n_estimators=100, n_jobs=-1, oob_score=False,\n",
              "                      random_state=0, verbose=0, warm_start=False)"
            ]
          },
          "metadata": {
            "tags": []
          },
          "execution_count": 10
        }
      ]
    },
    {
      "cell_type": "markdown",
      "metadata": {
        "id": "rHNkYBXdvSH6",
        "colab_type": "text"
      },
      "source": [
        "### Conclusion & Discussion"
      ]
    },
    {
      "cell_type": "code",
      "metadata": {
        "id": "RNKWlx5fFXTa",
        "colab_type": "code",
        "colab": {
          "base_uri": "https://localhost:8080/",
          "height": 222
        },
        "outputId": "34a99f5e-2e90-4943-a60c-d156c1043536"
      },
      "source": [
        "# 예측 템플릿 만들기\n",
        "CARD_SIDO_NMs = df_num['CARD_SIDO_NM'].unique()\n",
        "STD_CLSS_NMs  = df_num['STD_CLSS_NM'].unique()\n",
        "HOM_SIDO_NMs  = df_num['HOM_SIDO_NM'].unique()\n",
        "AGEs          = df_num['AGE'].unique()\n",
        "SEX_CTGO_CDs  = df_num['SEX_CTGO_CD'].unique()\n",
        "FLCs          = df_num['FLC'].unique()\n",
        "years         = [2020]\n",
        "months        = [4, 7]\n",
        "\n",
        "temp = []\n",
        "for CARD_SIDO_NM in CARD_SIDO_NMs:\n",
        "    for STD_CLSS_NM in STD_CLSS_NMs:\n",
        "        for HOM_SIDO_NM in HOM_SIDO_NMs:\n",
        "            for AGE in AGEs:\n",
        "                for SEX_CTGO_CD in SEX_CTGO_CDs:\n",
        "                    for FLC in FLCs:\n",
        "                        for year in years:\n",
        "                            for month in months:\n",
        "                                temp.append([CARD_SIDO_NM, STD_CLSS_NM, HOM_SIDO_NM, AGE, SEX_CTGO_CD, FLC, year, month])\n",
        "temp = np.array(temp)\n",
        "temp = pd.DataFrame(data=temp, columns=train_features.columns)\n",
        "print(temp.shape)\n",
        "temp.head()"
      ],
      "execution_count": 21,
      "outputs": [
        {
          "output_type": "stream",
          "text": [
            "(1658860, 8)\n"
          ],
          "name": "stdout"
        },
        {
          "output_type": "execute_result",
          "data": {
            "text/html": [
              "<div>\n",
              "<style scoped>\n",
              "    .dataframe tbody tr th:only-of-type {\n",
              "        vertical-align: middle;\n",
              "    }\n",
              "\n",
              "    .dataframe tbody tr th {\n",
              "        vertical-align: top;\n",
              "    }\n",
              "\n",
              "    .dataframe thead th {\n",
              "        text-align: right;\n",
              "    }\n",
              "</style>\n",
              "<table border=\"1\" class=\"dataframe\">\n",
              "  <thead>\n",
              "    <tr style=\"text-align: right;\">\n",
              "      <th></th>\n",
              "      <th>CARD_SIDO_NM</th>\n",
              "      <th>STD_CLSS_NM</th>\n",
              "      <th>HOM_SIDO_NM</th>\n",
              "      <th>AGE</th>\n",
              "      <th>SEX_CTGO_CD</th>\n",
              "      <th>FLC</th>\n",
              "      <th>year</th>\n",
              "      <th>month</th>\n",
              "    </tr>\n",
              "  </thead>\n",
              "  <tbody>\n",
              "    <tr>\n",
              "      <th>0</th>\n",
              "      <td>0</td>\n",
              "      <td>0</td>\n",
              "      <td>0</td>\n",
              "      <td>1</td>\n",
              "      <td>1</td>\n",
              "      <td>1</td>\n",
              "      <td>2020</td>\n",
              "      <td>4</td>\n",
              "    </tr>\n",
              "    <tr>\n",
              "      <th>1</th>\n",
              "      <td>0</td>\n",
              "      <td>0</td>\n",
              "      <td>0</td>\n",
              "      <td>1</td>\n",
              "      <td>1</td>\n",
              "      <td>1</td>\n",
              "      <td>2020</td>\n",
              "      <td>7</td>\n",
              "    </tr>\n",
              "    <tr>\n",
              "      <th>2</th>\n",
              "      <td>0</td>\n",
              "      <td>0</td>\n",
              "      <td>0</td>\n",
              "      <td>1</td>\n",
              "      <td>1</td>\n",
              "      <td>2</td>\n",
              "      <td>2020</td>\n",
              "      <td>4</td>\n",
              "    </tr>\n",
              "    <tr>\n",
              "      <th>3</th>\n",
              "      <td>0</td>\n",
              "      <td>0</td>\n",
              "      <td>0</td>\n",
              "      <td>1</td>\n",
              "      <td>1</td>\n",
              "      <td>2</td>\n",
              "      <td>2020</td>\n",
              "      <td>7</td>\n",
              "    </tr>\n",
              "    <tr>\n",
              "      <th>4</th>\n",
              "      <td>0</td>\n",
              "      <td>0</td>\n",
              "      <td>0</td>\n",
              "      <td>1</td>\n",
              "      <td>1</td>\n",
              "      <td>3</td>\n",
              "      <td>2020</td>\n",
              "      <td>4</td>\n",
              "    </tr>\n",
              "  </tbody>\n",
              "</table>\n",
              "</div>"
            ],
            "text/plain": [
              "   CARD_SIDO_NM  STD_CLSS_NM  HOM_SIDO_NM  AGE  SEX_CTGO_CD  FLC  year  month\n",
              "0             0            0            0    1            1    1  2020      4\n",
              "1             0            0            0    1            1    1  2020      7\n",
              "2             0            0            0    1            1    2  2020      4\n",
              "3             0            0            0    1            1    2  2020      7\n",
              "4             0            0            0    1            1    3  2020      4"
            ]
          },
          "metadata": {
            "tags": []
          },
          "execution_count": 21
        }
      ]
    },
    {
      "cell_type": "code",
      "metadata": {
        "id": "pL4PiHiAwgGd",
        "colab_type": "code",
        "colab": {
          "base_uri": "https://localhost:8080/",
          "height": 419
        },
        "outputId": "342939b1-2990-495a-8d7f-06f58b09c6d7"
      },
      "source": [
        "# 예측\n",
        "predict = model.predict(temp)\n",
        "predict = np.expm1(predict)\n",
        "temp['AMT'] = np.round(predict, 0)\n",
        "temp['REG_YYMM'] = temp['year']*100 + temp['month']\n",
        "temp = temp[['REG_YYMM', 'CARD_SIDO_NM', 'STD_CLSS_NM', 'AMT']]\n",
        "temp = temp.groupby(['REG_YYMM', 'CARD_SIDO_NM', 'STD_CLSS_NM']).sum().reset_index(drop=False)\n",
        "temp"
      ],
      "execution_count": 22,
      "outputs": [
        {
          "output_type": "execute_result",
          "data": {
            "text/html": [
              "<div>\n",
              "<style scoped>\n",
              "    .dataframe tbody tr th:only-of-type {\n",
              "        vertical-align: middle;\n",
              "    }\n",
              "\n",
              "    .dataframe tbody tr th {\n",
              "        vertical-align: top;\n",
              "    }\n",
              "\n",
              "    .dataframe thead th {\n",
              "        text-align: right;\n",
              "    }\n",
              "</style>\n",
              "<table border=\"1\" class=\"dataframe\">\n",
              "  <thead>\n",
              "    <tr style=\"text-align: right;\">\n",
              "      <th></th>\n",
              "      <th>REG_YYMM</th>\n",
              "      <th>CARD_SIDO_NM</th>\n",
              "      <th>STD_CLSS_NM</th>\n",
              "      <th>AMT</th>\n",
              "    </tr>\n",
              "  </thead>\n",
              "  <tbody>\n",
              "    <tr>\n",
              "      <th>0</th>\n",
              "      <td>202004</td>\n",
              "      <td>0</td>\n",
              "      <td>0</td>\n",
              "      <td>5.074107e+08</td>\n",
              "    </tr>\n",
              "    <tr>\n",
              "      <th>1</th>\n",
              "      <td>202004</td>\n",
              "      <td>0</td>\n",
              "      <td>1</td>\n",
              "      <td>6.962323e+09</td>\n",
              "    </tr>\n",
              "    <tr>\n",
              "      <th>2</th>\n",
              "      <td>202004</td>\n",
              "      <td>0</td>\n",
              "      <td>2</td>\n",
              "      <td>1.815306e+09</td>\n",
              "    </tr>\n",
              "    <tr>\n",
              "      <th>3</th>\n",
              "      <td>202004</td>\n",
              "      <td>0</td>\n",
              "      <td>3</td>\n",
              "      <td>9.742804e+07</td>\n",
              "    </tr>\n",
              "    <tr>\n",
              "      <th>4</th>\n",
              "      <td>202004</td>\n",
              "      <td>0</td>\n",
              "      <td>4</td>\n",
              "      <td>9.379857e+07</td>\n",
              "    </tr>\n",
              "    <tr>\n",
              "      <th>...</th>\n",
              "      <td>...</td>\n",
              "      <td>...</td>\n",
              "      <td>...</td>\n",
              "      <td>...</td>\n",
              "    </tr>\n",
              "    <tr>\n",
              "      <th>1389</th>\n",
              "      <td>202007</td>\n",
              "      <td>16</td>\n",
              "      <td>36</td>\n",
              "      <td>1.805664e+09</td>\n",
              "    </tr>\n",
              "    <tr>\n",
              "      <th>1390</th>\n",
              "      <td>202007</td>\n",
              "      <td>16</td>\n",
              "      <td>37</td>\n",
              "      <td>2.552181e+10</td>\n",
              "    </tr>\n",
              "    <tr>\n",
              "      <th>1391</th>\n",
              "      <td>202007</td>\n",
              "      <td>16</td>\n",
              "      <td>38</td>\n",
              "      <td>2.060235e+08</td>\n",
              "    </tr>\n",
              "    <tr>\n",
              "      <th>1392</th>\n",
              "      <td>202007</td>\n",
              "      <td>16</td>\n",
              "      <td>39</td>\n",
              "      <td>1.307819e+09</td>\n",
              "    </tr>\n",
              "    <tr>\n",
              "      <th>1393</th>\n",
              "      <td>202007</td>\n",
              "      <td>16</td>\n",
              "      <td>40</td>\n",
              "      <td>4.934440e+08</td>\n",
              "    </tr>\n",
              "  </tbody>\n",
              "</table>\n",
              "<p>1394 rows × 4 columns</p>\n",
              "</div>"
            ],
            "text/plain": [
              "      REG_YYMM  CARD_SIDO_NM  STD_CLSS_NM           AMT\n",
              "0       202004             0            0  5.074107e+08\n",
              "1       202004             0            1  6.962323e+09\n",
              "2       202004             0            2  1.815306e+09\n",
              "3       202004             0            3  9.742804e+07\n",
              "4       202004             0            4  9.379857e+07\n",
              "...        ...           ...          ...           ...\n",
              "1389    202007            16           36  1.805664e+09\n",
              "1390    202007            16           37  2.552181e+10\n",
              "1391    202007            16           38  2.060235e+08\n",
              "1392    202007            16           39  1.307819e+09\n",
              "1393    202007            16           40  4.934440e+08\n",
              "\n",
              "[1394 rows x 4 columns]"
            ]
          },
          "metadata": {
            "tags": []
          },
          "execution_count": 22
        }
      ]
    },
    {
      "cell_type": "code",
      "metadata": {
        "id": "EwMi1FJcxQ5j",
        "colab_type": "code",
        "colab": {}
      },
      "source": [
        "# 디코딩\n",
        "temp['CARD_SIDO_NM'] = encoders['CARD_SIDO_NM'].inverse_transform(temp['CARD_SIDO_NM'])\n",
        "temp['STD_CLSS_NM'] = encoders['STD_CLSS_NM'].inverse_transform(temp['STD_CLSS_NM'])"
      ],
      "execution_count": 23,
      "outputs": []
    },
    {
      "cell_type": "code",
      "metadata": {
        "id": "Me9F1q6YyZbu",
        "colab_type": "code",
        "colab": {
          "base_uri": "https://localhost:8080/",
          "height": 235
        },
        "outputId": "beb33921-8fb6-4b88-8d1d-10891ba01f5d"
      },
      "source": [
        "# 제출 파일 만들기\n",
        "submission = pd.read_csv('/gdrive/My Drive/data_analysis/submission.csv', index_col=0)\n",
        "submission = submission.drop(['AMT'], axis=1)\n",
        "submission = submission.merge(temp, left_on=['REG_YYMM', 'CARD_SIDO_NM', 'STD_CLSS_NM'], right_on=['REG_YYMM', 'CARD_SIDO_NM', 'STD_CLSS_NM'], how='left')\n",
        "submission.index.name = 'id'\n",
        "submission.to_csv('/gdrive/My Drive/data_analysis/submission_01.csv', encoding='utf-8-sig')\n",
        "submission.head()"
      ],
      "execution_count": 26,
      "outputs": [
        {
          "output_type": "execute_result",
          "data": {
            "text/html": [
              "<div>\n",
              "<style scoped>\n",
              "    .dataframe tbody tr th:only-of-type {\n",
              "        vertical-align: middle;\n",
              "    }\n",
              "\n",
              "    .dataframe tbody tr th {\n",
              "        vertical-align: top;\n",
              "    }\n",
              "\n",
              "    .dataframe thead th {\n",
              "        text-align: right;\n",
              "    }\n",
              "</style>\n",
              "<table border=\"1\" class=\"dataframe\">\n",
              "  <thead>\n",
              "    <tr style=\"text-align: right;\">\n",
              "      <th></th>\n",
              "      <th>REG_YYMM</th>\n",
              "      <th>CARD_SIDO_NM</th>\n",
              "      <th>STD_CLSS_NM</th>\n",
              "      <th>AMT</th>\n",
              "    </tr>\n",
              "    <tr>\n",
              "      <th>id</th>\n",
              "      <th></th>\n",
              "      <th></th>\n",
              "      <th></th>\n",
              "      <th></th>\n",
              "    </tr>\n",
              "  </thead>\n",
              "  <tbody>\n",
              "    <tr>\n",
              "      <th>0</th>\n",
              "      <td>202004</td>\n",
              "      <td>강원</td>\n",
              "      <td>건강보조식품 소매업</td>\n",
              "      <td>5.074107e+08</td>\n",
              "    </tr>\n",
              "    <tr>\n",
              "      <th>1</th>\n",
              "      <td>202004</td>\n",
              "      <td>강원</td>\n",
              "      <td>골프장 운영업</td>\n",
              "      <td>6.962323e+09</td>\n",
              "    </tr>\n",
              "    <tr>\n",
              "      <th>2</th>\n",
              "      <td>202004</td>\n",
              "      <td>강원</td>\n",
              "      <td>과실 및 채소 소매업</td>\n",
              "      <td>1.815306e+09</td>\n",
              "    </tr>\n",
              "    <tr>\n",
              "      <th>3</th>\n",
              "      <td>202004</td>\n",
              "      <td>강원</td>\n",
              "      <td>관광 민예품 및 선물용품 소매업</td>\n",
              "      <td>9.742804e+07</td>\n",
              "    </tr>\n",
              "    <tr>\n",
              "      <th>4</th>\n",
              "      <td>202004</td>\n",
              "      <td>강원</td>\n",
              "      <td>그외 기타 분류안된 오락관련 서비스업</td>\n",
              "      <td>9.379857e+07</td>\n",
              "    </tr>\n",
              "  </tbody>\n",
              "</table>\n",
              "</div>"
            ],
            "text/plain": [
              "    REG_YYMM CARD_SIDO_NM           STD_CLSS_NM           AMT\n",
              "id                                                           \n",
              "0     202004           강원            건강보조식품 소매업  5.074107e+08\n",
              "1     202004           강원               골프장 운영업  6.962323e+09\n",
              "2     202004           강원           과실 및 채소 소매업  1.815306e+09\n",
              "3     202004           강원     관광 민예품 및 선물용품 소매업  9.742804e+07\n",
              "4     202004           강원  그외 기타 분류안된 오락관련 서비스업  9.379857e+07"
            ]
          },
          "metadata": {
            "tags": []
          },
          "execution_count": 26
        }
      ]
    },
    {
      "cell_type": "code",
      "metadata": {
        "id": "ptNn9XS_ybHC",
        "colab_type": "code",
        "colab": {}
      },
      "source": [
        ""
      ],
      "execution_count": null,
      "outputs": []
    }
  ]
}